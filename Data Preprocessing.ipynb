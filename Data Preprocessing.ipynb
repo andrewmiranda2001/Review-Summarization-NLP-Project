{
 "cells": [
  {
   "cell_type": "code",
   "execution_count": 1,
   "id": "f88aad3f",
   "metadata": {
    "_cell_guid": "b1076dfc-b9ad-4769-8c92-a6c4dae69d19",
    "_uuid": "8f2839f25d086af736a60e9eeb907d3b93b6e0e5",
    "execution": {
     "iopub.execute_input": "2023-11-25T09:25:22.093849Z",
     "iopub.status.busy": "2023-11-25T09:25:22.093134Z",
     "iopub.status.idle": "2023-11-25T09:25:22.556295Z",
     "shell.execute_reply": "2023-11-25T09:25:22.554987Z"
    },
    "papermill": {
     "duration": 0.479297,
     "end_time": "2023-11-25T09:25:22.559748",
     "exception": false,
     "start_time": "2023-11-25T09:25:22.080451",
     "status": "completed"
    },
    "tags": []
   },
   "outputs": [
    {
     "name": "stdout",
     "output_type": "stream",
     "text": [
      "/kaggle/input/amazon-fine-food-reviews/hashes.txt\n",
      "/kaggle/input/amazon-fine-food-reviews/Reviews.csv\n",
      "/kaggle/input/amazon-fine-food-reviews/database.sqlite\n"
     ]
    }
   ],
   "source": [
    "# This Python 3 environment comes with many helpful analytics libraries installed\n",
    "# It is defined by the kaggle/python Docker image: https://github.com/kaggle/docker-python\n",
    "# For example, here's several helpful packages to load\n",
    "import pandas as pd\n",
    "import re\n",
    "from pickle import dump, load\n",
    "# Input data files are available in the read-only \"../input/\" directory\n",
    "# For example, running this (by clicking run or pressing Shift+Enter) will list all files under the input directory\n",
    "\n",
    "import os\n",
    "for dirname, _, filenames in os.walk('/kaggle/input'):\n",
    "    for filename in filenames:\n",
    "        print(os.path.join(dirname, filename))\n",
    "\n",
    "# You can write up to 20GB to the current directory (/kaggle/working/) that gets preserved as output when you create a version using \"Save & Run All\" \n",
    "# You can also write temporary files to /kaggle/temp/, but they won't be saved outside of the current session"
   ]
  },
  {
   "cell_type": "code",
   "execution_count": 2,
   "id": "16d074d2",
   "metadata": {
    "execution": {
     "iopub.execute_input": "2023-11-25T09:25:22.578839Z",
     "iopub.status.busy": "2023-11-25T09:25:22.578144Z",
     "iopub.status.idle": "2023-11-25T09:25:31.814178Z",
     "shell.execute_reply": "2023-11-25T09:25:31.812818Z"
    },
    "papermill": {
     "duration": 9.249549,
     "end_time": "2023-11-25T09:25:31.817211",
     "exception": false,
     "start_time": "2023-11-25T09:25:22.567662",
     "status": "completed"
    },
    "tags": []
   },
   "outputs": [
    {
     "name": "stdout",
     "output_type": "stream",
     "text": [
      "(568454, 10)\n"
     ]
    },
    {
     "data": {
      "text/html": [
       "<div>\n",
       "<style scoped>\n",
       "    .dataframe tbody tr th:only-of-type {\n",
       "        vertical-align: middle;\n",
       "    }\n",
       "\n",
       "    .dataframe tbody tr th {\n",
       "        vertical-align: top;\n",
       "    }\n",
       "\n",
       "    .dataframe thead th {\n",
       "        text-align: right;\n",
       "    }\n",
       "</style>\n",
       "<table border=\"1\" class=\"dataframe\">\n",
       "  <thead>\n",
       "    <tr style=\"text-align: right;\">\n",
       "      <th></th>\n",
       "      <th>Id</th>\n",
       "      <th>ProductId</th>\n",
       "      <th>UserId</th>\n",
       "      <th>ProfileName</th>\n",
       "      <th>HelpfulnessNumerator</th>\n",
       "      <th>HelpfulnessDenominator</th>\n",
       "      <th>Score</th>\n",
       "      <th>Time</th>\n",
       "      <th>Summary</th>\n",
       "      <th>Text</th>\n",
       "    </tr>\n",
       "  </thead>\n",
       "  <tbody>\n",
       "    <tr>\n",
       "      <th>0</th>\n",
       "      <td>1</td>\n",
       "      <td>B001E4KFG0</td>\n",
       "      <td>A3SGXH7AUHU8GW</td>\n",
       "      <td>delmartian</td>\n",
       "      <td>1</td>\n",
       "      <td>1</td>\n",
       "      <td>5</td>\n",
       "      <td>1303862400</td>\n",
       "      <td>Good Quality Dog Food</td>\n",
       "      <td>I have bought several of the Vitality canned d...</td>\n",
       "    </tr>\n",
       "    <tr>\n",
       "      <th>1</th>\n",
       "      <td>2</td>\n",
       "      <td>B00813GRG4</td>\n",
       "      <td>A1D87F6ZCVE5NK</td>\n",
       "      <td>dll pa</td>\n",
       "      <td>0</td>\n",
       "      <td>0</td>\n",
       "      <td>1</td>\n",
       "      <td>1346976000</td>\n",
       "      <td>Not as Advertised</td>\n",
       "      <td>Product arrived labeled as Jumbo Salted Peanut...</td>\n",
       "    </tr>\n",
       "    <tr>\n",
       "      <th>2</th>\n",
       "      <td>3</td>\n",
       "      <td>B000LQOCH0</td>\n",
       "      <td>ABXLMWJIXXAIN</td>\n",
       "      <td>Natalia Corres \"Natalia Corres\"</td>\n",
       "      <td>1</td>\n",
       "      <td>1</td>\n",
       "      <td>4</td>\n",
       "      <td>1219017600</td>\n",
       "      <td>\"Delight\" says it all</td>\n",
       "      <td>This is a confection that has been around a fe...</td>\n",
       "    </tr>\n",
       "    <tr>\n",
       "      <th>3</th>\n",
       "      <td>4</td>\n",
       "      <td>B000UA0QIQ</td>\n",
       "      <td>A395BORC6FGVXV</td>\n",
       "      <td>Karl</td>\n",
       "      <td>3</td>\n",
       "      <td>3</td>\n",
       "      <td>2</td>\n",
       "      <td>1307923200</td>\n",
       "      <td>Cough Medicine</td>\n",
       "      <td>If you are looking for the secret ingredient i...</td>\n",
       "    </tr>\n",
       "    <tr>\n",
       "      <th>4</th>\n",
       "      <td>5</td>\n",
       "      <td>B006K2ZZ7K</td>\n",
       "      <td>A1UQRSCLF8GW1T</td>\n",
       "      <td>Michael D. Bigham \"M. Wassir\"</td>\n",
       "      <td>0</td>\n",
       "      <td>0</td>\n",
       "      <td>5</td>\n",
       "      <td>1350777600</td>\n",
       "      <td>Great taffy</td>\n",
       "      <td>Great taffy at a great price.  There was a wid...</td>\n",
       "    </tr>\n",
       "  </tbody>\n",
       "</table>\n",
       "</div>"
      ],
      "text/plain": [
       "   Id   ProductId          UserId                      ProfileName  \\\n",
       "0   1  B001E4KFG0  A3SGXH7AUHU8GW                       delmartian   \n",
       "1   2  B00813GRG4  A1D87F6ZCVE5NK                           dll pa   \n",
       "2   3  B000LQOCH0   ABXLMWJIXXAIN  Natalia Corres \"Natalia Corres\"   \n",
       "3   4  B000UA0QIQ  A395BORC6FGVXV                             Karl   \n",
       "4   5  B006K2ZZ7K  A1UQRSCLF8GW1T    Michael D. Bigham \"M. Wassir\"   \n",
       "\n",
       "   HelpfulnessNumerator  HelpfulnessDenominator  Score        Time  \\\n",
       "0                     1                       1      5  1303862400   \n",
       "1                     0                       0      1  1346976000   \n",
       "2                     1                       1      4  1219017600   \n",
       "3                     3                       3      2  1307923200   \n",
       "4                     0                       0      5  1350777600   \n",
       "\n",
       "                 Summary                                               Text  \n",
       "0  Good Quality Dog Food  I have bought several of the Vitality canned d...  \n",
       "1      Not as Advertised  Product arrived labeled as Jumbo Salted Peanut...  \n",
       "2  \"Delight\" says it all  This is a confection that has been around a fe...  \n",
       "3         Cough Medicine  If you are looking for the secret ingredient i...  \n",
       "4            Great taffy  Great taffy at a great price.  There was a wid...  "
      ]
     },
     "execution_count": 2,
     "metadata": {},
     "output_type": "execute_result"
    }
   ],
   "source": [
    "reviews = pd.read_csv('/kaggle/input/amazon-fine-food-reviews/Reviews.csv')\n",
    "print(reviews.shape)\n",
    "reviews.head()"
   ]
  },
  {
   "cell_type": "code",
   "execution_count": 3,
   "id": "2d23aa94",
   "metadata": {
    "execution": {
     "iopub.execute_input": "2023-11-25T09:25:31.835534Z",
     "iopub.status.busy": "2023-11-25T09:25:31.835102Z",
     "iopub.status.idle": "2023-11-25T09:25:32.608155Z",
     "shell.execute_reply": "2023-11-25T09:25:32.606625Z"
    },
    "papermill": {
     "duration": 0.785705,
     "end_time": "2023-11-25T09:25:32.611060",
     "exception": false,
     "start_time": "2023-11-25T09:25:31.825355",
     "status": "completed"
    },
    "tags": []
   },
   "outputs": [
    {
     "name": "stdout",
     "output_type": "stream",
     "text": [
      "(568401, 2)\n"
     ]
    },
    {
     "data": {
      "text/html": [
       "<div>\n",
       "<style scoped>\n",
       "    .dataframe tbody tr th:only-of-type {\n",
       "        vertical-align: middle;\n",
       "    }\n",
       "\n",
       "    .dataframe tbody tr th {\n",
       "        vertical-align: top;\n",
       "    }\n",
       "\n",
       "    .dataframe thead th {\n",
       "        text-align: right;\n",
       "    }\n",
       "</style>\n",
       "<table border=\"1\" class=\"dataframe\">\n",
       "  <thead>\n",
       "    <tr style=\"text-align: right;\">\n",
       "      <th></th>\n",
       "      <th>Summary</th>\n",
       "      <th>Text</th>\n",
       "    </tr>\n",
       "  </thead>\n",
       "  <tbody>\n",
       "    <tr>\n",
       "      <th>0</th>\n",
       "      <td>Good Quality Dog Food</td>\n",
       "      <td>I have bought several of the Vitality canned d...</td>\n",
       "    </tr>\n",
       "    <tr>\n",
       "      <th>1</th>\n",
       "      <td>Not as Advertised</td>\n",
       "      <td>Product arrived labeled as Jumbo Salted Peanut...</td>\n",
       "    </tr>\n",
       "    <tr>\n",
       "      <th>2</th>\n",
       "      <td>\"Delight\" says it all</td>\n",
       "      <td>This is a confection that has been around a fe...</td>\n",
       "    </tr>\n",
       "    <tr>\n",
       "      <th>3</th>\n",
       "      <td>Cough Medicine</td>\n",
       "      <td>If you are looking for the secret ingredient i...</td>\n",
       "    </tr>\n",
       "    <tr>\n",
       "      <th>4</th>\n",
       "      <td>Great taffy</td>\n",
       "      <td>Great taffy at a great price.  There was a wid...</td>\n",
       "    </tr>\n",
       "  </tbody>\n",
       "</table>\n",
       "</div>"
      ],
      "text/plain": [
       "                 Summary                                               Text\n",
       "0  Good Quality Dog Food  I have bought several of the Vitality canned d...\n",
       "1      Not as Advertised  Product arrived labeled as Jumbo Salted Peanut...\n",
       "2  \"Delight\" says it all  This is a confection that has been around a fe...\n",
       "3         Cough Medicine  If you are looking for the secret ingredient i...\n",
       "4            Great taffy  Great taffy at a great price.  There was a wid..."
      ]
     },
     "execution_count": 3,
     "metadata": {},
     "output_type": "execute_result"
    }
   ],
   "source": [
    "product_distribution = reviews['ProductId'].value_counts().reset_index(name='Count')\n",
    "\n",
    "reviews = reviews.dropna()\n",
    "columns_to_drop = ['Id', 'ProductId', 'UserId', 'ProfileName', 'HelpfulnessNumerator', 'HelpfulnessDenominator', 'Score', 'Time']\n",
    "reviews = reviews.drop(columns=columns_to_drop)\n",
    "\n",
    "reviews = reviews.reset_index(drop=True)\n",
    "\n",
    "print(reviews.shape)\n",
    "reviews.head()"
   ]
  },
  {
   "cell_type": "code",
   "execution_count": 4,
   "id": "a088f194",
   "metadata": {
    "execution": {
     "iopub.execute_input": "2023-11-25T09:25:32.630843Z",
     "iopub.status.busy": "2023-11-25T09:25:32.630325Z",
     "iopub.status.idle": "2023-11-25T09:25:39.575815Z",
     "shell.execute_reply": "2023-11-25T09:25:39.574463Z"
    },
    "papermill": {
     "duration": 6.958852,
     "end_time": "2023-11-25T09:25:39.578638",
     "exception": false,
     "start_time": "2023-11-25T09:25:32.619786",
     "status": "completed"
    },
    "tags": []
   },
   "outputs": [
    {
     "data": {
      "image/png": "[encoded data removed]",
      "text/plain": [
       "<Figure size 1200x600 with 1 Axes>"
      ]
     },
     "metadata": {},
     "output_type": "display_data"
    }
   ],
   "source": [
    "import matplotlib.pyplot as plt\n",
    "from collections import defaultdict\n",
    "\n",
    "num_reviews = defaultdict(int)\n",
    "\n",
    "for index, row in product_distribution.iterrows():\n",
    "    product_id = row['ProductId']\n",
    "    count = row['Count']\n",
    "    num_reviews[count] += 1\n",
    "\n",
    "num_reviews = {k: v for k, v in sorted(num_reviews.items(), key=lambda item: item[1], reverse=True)}\n",
    "\n",
    "plt.figure(figsize=(12, 6))\n",
    "plt.bar(num_reviews.keys(), num_reviews.values(), color='blue')\n",
    "plt.xlabel('Number of Reviews')\n",
    "plt.ylabel('Number of Products')\n",
    "plt.title('Distribution of Products by Number of Reviews')\n",
    "plt.yscale('log')\n",
    "plt.show()"
   ]
  },
  {
   "cell_type": "code",
   "execution_count": 5,
   "id": "a133379e",
   "metadata": {
    "execution": {
     "iopub.execute_input": "2023-11-25T09:25:39.598464Z",
     "iopub.status.busy": "2023-11-25T09:25:39.597948Z",
     "iopub.status.idle": "2023-11-25T09:25:39.619150Z",
     "shell.execute_reply": "2023-11-25T09:25:39.617723Z"
    },
    "papermill": {
     "duration": 0.034726,
     "end_time": "2023-11-25T09:25:39.622059",
     "exception": false,
     "start_time": "2023-11-25T09:25:39.587333",
     "status": "completed"
    },
    "tags": []
   },
   "outputs": [],
   "source": [
    "contractions_dict = {\"ain't\": 'am not', \"aren't\": 'are not', \"can't\": 'cannot', \"can't've\": 'cannot have', \"cuz\": 'because', \"could've\": 'could have', \"couldn't\": 'could not', \"couldn't've\": 'could not have', \"didn't\": 'did not', \"doesn't\": 'does not', \"don't\": 'do not', \"hadn't\": 'had not', \"hadn't've\": 'had not have', \"hasn't\": 'has not', \"haven't\": 'have not', \"he'd\": 'he would', \"he'd've\": 'he would have', \"he'll\": 'he will', \"he'll've\": 'he will have', \"he's\": 'he is', \"how'd\": 'how did', \"how'd'y\": 'how do you', \"how'll\": 'how will', \"how's\": 'how is', \"I'd\": 'I would', \"I'd've\": 'I would have', \"I'll\": 'I will', \"I'll've\": 'I will have', \"I'm\": 'I am', \"I've\": 'I have', \"isn't\": 'is not', \"it'd\": 'it would', \"it'd've\": 'it would have', \"it'll\": 'it will', \"it'll've\": 'it will have', \"it's\": 'it is', \"let's\": 'let us', \"ma'am\": 'madam', \"mayn't\": 'may not', \"might've\": 'might have', \"mightn't\": 'might not', \"mightn't've\": 'might not have', \"must've\": 'must have', \"mustn't\": 'must not', \"mustn't've\": 'must not have', \"needn't\": 'need not', \"needn't've\": 'need not have', \"o'clock\": 'of the clock', \"oughtn't\": 'ought not', \"oughtn't've\": 'ought not have', \"shan't\": 'shall not', \"sha'n't\": 'shall not', \"shan't've\": 'shall not have', \"she'd\": 'she would', \"she'd've\": 'she would have', \"she'll\": 'she will', \"she'll've\": 'she will have', \"she's\": 'she is', \"should've\": 'should have', \"shouldn't\": 'should not', \"shouldn't've\": 'should not have', \"so've\": 'so have', \"so's\": 'so as', \"that'd\": 'that would', \"that'd've\": 'that would have', \"that's\": 'that is', \"there'd\": 'there had', \"there'd've\": 'there would have', \"there's\": 'there is', \"they'd\": 'they would', \"they'd've\": 'they would have', \"they'll\": 'they will', \"they'll've\": 'they will have', \"they're\": 'they are', \"they've\": 'they have', \"to've\": 'to have', \"wasn't\": 'was not', \"we'd\": 'we would', \"we'd've\": 'we would have', \"we'll\": 'we will', \"we'll've\": 'we will have', \"we're\": 'we are', \"we've\": 'we have', \"weren't\": 'were not', \"what'll\": 'what will', \"what'll've\": 'what will have', \"what're\": 'what are', \"what's\": 'what is', \"what've\": 'what have', \"when's\": 'when is', \"when've\": 'when have', \"where'd\": 'where did', \"where's\": 'where is', \"where've\": 'where have', \"who'll\": 'who will', \"who'll've\": 'who will have', \"who's\": 'who is', \"who've\": 'who have', \"why's\": 'why is', \"why've\": 'why have', \"will've\": 'will have', \"won't\": 'will not', \"won't've\": 'will not have', \"would've\": 'would have', \"wouldn't\": 'would not', \"wouldn't've\": 'would not have', \"y'all\": 'you all', \"y'all'd\": 'you all would', \"y'all'd've\": 'you all would have', \"y'all're\": 'you all are', \"y'all've\": 'you all have', \"you'd\": 'you would', \"you'd've\": 'you would have', \"you'll\": 'you will', \"you'll've\": 'you will have', \"you're\": 'you are', \"you've\": 'you have', \"i'd\": 'i would', \"i'd've\": 'i would have', \"i'll\": 'i will', \"i'll've\": 'i will have', \"i'm\": 'i am', \"i've\": 'i have', \"this's\": 'this is', \"here's\": 'here is', \"ya'll\": 'you all', 'gonna': 'going to', 'gotta': 'got to', 'wanna': 'want to', 'shoulda': 'should have', 'coulda': 'could have', 'woulda': 'would have', 'mighta': 'might have', 'musta': 'must have', 'oughta': 'ought to', 'dunno': 'do not know', 'kinda': 'kind of', 'sorta': 'sort of', 'gotcha': 'got you', 'gimme': 'give me', 'lemme': 'let me', 'wassup': 'what is up', \"c'mon\": 'come on', 'whatcha': 'what are you', 'ya': 'you', 'hafta': 'have to', 'shouldna': 'should not have', 'couldna': 'could not have', 'wouldna': 'would not have', 'mightna': 'might not have', 'mustna': 'must not have', 'oughtna': 'ought not to have', \"amn't\": 'am not'}"
   ]
  },
  {
   "cell_type": "code",
   "execution_count": 6,
   "id": "aa47f6a6",
   "metadata": {
    "execution": {
     "iopub.execute_input": "2023-11-25T09:25:39.643206Z",
     "iopub.status.busy": "2023-11-25T09:25:39.641709Z",
     "iopub.status.idle": "2023-11-25T09:25:39.663240Z",
     "shell.execute_reply": "2023-11-25T09:25:39.661292Z"
    },
    "papermill": {
     "duration": 0.035039,
     "end_time": "2023-11-25T09:25:39.666144",
     "exception": false,
     "start_time": "2023-11-25T09:25:39.631105",
     "status": "completed"
    },
    "tags": []
   },
   "outputs": [
    {
     "name": "stdout",
     "output_type": "stream",
     "text": [
      "Original Review: I can't wassup cuz believe I haven't tried it yet. It's gonna be amazing!\n",
      "Cleaned Review: I cannot what is up because believe I have not tried it yet. it is going to be amazing!\n"
     ]
    }
   ],
   "source": [
    "def replace_contractions(review):\n",
    "    for contraction, expanded_form in contractions_dict.items():\n",
    "        review = re.sub(r'\\b' + re.escape(contraction) + r'\\b', expanded_form, review, flags=re.IGNORECASE)\n",
    "\n",
    "    review = re.sub(' +', ' ', review)\n",
    "\n",
    "    return review\n",
    "\n",
    "original_review = \"I can't wassup cuz believe I haven't tried it yet. It's gonna be amazing!\"\n",
    "cleaned_review = replace_contractions(original_review)\n",
    "print(\"Original Review:\", original_review)\n",
    "print(\"Cleaned Review:\", cleaned_review)"
   ]
  },
  {
   "cell_type": "code",
   "execution_count": 7,
   "id": "c10899b6",
   "metadata": {
    "execution": {
     "iopub.execute_input": "2023-11-25T09:25:39.687025Z",
     "iopub.status.busy": "2023-11-25T09:25:39.686230Z",
     "iopub.status.idle": "2023-11-25T09:25:41.978159Z",
     "shell.execute_reply": "2023-11-25T09:25:41.976774Z"
    },
    "papermill": {
     "duration": 2.305764,
     "end_time": "2023-11-25T09:25:41.981123",
     "exception": false,
     "start_time": "2023-11-25T09:25:39.675359",
     "status": "completed"
    },
    "tags": []
   },
   "outputs": [
    {
     "name": "stdout",
     "output_type": "stream",
     "text": [
      "Original Review: This is a sample review with some common words like 'the', 'and', and 'is'.\n",
      "Review without Stopwords: sample review common words like\n"
     ]
    }
   ],
   "source": [
    "from nltk.corpus import stopwords\n",
    "from nltk.tokenize import word_tokenize\n",
    "def clean_review(review):\n",
    "    review = review.lower()\n",
    "    review = replace_contractions(review)\n",
    "    review = re.sub(r'https?:\\/\\/.*[\\r\\n]*', '', review, flags=re.MULTILINE)\n",
    "    review = re.sub(r'\\<a href', ' ', review)\n",
    "    review = re.sub(r'&amp;', '', review) \n",
    "    review = re.sub(r'[_\"\\-;%()|+&=*%.,!?:#$@\\[\\]/]', ' ', review)\n",
    "    review = re.sub(r'<br />', ' ', review)\n",
    "    review = re.sub(r'\\'', ' ', review)\n",
    "    \n",
    "    words = word_tokenize(review)\n",
    "    filtered_words = [word for word in words if word.isalnum() and word not in stopwords.words('english')]\n",
    "    cleaned_review = ' '.join(filtered_words)\n",
    "\n",
    "    return cleaned_review\n",
    "    \n",
    "original_review = \"This is a sample review with some common words like 'the', 'and', and 'is'.\"\n",
    "review_without_stopwords = clean_review(original_review)\n",
    "print(\"Original Review:\", original_review)\n",
    "print(\"Review without Stopwords:\", review_without_stopwords)"
   ]
  },
  {
   "cell_type": "code",
   "execution_count": 8,
   "id": "332f2737",
   "metadata": {
    "execution": {
     "iopub.execute_input": "2023-11-25T09:25:42.003835Z",
     "iopub.status.busy": "2023-11-25T09:25:42.002905Z",
     "iopub.status.idle": "2023-11-25T09:25:42.017646Z",
     "shell.execute_reply": "2023-11-25T09:25:42.016478Z"
    },
    "papermill": {
     "duration": 0.029318,
     "end_time": "2023-11-25T09:25:42.020486",
     "exception": false,
     "start_time": "2023-11-25T09:25:41.991168",
     "status": "completed"
    },
    "tags": []
   },
   "outputs": [
    {
     "data": {
      "text/html": [
       "<div>\n",
       "<style scoped>\n",
       "    .dataframe tbody tr th:only-of-type {\n",
       "        vertical-align: middle;\n",
       "    }\n",
       "\n",
       "    .dataframe tbody tr th {\n",
       "        vertical-align: top;\n",
       "    }\n",
       "\n",
       "    .dataframe thead th {\n",
       "        text-align: right;\n",
       "    }\n",
       "</style>\n",
       "<table border=\"1\" class=\"dataframe\">\n",
       "  <thead>\n",
       "    <tr style=\"text-align: right;\">\n",
       "      <th></th>\n",
       "      <th>Summary</th>\n",
       "      <th>Text</th>\n",
       "    </tr>\n",
       "  </thead>\n",
       "  <tbody>\n",
       "    <tr>\n",
       "      <th>0</th>\n",
       "      <td>Good Quality Dog Food</td>\n",
       "      <td>I have bought several of the Vitality canned d...</td>\n",
       "    </tr>\n",
       "    <tr>\n",
       "      <th>1</th>\n",
       "      <td>Not as Advertised</td>\n",
       "      <td>Product arrived labeled as Jumbo Salted Peanut...</td>\n",
       "    </tr>\n",
       "    <tr>\n",
       "      <th>2</th>\n",
       "      <td>\"Delight\" says it all</td>\n",
       "      <td>This is a confection that has been around a fe...</td>\n",
       "    </tr>\n",
       "    <tr>\n",
       "      <th>3</th>\n",
       "      <td>Cough Medicine</td>\n",
       "      <td>If you are looking for the secret ingredient i...</td>\n",
       "    </tr>\n",
       "    <tr>\n",
       "      <th>4</th>\n",
       "      <td>Great taffy</td>\n",
       "      <td>Great taffy at a great price.  There was a wid...</td>\n",
       "    </tr>\n",
       "    <tr>\n",
       "      <th>...</th>\n",
       "      <td>...</td>\n",
       "      <td>...</td>\n",
       "    </tr>\n",
       "    <tr>\n",
       "      <th>568396</th>\n",
       "      <td>Will not do without</td>\n",
       "      <td>Great for sesame chicken..this is a good if no...</td>\n",
       "    </tr>\n",
       "    <tr>\n",
       "      <th>568397</th>\n",
       "      <td>disappointed</td>\n",
       "      <td>I'm disappointed with the flavor. The chocolat...</td>\n",
       "    </tr>\n",
       "    <tr>\n",
       "      <th>568398</th>\n",
       "      <td>Perfect for our maltipoo</td>\n",
       "      <td>These stars are small, so you can give 10-15 o...</td>\n",
       "    </tr>\n",
       "    <tr>\n",
       "      <th>568399</th>\n",
       "      <td>Favorite Training and reward treat</td>\n",
       "      <td>These are the BEST treats for training and rew...</td>\n",
       "    </tr>\n",
       "    <tr>\n",
       "      <th>568400</th>\n",
       "      <td>Great Honey</td>\n",
       "      <td>I am very satisfied ,product is as advertised,...</td>\n",
       "    </tr>\n",
       "  </tbody>\n",
       "</table>\n",
       "<p>568401 rows × 2 columns</p>\n",
       "</div>"
      ],
      "text/plain": [
       "                                   Summary  \\\n",
       "0                    Good Quality Dog Food   \n",
       "1                        Not as Advertised   \n",
       "2                    \"Delight\" says it all   \n",
       "3                           Cough Medicine   \n",
       "4                              Great taffy   \n",
       "...                                    ...   \n",
       "568396                 Will not do without   \n",
       "568397                        disappointed   \n",
       "568398            Perfect for our maltipoo   \n",
       "568399  Favorite Training and reward treat   \n",
       "568400                         Great Honey   \n",
       "\n",
       "                                                     Text  \n",
       "0       I have bought several of the Vitality canned d...  \n",
       "1       Product arrived labeled as Jumbo Salted Peanut...  \n",
       "2       This is a confection that has been around a fe...  \n",
       "3       If you are looking for the secret ingredient i...  \n",
       "4       Great taffy at a great price.  There was a wid...  \n",
       "...                                                   ...  \n",
       "568396  Great for sesame chicken..this is a good if no...  \n",
       "568397  I'm disappointed with the flavor. The chocolat...  \n",
       "568398  These stars are small, so you can give 10-15 o...  \n",
       "568399  These are the BEST treats for training and rew...  \n",
       "568400  I am very satisfied ,product is as advertised,...  \n",
       "\n",
       "[568401 rows x 2 columns]"
      ]
     },
     "execution_count": 8,
     "metadata": {},
     "output_type": "execute_result"
    }
   ],
   "source": [
    "reviews"
   ]
  },
  {
   "cell_type": "code",
   "execution_count": 9,
   "id": "80a243d0",
   "metadata": {
    "execution": {
     "iopub.execute_input": "2023-11-25T09:25:42.043099Z",
     "iopub.status.busy": "2023-11-25T09:25:42.042677Z",
     "iopub.status.idle": "2023-11-25T09:40:00.873241Z",
     "shell.execute_reply": "2023-11-25T09:40:00.871782Z"
    },
    "papermill": {
     "duration": 858.845693,
     "end_time": "2023-11-25T09:40:00.876606",
     "exception": false,
     "start_time": "2023-11-25T09:25:42.030913",
     "status": "completed"
    },
    "tags": []
   },
   "outputs": [],
   "source": [
    "cleaned_summary = []\n",
    "i = 0\n",
    "for t in reviews['Summary']:\n",
    "    i += 1\n",
    "    cleaned_summary.append(clean_review(t))"
   ]
  },
  {
   "cell_type": "code",
   "execution_count": 10,
   "id": "22f0a8ba",
   "metadata": {
    "execution": {
     "iopub.execute_input": "2023-11-25T09:40:00.898771Z",
     "iopub.status.busy": "2023-11-25T09:40:00.898228Z",
     "iopub.status.idle": "2023-11-25T12:13:10.749026Z",
     "shell.execute_reply": "2023-11-25T12:13:10.746908Z"
    },
    "papermill": {
     "duration": 9189.865856,
     "end_time": "2023-11-25T12:13:10.752962",
     "exception": false,
     "start_time": "2023-11-25T09:40:00.887106",
     "status": "completed"
    },
    "tags": []
   },
   "outputs": [],
   "source": [
    "cleaned_text = []\n",
    "for t in reviews['Text']:\n",
    "    cleaned_text.append(clean_review(t))"
   ]
  },
  {
   "cell_type": "code",
   "execution_count": 11,
   "id": "0d4f83a4",
   "metadata": {
    "execution": {
     "iopub.execute_input": "2023-11-25T12:13:10.813744Z",
     "iopub.status.busy": "2023-11-25T12:13:10.813263Z",
     "iopub.status.idle": "2023-11-25T12:13:11.007182Z",
     "shell.execute_reply": "2023-11-25T12:13:11.005687Z"
    },
    "papermill": {
     "duration": 0.209042,
     "end_time": "2023-11-25T12:13:11.010795",
     "exception": false,
     "start_time": "2023-11-25T12:13:10.801753",
     "status": "completed"
    },
    "tags": []
   },
   "outputs": [],
   "source": [
    "reviews['cleaned_text']=cleaned_text\n",
    "reviews['cleaned_summary']=cleaned_summary"
   ]
  },
  {
   "cell_type": "code",
   "execution_count": 12,
   "id": "a8e71062",
   "metadata": {
    "execution": {
     "iopub.execute_input": "2023-11-25T12:13:11.033421Z",
     "iopub.status.busy": "2023-11-25T12:13:11.032989Z",
     "iopub.status.idle": "2023-11-25T12:13:34.492933Z",
     "shell.execute_reply": "2023-11-25T12:13:34.490595Z"
    },
    "papermill": {
     "duration": 23.475824,
     "end_time": "2023-11-25T12:13:34.496549",
     "exception": false,
     "start_time": "2023-11-25T12:13:11.020725",
     "status": "completed"
    },
    "tags": []
   },
   "outputs": [],
   "source": [
    "reviews.to_csv('your_file.csv', index=False)"
   ]
  },
  {
   "cell_type": "code",
   "execution_count": 13,
   "id": "37fa2737",
   "metadata": {
    "execution": {
     "iopub.execute_input": "2023-11-25T12:13:34.519728Z",
     "iopub.status.busy": "2023-11-25T12:13:34.519263Z",
     "iopub.status.idle": "2023-11-25T12:13:40.555693Z",
     "shell.execute_reply": "2023-11-25T12:13:40.553720Z"
    },
    "papermill": {
     "duration": 6.052401,
     "end_time": "2023-11-25T12:13:40.559386",
     "exception": false,
     "start_time": "2023-11-25T12:13:34.506985",
     "status": "completed"
    },
    "tags": []
   },
   "outputs": [
    {
     "data": {
      "image/png": "[encoded data removed]",
      "text/plain": [
       "<Figure size 640x480 with 2 Axes>"
      ]
     },
     "metadata": {},
     "output_type": "display_data"
    }
   ],
   "source": [
    "text_word_count = []\n",
    "summary_word_count = []\n",
    "\n",
    "for i in reviews['Text']:\n",
    "      text_word_count.append(len(i.split()))\n",
    "\n",
    "for i in reviews['Summary']:\n",
    "      summary_word_count.append(len(i.split()))\n",
    "\n",
    "length_df = pd.DataFrame({'text':text_word_count, 'summary':summary_word_count})\n",
    "\n",
    "length_df.hist(bins = 30)\n",
    "plt.show()"
   ]
  }
 ],
 "metadata": {
  "kaggle": {
   "accelerator": "none",
   "dataSources": [
    {
     "datasetId": 18,
     "sourceId": 2157,
     "sourceType": "datasetVersion"
    }
   ],
   "dockerImageVersionId": 30587,
   "isGpuEnabled": false,
   "isInternetEnabled": true,
   "language": "python",
   "sourceType": "notebook"
  },
  "kernelspec": {
   "display_name": "Python 3 (ipykernel)",
   "language": "python",
   "name": "python3"
  },
  "language_info": {
   "codemirror_mode": {
    "name": "ipython",
    "version": 3
   },
   "file_extension": ".py",
   "mimetype": "text/x-python",
   "name": "python",
   "nbconvert_exporter": "python",
   "pygments_lexer": "ipython3",
   "version": "3.11.2"
  },
  "papermill": {
   "default_parameters": {},
   "duration": 10104.544335,
   "end_time": "2023-11-25T12:13:42.872016",
   "environment_variables": {},
   "exception": true,
   "input_path": "__notebook__.ipynb",
   "output_path": "__notebook__.ipynb",
   "parameters": {},
   "start_time": "2023-11-25T09:25:18.327681",
   "version": "2.4.0"
  }
 },
 "nbformat": 4,
 "nbformat_minor": 5
}
