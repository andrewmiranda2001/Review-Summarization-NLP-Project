{
 "cells": [
  {
   "cell_type": "markdown",
   "id": "e57436da",
   "metadata": {
    "papermill": {
     "duration": 0.012598,
     "end_time": "2023-12-05T21:22:02.369693",
     "exception": false,
     "start_time": "2023-12-05T21:22:02.357095",
     "status": "completed"
    },
    "tags": []
   },
   "source": [
    "# Evaluation Dataset Production Notebook\n",
    "\n",
    "Copy and pasted food product reviews straight from Amazon and added them to a .csv. Used for evaluation of our model. "
   ]
  },
  {
   "cell_type": "code",
   "execution_count": 1,
   "id": "4cc18853",
   "metadata": {
    "_cell_guid": "b1076dfc-b9ad-4769-8c92-a6c4dae69d19",
    "_uuid": "8f2839f25d086af736a60e9eeb907d3b93b6e0e5",
    "execution": {
     "iopub.execute_input": "2023-12-05T21:22:02.392623Z",
     "iopub.status.busy": "2023-12-05T21:22:02.392182Z",
     "iopub.status.idle": "2023-12-05T21:22:02.408778Z",
     "shell.execute_reply": "2023-12-05T21:22:02.407580Z"
    },
    "papermill": {
     "duration": 0.031613,
     "end_time": "2023-12-05T21:22:02.411915",
     "exception": false,
     "start_time": "2023-12-05T21:22:02.380302",
     "status": "completed"
    },
    "tags": []
   },
   "outputs": [],
   "source": [
    "import os\n",
    "import csv\n",
    "\n",
    "def add_reviews_to_csv(reviews=None, sentiment=None, item_name=None):\n",
    "    csv_file_path = \"model_evaluation_reviews.csv\"\n",
    "    mode = 'w' if not os.path.exists(csv_file_path) else 'a'\n",
    "    with open(csv_file_path, mode, newline='', encoding='utf-8') as csvfile:\n",
    "        fieldnames = ['Item Name', 'Sentiment', 'Review']\n",
    "        writer = csv.DictWriter(csvfile, fieldnames=fieldnames)\n",
    "\n",
    "        if mode == 'w':\n",
    "            writer.writeheader()\n",
    "\n",
    "        # Write the data\n",
    "        if reviews:\n",
    "            for review in reviews:\n",
    "                writer.writerow({'Item Name': item_name, 'Sentiment': sentiment, 'Review': review})\n",
    "\n",
    "    print(f\"Reviews added to CSV file '{csv_file_path}' successfully.\")"
   ]
  },
  {
   "cell_type": "markdown",
   "id": "fa68795b",
   "metadata": {
    "papermill": {
     "duration": 0.010673,
     "end_time": "2023-12-05T21:22:02.433598",
     "exception": false,
     "start_time": "2023-12-05T21:22:02.422925",
     "status": "completed"
    },
    "tags": []
   },
   "source": [
    "## Jack Links Jerky"
   ]
  },
  {
   "cell_type": "code",
   "execution_count": 2,
   "id": "9e8ce863",
   "metadata": {
    "execution": {
     "iopub.execute_input": "2023-12-05T21:22:02.457224Z",
     "iopub.status.busy": "2023-12-05T21:22:02.456834Z",
     "iopub.status.idle": "2023-12-05T21:22:02.477505Z",
     "shell.execute_reply": "2023-12-05T21:22:02.476477Z"
    },
    "papermill": {
     "duration": 0.035921,
     "end_time": "2023-12-05T21:22:02.480385",
     "exception": false,
     "start_time": "2023-12-05T21:22:02.444464",
     "status": "completed"
    },
    "tags": []
   },
   "outputs": [
    {
     "name": "stdout",
     "output_type": "stream",
     "text": [
      "Reviews added to CSV file 'model_evaluation_reviews.csv' successfully.\n"
     ]
    }
   ],
   "source": [
    "reviews = [\n",
    "    \"It is a bit oily and spicy for me to eat more than 1 at one sitting. It is a good snack to eat here and there. I don't really notice a difference between this vs. spicy slim jims except that this is a bit more spicier. (I like both brands - of course, not the healthiest)\",\n",
    "    \"Jack Link's Beef Sticks are so good. They are low in calories and carbs and have 6g of protein. They are great for a quick snack or a boost of energy. They are easy to carry and fit in any bag or pocket.\",\n",
    "    \"If you're looking at a box of these, you probably already know you want them. But in case you're not sure, here's my pitch: If you like beef sticks at all, then you absolutely need to try Jack Link's Original. This became my new favorite because it has a real meat flavor with a zesty tang, but not overly hot or salty. Some meat sticks taste like cardboard paste but not these. Unexpectedly, my wife, who normally shuns this sort of thing, found that she actually likes these. So I've had to buy more frequently than planned.\",\n",
    "    \"These are the best beef sticks ever! Great pricing as well!\",\n",
    "    \"It's a sugar-free sausage link. What more can I say? It's so good we can barely keep them in the house!\",\n",
    "    \"The teriyaki beef sticks are my favorite and they are 100% beef.\",\n",
    "    \"Good eating great value and great taste.\",\n",
    "    \"We’re an outdoorsy household and this take-along pick-me-up treat is a great addition to day-pack supplies on our frequent hiking adventures.\",\n",
    "    \"Hubby packs them in his lunch.\",\n",
    "    \"Throw in fridge to get a better taste and price is better than the store.\",\n",
    "    \"So much better than a Slim Jim! I finished the first box way too quickly! Yum!\",\n",
    "    \"The boys on my son’s baseball team devoured these snack sticks. Great high protein snack that really “hit home.”\",\n",
    "    \"Taste great.\",\n",
    "    \"I really like the taste. Not greasy. Put a couple in my lunch bag for work. Like them so much got them on auto ship.\",\n",
    "    \"If you're aiming to reduce your sugar intake, Jack Link's Beef Sticks offer an excellent choice, not only for their affordability but also for their delightful taste. I've explored numerous so-called Keto sugar-free beef sticks, and they tend to be twice as expensive as these. The key difference I observed between these sugar-free and regular beef sticks is a minimal variance of 1 gram in sugar and carbohydrates. These lean slightly toward being saltier, and each stick falls just short of reaching 1 ounce by a mere 0.08 ounces.\",\n",
    "    \"I like the fact that these are zero sugar and relatively clean ingredients. We enjoy them while traveling and keep them around for a protein snack when we are traveling. Great taste easy snack!\",\n",
    "    \"I recently discovered Jack Link's Beef Sticks, and they have become my go-to protein-packed snack. These beef sticks offer a convenient and flavorful option for those seeking a quick boost of protein on the go. I appreciate that Jack Link's Beef Sticks are made with quality ingredients and have no added MSG**. This gives me confidence in their nutritional value and ensures that I'm consuming a snack that aligns with my dietary preferences. The packaging of the beef sticks is convenient, with each stick individually wrapped. This makes it easy to grab one on the go or pack them in your bag for a quick and mess-free snack. The 0.92 oz. size is just right for a satisfying snack without feeling too heavy. With their high protein content, delicious flavor, and portable packaging, they are ideal for busy individuals looking for a quick and satisfying snack. If you're in need of a protein boost during the day, I highly recommend giving Jack Link's Beef Sticks a try.\",\n",
    "    \"I got these to stock up for emergency use & am happy to see the shelf date is 7-16-24! Opened 1 and omg they smell sooooo good and taste just as good so gonna order a couple more boxes from this seller!\",\n",
    "    \"The same as you would get at the store. I find it odd that they're loose in a box that could easily hold twice as many sticks. Maybe they should fill the box.\",\n",
    "    \"Man loved them, didn’t last long.\",\n",
    "    \"Spicy and good. If you like spicy you should go for this one.\",\n",
    "    \"It was actually very good, fresh, and came on time 👍🏻\",\n",
    "    \"They are not very oily or very sweet they are a perfect blend and they have protein.\",\n",
    "    \"I buy these to leave in my desk for an afternoon snack. The taste is good, package is nice. Little greasy on the fingertips, but nothing bad.\",\n",
    "    \"Easy to go and grab. I pack in my husband's lunch, as well as my kids' lunches. Individually wrapped, and a good, quick, easy snack to-go.\",\n",
    "    \"You know you're going to want more than one; these large sticks are not one bit greasy and so full of flavor 😉 Priced to always keep on hand!\",\n",
    "    \"Fresh variety. Good taste.\",\n",
    "    \"I have tried a good number of beef sticks and this has become my favorite.\",\n",
    "    \"This is a great gift for Jerky lovers. Tastes great and a very great gift to give.\",\n",
    "    \"If you like Jack Links beef sticks like we do, then you should get this box. There is enough to last us a little while and they are much cheaper to buy them in a box like this than individually. They are always fresh a nice snack.\",\n",
    "    \"Tasty and fresh. I like it for a quick protein snack, especially since it has no sugar added. Tastes like the original version.\",\n",
    "    \"Arrived in good condition. Product was very tasty!\",\n",
    "    \"I bought these for when I travel or am called into the ER in the middle of the night. I keep a few in my locker for when I end up being there for hours on end. They have a flavor I would call normal for beef sticks. My daughter likes beef sticks but not the cheese where you have both in a package. She thought that they were great but wondered why the ends were twisted where the others were flat. I explained the differences between the 2. She thought they were good also. These are a good choice for both adults & kids. Easy to grab & stick in locker, snack bag for traveling, park, etc.\",\n",
    "    \"Liked everything about this item, and it’s great energy food too. When there's no more meat at the grocery store, these will make a mean meal replacement with water and even rice.\",\n",
    "    \"Good snack.\",\n",
    "    \"Love it.\",\n",
    "    \"Jack links beef sticks are hands down the best beef I have tried and I always pick up a beef stick or two when I’m out so I’ve tried all the ones that the stores near me stock. My order arrived earlier than expected and in good\",\n",
    "    \"Beef sticks are yummy. What can I say they are good.\",\n",
    "    \"Great tasting Beef Jerky. These Jack link beef Jerkys are great, Love the taste. They don't taste processed and a little funny like some other brands I've tried, just smooth.\",\n",
    "    \"Great beef stick. Great flavor and portability. This product does it all.\",\n",
    "    \"Great product and fast shipment.\",\n",
    "    \"Awesome taste, great snack!\",\n",
    "    \"These are the best beef sticks that I have ever had.\",\n",
    "    \"Good product great treat.\",\n",
    "    \"Quick source of protein. We take these on our long car rides and we look for a good place to view nature and have these and 🧀 sharp cheddar.\",\n",
    "    \"It's hot, just so you know. So I enjoy meatsnacks a great deal. Despite the ridiculous prices, and the ridiculous salt content. I can't help it. It's damn delicious. I was more of a slim jims guy, but seeing as their prices have gone through the roof when they are even available I've been trying more jacks links products. So should you get this one? First think you should know is that the heat is real. Now I like hot and spicy, I like it a lot, I think it tastes better than less spicy and the burn doesnt really bother me much. I've even had carolina reaper buffalo wings and I thought they tasted great. But no matter how much you may like the taste, or how much tolerance you may have for the heat, this is not the case with your insides. If you eat more than 2 or 3 of these Wild Heats at a time you are really gonna feel it making it's way through your digestive track.\",\n",
    "    \"Yum! Easy to use, tastes great.\",\n",
    "    \"Great beef sticks, better than my local gas stations. After visiting my local gas station to get beef sticks and they were all dried out, I ordered these. I expected them to be kinda meh but these are AMAZING. They don't expire for another 6 months which is ideal and they taste a lot better than the ones I get at the gas station near me. 10/10\",\n",
    "    \"Great snack. Arrived fresh.\",\n",
    "    \"Good stuff.\",\n",
    "    \"Finally, a product that is as spicy as they claim.\",\n",
    "    \"Jack Link's are a new fave. I've purchased these to have an added source of protein in my diet via a snack option. These have been a great addition not only for the added protein but the flavors, the ease of being on the go with a healthy snack, and the convenience when a meal is just too much. I recommend having these on hand for adults and kids alike.\",\n",
    "    \"I was surprised they have good flavor for not having sugar in them. I like them better than the regular ones.\",\n",
    "    \"What else is there to say lol.\",\n",
    "    \"I was craving spicy beef sticks, but they sell them very rarely at my local grocery, and these are pretty okay for the price. I ate a few per sitting at times. They feel a little hard, but biting into them is soft, texture isn't stringy or as chewy as I'd like. Has a decent amount of spice, it's been awhile since I finished these, maybe a level 4-6 on a scale of 10, depending on the person, it didn't make me reach for water.\",\n",
    "    \"These are so good I've already ordered a second box! They make great snacks for anyone, but especially keto, since there is zero sugar in these. 6 grams of protein in each stick means one will keep me going between meals. They're delicious and don't last long in our house!\",\n",
    "    \"I think it’s worth the buy. I love these.\",\n",
    "    \"Taste is fine with me and the price is good. I keep one or two in the car's glove box and always carry several on my motorcycle - which can be really handy if I get a little hungry riding out in the country.\",\n",
    "    \"These were purchased to give away to men at church on Father’s Day. Great value for the product!\",\n",
    "    \"Been getting a case of these beef sticks every 3 months for about a year as my 3 year old loves them as a snack. I can count on the quality of product to be there and the taste is great. Never had an issue with my orders.\",\n",
    "    \"Better than chicken nuggets. Keep a couple with me so when I miss lunch or dinner I can indulge. Jack Links Original appears to be better than gas station Slim Jims. They are not peppery and slide down the throat without having to drink water. Great idea to keep one with you and avoid a triple whopper craving.\",\n",
    "    \"My teenage son loves these for a quick protein snack at school! They taste great!\",\n",
    "    \"Then Jack links is a good buy!!\",\n",
    "    \"I enjoyed this beef stick snack more than any other I have tried, they have easily become my pick of choice since. The quality of the product was high and the freshness superior by far to other products of similar type, I had other brands that had an expiration date that was two days after I received them but these were incredibly fresh and soft and comfortable to consume I'm impressed.\",\n",
    "    \"Great on the go snack with some protein. Kids love them. Stay good and fresh for quite a while. We were happy with the variety of flavors.\",\n",
    "    \"...then this item is for you. You get a whole box!\",\n",
    "    \"My teens love it on the go!\"\n",
    "]\n",
    "add_reviews_to_csv(reviews=reviews, sentiment=1, item_name=\"Jack Links Jerky\")"
   ]
  },
  {
   "cell_type": "markdown",
   "id": "d1336471",
   "metadata": {
    "papermill": {
     "duration": 0.010296,
     "end_time": "2023-12-05T21:22:02.501797",
     "exception": false,
     "start_time": "2023-12-05T21:22:02.491501",
     "status": "completed"
    },
    "tags": []
   },
   "source": [
    "## Pedigree Dog Food"
   ]
  },
  {
   "cell_type": "code",
   "execution_count": 3,
   "id": "99c8999d",
   "metadata": {
    "execution": {
     "iopub.execute_input": "2023-12-05T21:22:02.527216Z",
     "iopub.status.busy": "2023-12-05T21:22:02.526646Z",
     "iopub.status.idle": "2023-12-05T21:22:02.539865Z",
     "shell.execute_reply": "2023-12-05T21:22:02.538481Z"
    },
    "papermill": {
     "duration": 0.030549,
     "end_time": "2023-12-05T21:22:02.542844",
     "exception": false,
     "start_time": "2023-12-05T21:22:02.512295",
     "status": "completed"
    },
    "tags": []
   },
   "outputs": [
    {
     "name": "stdout",
     "output_type": "stream",
     "text": [
      "Reviews added to CSV file 'model_evaluation_reviews.csv' successfully.\n"
     ]
    }
   ],
   "source": [
    "reviews = [\n",
    "    \"Would definitely buy again. Quality seems to be great and my dog loves it. I mix it in with her dry dog food to give her extra protein.\",\n",
    "    \"My baby loves this food. I only buy Pedigree for my dog Apollo. He loves it. When I adopted him he was 5 months old and u could see his bones, now he just made a year so come January he will get the big dog, dog food.\",\n",
    "    \"Picky dog loves this food! I have a smallish dog - 15 pounds. She is very picky, but will eat this. The size portion is just right for her and even though I haven't tried it yet, these would really be handy for bringing along for doggie when traveling. Sturdy packaging. I like that more than one flavor is included in the box.\",\n",
    "    \"My dog's breakfast. My dog gets half a pouch every morning with a half a pouch of moist in meaty mixed in and has no problems with this food she can't wait to get it of course I have to wake her up first never goes to waste.\",\n",
    "    \"Good dog food. My dog deserves the best.\",\n",
    "    \"Awesome. My chi gets 1/2 pouch a day… she loves them!\",\n",
    "    \"My dogs love it. Just that my dogs loved it.\",\n",
    "    \"Value. I like the product that is why I purchased... however ordered quanity 2 however only received quanity 1 CAN YOU HELP ME IN GETTING MY OTHER 1 AS I ALREADY PAYED FOR IT PLEASES AND THANK YOU :)\",\n",
    "    \"Good. Good.\",\n",
    "    \"Happy Dog. My 15 yr Pom mix loves this high protein food. She acts like a puppy still. So if she likes it, that’s all that matters!\",\n",
    "    \"Good size for small dogs. I mix this ½ pouch with dry kibble and my dogs love all flavors.\",\n",
    "    \"Consistency. Good value and individual pouch content. Good variety.\",\n",
    "    \"Great deal, dogs love it. Can't beat the price, especially when you live in the middle of nowhere.\",\n",
    "    \"Big bag. My dog loves this kind of good.\",\n",
    "    \"Good buy! Very good buy for my pitbull I add a topper to it just to mix up the flavor for her!\",\n",
    "    \"Perfect for small dog. I have a 13 pound shih tzu Yorkie cross who has difficulty with hard kibble. We tried some canned brands which she didn’t like and some drier non kibble type food that also caused her to cough and go off her food (moist and meaty packets). This with the gravy is perfect combo! She loves it and one packet twice a day is helping her maintain her weight.\",\n",
    "    \"I love the taste. Eat it up yum.\",\n",
    "    \"My dogs LOvE it! 💕. My dogs love this dog food! We purchased the largest bag we could find on Amazon. We have 4 large dogs and they go through dog food like crazy! The shipping took a little longer but it was totally worth it. I can’t tug at large bags of dog food and having this delivered was perfect!\",\n",
    "    \"Good dog food. Same as what I've purchased in other stores. Great item for your fur babies\",\n",
    "    \"My grand dog loves it. I’m not sure how it taste but my grand dogs seem to really like it.\",\n",
    "    \"Dog food. My dog loves eating the same thing, every day.\",\n",
    "    \"My dog loves it! My dog likes it!!!!!\",\n",
    "    \"Good buy. It keeps my neighbors dogs happy 😛.\",\n",
    "    \"Dogs LOVE this food. This food is nutritionally appropriate for my dogs. I have 3 GSPs n they are high energy and constantly on the go. Pedigree is a great food n my guys love it. I even have it as an additional treat food just to change things up for them. Either way Pedigree is a reputable brand n yes my dogs Love it !!!\",\n",
    "    \"Good price. Our dogs love it, very affordable and delivered to my doorstep.\",\n",
    "    \"Dachshund Approved! My dog loved this. He’s a super picky dog but he seems to love these! Only thing is there’s not a lot per pouch.\",\n",
    "    \"Great taste, smells good. My husky is a picky eater. I mixed with her dry food and she loved it.\",\n",
    "    \"Larger bag. I order the dog food because the price is good gor a good product. It is hard to find the larger bags at the local stores.\",\n",
    "    \"Dig food. My Dolly loves this food.\",\n",
    "    \"Puppy. Puppy enjoys eating, it is soft and chunky. Can’t afford to feed him everyday but have had luck mixing one pouch soft with dry dog food. It take him all day but by morning he has eaten every bit.\",\n",
    "    \"Dog loves. Came in fast my dog loves them.\",\n",
    "    \"Best bachelor chow for the money. Good as a light snack or add some warm milk for a decent hot meal :) oh my dog likes it too...but if you've seen what else he eats...\",\n",
    "    \"What's up with these prices?? Great brand, I'm an old school pet owner and loyal to Pedigree-BUT what in the hello-kitty is up with these prices lately?!! Seriously!\",\n",
    "    \"Entire. It’s a pretty good amount for the price and it was well pack and clean. I recommend it 100% thank you, Amazon!\",\n",
    "    \"Stick with what works. Once again amazon was late with their delivery. I think I will just stick with chewy, tractor supply, wally world at least they deliver when they say they will, and I'm not paying a membership fee every month.\",\n",
    "    \"My dogs are picky eaters it's all they like. Good deal.\",\n",
    "    \"Perfect. Not much to say. It's dog food... my dog actually wouldn't eat it but it's not anybody fault. She just prefers chicken over beef. The item was exactly what I ordered.\",\n",
    "    \"Great job. On thank you.\"\n",
    "]\n",
    "add_reviews_to_csv(reviews=reviews, sentiment=1, item_name=\"Pedigree Dog Food\")\n"
   ]
  },
  {
   "cell_type": "markdown",
   "id": "5b08cbc1",
   "metadata": {
    "papermill": {
     "duration": 0.010875,
     "end_time": "2023-12-05T21:22:02.564815",
     "exception": false,
     "start_time": "2023-12-05T21:22:02.553940",
     "status": "completed"
    },
    "tags": []
   },
   "source": [
    "## Pub Mix"
   ]
  },
  {
   "cell_type": "code",
   "execution_count": 4,
   "id": "ab078860",
   "metadata": {
    "execution": {
     "iopub.execute_input": "2023-12-05T21:22:02.589791Z",
     "iopub.status.busy": "2023-12-05T21:22:02.589324Z",
     "iopub.status.idle": "2023-12-05T21:22:02.612828Z",
     "shell.execute_reply": "2023-12-05T21:22:02.611433Z"
    },
    "papermill": {
     "duration": 0.038843,
     "end_time": "2023-12-05T21:22:02.615259",
     "exception": false,
     "start_time": "2023-12-05T21:22:02.576416",
     "status": "completed"
    },
    "tags": []
   },
   "outputs": [
    {
     "name": "stdout",
     "output_type": "stream",
     "text": [
      "Reviews added to CSV file 'model_evaluation_reviews.csv' successfully.\n"
     ]
    }
   ],
   "source": [
    "reviews = [\n",
    "    \"SAVORY FLAVORS The Utz Pub Mix Barrel features a savory blend of honey mustard twistix, cheddar cheese twistix, honey mustard sesame chips, oriental rice crackers, pretzel stix, nacho bagel chips, and Worcestershire rye chips. PARTY SNACKS The combination of yummy flavors makes this the perfect party snack mix. Utz Pub Mix is easy and quick to prepare all you have to do is put it in a bowl and youll have a blend of savory, crunchy flavors. This mix is awesome\",\n",
    "    \"I wanted to make Super Bowl Sunday special. Rather than just have chips , I wanted to have a good bar mix with my non-alcoholic beer. Utz makes a very flavorful mix which is not over salted. I had mine with a big chunk of sharp cheddar cheese and crunchy vegetables. I am definitely starting a subscription. And the containers are nice. I'm going to use them as waste buckets. #recycle!\",\n",
    "    \"My Dad gets these when we make our weekly trip to the club store. They were out and I didn't want to make another trip to a further away club the next week... He REALLY likes them and I like to do what I can to make my Dad happy, y'know?!?... so I checked Amazon expecting them to be double the price of the club store. Granted, they were only 50¢ cheaper but free shipping versus a one hour round trip and gas and it was a no-brainer!\",\n",
    "    \"This is a great snack to munch on. I've been buying this for five years from Costco. Since they haven't had any in stock for a while, I decided to order from Amazon. Glad I did. I enjoy this snack mixture so much. A good variety of pretzels, sesame crackers and other crackers. The only thing that is lacking a handful or two of nuts and seeds. Will continue to buy. It's my go to snack.\",\n",
    "    \"Edit: May 2020. I’ve ordered the Pub Mix 3 times already. I’m asked by family members to order before we even run out! Each time received it’s sealed, fresh, and crunchy! Original review: I read mixed reviews on this. I purchased the 44 oz. Pub Mix. which is almost 3 pounds, quite a lot for the low cost. I saw great reviews and negative reviews so did not know what to expect. In my experience the date was good, canister was sealed completely under the lid, and best thing was the whole mix tastes excellent. Probably the best dry snack mix I’ve ever tasted to be honest. There is a perfect mix of a variety of pieces, different shapes and sizes, even some pieces that are very slightly sweetened to balance the salty, seasoned flavor! But, not too salty by any means... just right. Highly recommended.\",\n",
    "    \"size, packaging, taste, value all good\",\n",
    "    \"I bought this for my 13 year old son. I really didnt think i would like it. I thought it would have an odd taste. I was surprised at the flavors! Of course it has way more of the pieces i dont like, the breadsticks and twisty bread sticks. This isnt gardettos, but it isnt garbage either. Also, my son first bought a tub for 12$ at tractor supply. So this is a far better deal\",\n",
    "    \"YUM, YUM LOVE THESE! I picked up a container of these at a store just for little snacks. We all loved them and everything that came in this container. Many times when you get a mix similar to this you find some things inside that you don't like and pick out what you like. Not this one, In my house everyone loves every single piece. I went back to that store and they didn't have these anymore, they were just there for Christmas. I looked on line. I found these in Amazon.com. This container was over two times the weight of the one I purchased the first time, and only $2.00 more. I got a real deal here from Amazon. I would have ordered more but this was the last one in stock. I'll check back again soon and order a couple more.\",\n",
    "    \"Been ordering tubs of Utz Pub Mix for the past year an a half and all of them have been delivered intact. One had a loose inner seal, and yes a few have dates that aren't months out, but those are just best by dates or freshness guarantees and they've stayed fresher than the Goldfish milk carton I work through for my lunch snack. Good mix of snacks. Some broken pieces, but overall good.\",\n",
    "    \"Tried it, loved it, addicted to it,\",\n",
    "    \"This was orderd, shipped and received in 24 hours. Wich is amazingly fast and I couldn't be happier. The jar is tall rather than a big circumference and it has an easy to grip and open lid. The mix is good. I love all the flavors in there. The mustardy one is my favorite. I recommend this to anyone that needs a quick and clean snack to have with their domestic beer and football game. I have it with Pelegrino and Tivo recordings. There's really no complaint about anything, it's a great snack.\",\n",
    "    \"My husband bought pecans for baking. I decided I'd have a handful and ended up having several handfuls. Realizing I needed to replace them, I got on Amazon & put a bag of pecans in the cart. I then decided I should look for a snack, so I don't get into my husband's nuts again. I got the Pub Mix and then decided I should get something sweet, too. I choose cookies dipped in chocolate with a hazelnut cream. Well, I was up to $44 when I went to check out. So, I put the nuts back. The Pub Mix arrived quickly and fresh, although I had thought it would taste more like Gardetto's. Side note, my cookies were canceled due to being 'undeliverable'.\",\n",
    "    \"Savory, a hearty blend that actually has a good pretzel balance. I don't care for pretzels, and this thing didn't fall short on the savory bread twists and rye chips. This item is going to last a while too, there's quite a lot here. The canister is filled up to the lid with greatness.\",\n",
    "    \"This was very good and great value. It was very fresh an delicious. Loaded with pretzels which I loved. I have to resist buying again anytime soon because I'm on a diet and couldn't stop eating these. I will purchase again once I meet my goal. So delucious\",\n",
    "    \"Classic pub mix. This mix is great to snack on. The pretzel sticks are great, even though there are a lot of pretzels there are also cheese covered twists and plenty of other crunchy snacks inside (rye chips and sesame sticks etc). We’ve bought this a number of times and keep going back to it. The container is big and lasts a long time and stays perfectly fresh inside! They also make a great place to store change when you’ve finished it.\",\n",
    "    \"I eat this tasty tub until it goes empty. It lasts about 3 days. I add a 1 lb. bag of m and m trail mix to the tasty tub and it lasts about one week. I buy this fresh PUB mix from Amazon regularly. It's crunchy, tasty and addictive. Highly recommend.\",\n",
    "    \"I have ordered this Pub Mix a bunch of times but this is my first time reviewing it. I received another tub today with 3 months left until product expiration. The Mix is fresh and tastes great (although if I were the manufacturer, I'd cut down on Pretzel and Twist Stick content and increase Rice Cracker, Sesame squares and Flat Cracker content! ;-p). Amount for the price is very reasonable and since this mix contains no spicy items, this is a great mix for grown-ups and kids alike... way more interesting than Cheez-its, plain pretzels, etc. Shipping was great... hardly any breakage/crumbs. Thank You UTZ & Amazon! ;-p Recommend!\",\n",
    "    \"I ordered this because I was looking for something to eat as a small meal. I eat about 5 small meals a day as compared to the 3 regular meals that I believe most people eat (but add in snacks, and I think most people probably eat 5 times a day). When it came in, my husband actually got to it before I did. He raved about it. Once I tried it, I wholeheartedly agreed. It is excellent. It also leaves you feeling like you ate something relatively healthy, not all gross like, say, chips. We are darn near fighting over the last of it before more comes in (Thank goodness for Amazon Prime!). I would recommend purchasing multiples right from the start, because I know I regret that I did not.\",\n",
    "    \"It will be better to receive the product with a longer expiry date! mine expiry on Jan 2022!!\",\n",
    "    \"I have bought this several times. The contents are always fresh, rarely has broken pieces, and is tasty. I have recommended Utz Pub Mix to several friends and they have all told me they have gone back and purchased again. Nice mix for yourself or any group you are entertaining as there is a selection for everyone.\",\n",
    "    \"I love to snack on occasion and these are perfect. I've had these sent to a great nephew newly in the military and a young boy as just a 'thinking of you' type of thing. I'm not into health food, but as snacks go, this isn't as bad as some others. These stay fresh a long time and the kids in the family all love them once in a while. If I'm feeling a bit hungry, but not really, a small handful of these cures me right up. They're quick to grab.\",\n",
    "    \"I like the all in one snack as Im sitting at the desk with my favorite beverage or grabbing handfuls for my lunch snack bag. Utz quality is a BUY.\",\n",
    "    \"Oh my goodness! What can I say about this Pub mix! Except please don’t ever stop offering it! I have it on a subscription to send to my house as me and my family love to munch on it every night! I’ll even send a container to one of our friends to get addicted to it with me at the beach! It’s a great value is a large container and it is absolutely delicious!\",\n",
    "    \"I buy this mix with every order I make. My whole family loves it. If I don't have a Pub Mix open the adult kids well anyone gets one from the pantry and opens it. If we're watching Georgia or Jaguar football an entire container is emptied. Now with the Olympic Games on the horizon I need to start stocking up now!\",\n",
    "    \"One of my all time favorites! Wish the lid hadn’t changed though, miss the slotted top - now it’s a simple flat screw on lid.\",\n",
    "    \"I love this stuff. My Dad introduced this to me about a decade ago, and since, it has been our go-to snack. It is a perfect blend of a wonderful mix of savory snacks. Better than anything else. To top it all off, it is from the largest independently held snack food company. That means supporting 'small business.' Just buy the stuff. If you've made it this far into the reviews, you know already this is fantastic. Even my dog loves this stuff. Although I usually only part with the pretzels. My slogan? Get what you love. Utz Pub Mix.\",\n",
    "    \"I found this product on a food site but it sold out, so I looked it up on Amazon. It is much less expensive than the 'buy in bulk, save a ton' website which ironically saved me even more by not having to buy 50+ dollars of giant boxes of food that ends up taking over valuable pantry space for months to come just to get free shipping. This mix of yummies really are delicious and very different from the usual bag of chex mix and if you're missing the chex, just add some! Simple!! It arrived on time, was very fresh and unfortunately, won't last long at all. Luckily I have this really great seller on Amazon that sells it at an amazing price! And now, so do you...\",\n",
    "    \"This pub mix is a flavor explosion that delights the taste buds and satisfies snack cravings like no other. What sets this pub mix apart is its irresistible combination of savory and crunchy elements. With every handful, you're treated to a symphony of flavors, from the zesty tang of seasoned pretzels to the satisfying crunch of roasted nuts. It's a medley that keeps you coming back for more. The quality of this pub mix is evident from the first bite. Each component is carefully selected and expertly seasoned, resulting in a perfectly balanced snack. The attention to detail and commitment to delivering a delicious experience shines through with every munch. Whether you're hosting a gathering or enjoying a solo movie night, this pub mix is the ultimate companion. It's versatile and addictive, making it a crowd-pleaser for any occasion. It's also a great option for those moments when you simply want to treat yourself to a delectable snack. What I appreciate most about this pub mix is its freshness. The packaging ensures that the mix remains crisp and flavorful, even after opening. It's a testament to the dedication to quality and customer satisfaction. If you're seeking a mouthwatering snack that's sure to please, this pub mix is a must-try. Treat yourself to the delightful explosion of flavors and textures that will keep you reaching for more. Indulge in this delicious pub mix experience and elevate your snacking game.\",\n",
    "    \"Good mixture with lots of crunch. Yummy\",\n",
    "    \"Will keep one tub and give the 2nd tub to a friend.\",\n",
    "    \"Utz Pub Mix - 44 Ounce Barrel is a tasty snack suitable for anytime. The flavor and variety are great (the rye chips are a wee bit hard, but I can suck on those) and the seasonings are good as well. I like the resealable container that helps keep the Pub Mix fresh longer. I also like that there is no cholesterol in this mix. Utz Pub Mix is quite a bit healthier than many snack options, with low fat, carbs and sugar. There was a little settling of contents during shipping, but not much. I've ordered some snack mixes in the past where I end up with containers of tasty dust after transit. The plastic barrel seems to help with that. I would definitely order this again.\",\n",
    "    \"There is something for everyone in UTZ's pub mix! Honey mustard twistix (my fave!), cheddar cheese twistix, honey mustard sesame chips, Oriental rice crackers, nacho bagel chips, pretzel stix and Worcestershire rye chips make up the pub mix. Lots of delicious flavors. Comes in a 44oz container with a resealable lid that does a great job of keeping the mix nice and fresh. Perfect for parties and snacking. I got one for my niece to take back to college last year and she loved it. The price is incredibly reasonable; its actually quite low for the variety of snacks included and the 44oz size container. Enjoy!\",\n",
    "    \"The price makes this product worth it! You’re paying like six dollars for a big jug of trail mix basically. And it’s really delicious. At first I wasn’t the biggest fan but as I had it for a while and but I snacked on it for a while it really grew on me and then I bought another one so obviously I’m a fan. I think the tastes is muted in some aspects but there’s a lot of different unique flavors within the mix and I think that helps. The two times I bought it it came fresh and delicious so I have no complaints and I recommend it because at this price it’s literally worth it just to try it.\",\n",
    "    \"My son loves this mix! I got it for him because he has been wanting to get a different kind of snack. Wow I have never heard him say so much about a product I got for him. Each time he finds a new thing he brings me 1 and only 1 lol. He's going to the UTZ website so he can figure out what all the different things are! We got this yesterday and he already has 1/4 of container gone! But I would rather these snacks than sugar snacks. We both love UTZ products anyways this just upped them more in our book! We definitely Recommend this product for a great snack anytime or for a party snack but I don't know if you would want to share lol if you have to share buy 2 jugs 1 for home and 1 to share Everyone will love and ask where you got them!!! Couldn't get a picture my son hid the jug!!!\",\n",
    "    \"This mix is so good. Right out of the box, the first thing I noticed was that it was a lot bigger than I thought it'd be. It's huge! For $6.99 I was very pleasantly surprised. Looking at the jar, the quality of the plastic container is great, and the twist-lid design is really neat. Opening it up, you're met with a mouth watering smell of the snack mix seasonings, and will instantly want to dig in! The taste of the mix itself is great, each snack type offers a different texture and taste. If you're like me, you'll have a favorite and start picking through it to find the ones you like, but they're honestly all really good. I have to stop myself from going through half the container on the first day, they're just that tasty!\",\n",
    "    \"Sent these to my BFF as part of a care package. She has been hopsitalized with lukemia for the last three months. The barrel of crackers arrived when she was having a particularly difficult time with nausea. She called me that same day to tell me that I \\\"saved her\\\" because the crackers were the only things she could keep down. She loved them and raved about how large the container was. Evidently her husband liked the barrel too, because they mysteriously disappeared from her hospital room!\",\n",
    "    \"Very good snack\",\n",
    "    \"I just had to buy it again. I bought it for myself but apparently it is now a household favorite! Probably I will be buying a third one pretty soon. This snacks come in a generous size bottle that keeps them crisp and fresh. Different pieces have each a distinct flavor and type of crunchiness. Such a great combination of flavors that are perfect for a party or reunion, or like we do, just for snacking at home or carry some in a zip lock while running errands and such. Will be buying again for sure.\",\n",
    "    \"This Pub Mix is positively addictive. It’s not too salty and has a nice variety of flavors. I like the Asian style crackers in the mix, especially the sweet-salty sesame ones. I am not a fan of most cracker snacks and chips. But this mix is good as it goes with any drink - wine, beer or soda. I buy it to have at home and have also made gift baskets for friends with wine, cheeses and cookies.\",\n",
    "    \"Oh my goodness! I love this stuff! I am definitely going to be re-purchasing this, before the days of social distancing I would frequently purchase those massive 1kg (2.2 pounds) bags of reeses pieces, but I stopped buying them because I would eat the entire bag in one sitting. This product is amazing, all of the pieces taste wonderful, there are all unique flavors but somehow they blend together to taste amazing. I can't describe it but I think this is my new favorite snack, I love it, I will definitely be buying this again!\"\n",
    "]\n",
    "\n",
    "add_reviews_to_csv(reviews=reviews, sentiment=1, item_name=\"Pub Mix\")"
   ]
  },
  {
   "cell_type": "markdown",
   "id": "21c108cd",
   "metadata": {
    "papermill": {
     "duration": 0.010598,
     "end_time": "2023-12-05T21:22:02.636790",
     "exception": false,
     "start_time": "2023-12-05T21:22:02.626192",
     "status": "completed"
    },
    "tags": []
   },
   "source": [
    "## Rice-a-roni (Positive Reviews)"
   ]
  },
  {
   "cell_type": "code",
   "execution_count": 5,
   "id": "58255361",
   "metadata": {
    "execution": {
     "iopub.execute_input": "2023-12-05T21:22:02.660240Z",
     "iopub.status.busy": "2023-12-05T21:22:02.659848Z",
     "iopub.status.idle": "2023-12-05T21:22:02.672161Z",
     "shell.execute_reply": "2023-12-05T21:22:02.670674Z"
    },
    "papermill": {
     "duration": 0.027196,
     "end_time": "2023-12-05T21:22:02.674702",
     "exception": false,
     "start_time": "2023-12-05T21:22:02.647506",
     "status": "completed"
    },
    "tags": []
   },
   "outputs": [
    {
     "name": "stdout",
     "output_type": "stream",
     "text": [
      "Reviews added to CSV file 'model_evaluation_reviews.csv' successfully.\n"
     ]
    }
   ],
   "source": [
    "reviews = [\n",
    "    \"I opened my box and heard a rattling sound. As I pulled them out, I could hear the rattling in the bottom of the box. Two of the pasta ones were empty, the foil lid off and the pasta and powdery flavoring were spilled all into the bottom of the box. If when you get yours you hear a rattle in the bottom, don’t open the box, just return it as is and request another or a refund.\",\n",
    "    \"It is what it is.... a quick, convenient snack.\",\n",
    "    \"My daughter loves these . Its something quick and easy for kids to make.\",\n",
    "    \"Order twice and both times the food was opened and spilled all over in the box will not order again\",\n",
    "    \"These are so yummy and great for work and on the go .\",\n",
    "    \"My granddaughter loves cheesy rice. She loves this brand and it’s a perfect lunch treat for her. Also, I just had gallbladder surgery and it seems to sit well on my stomach. Will definitely purchase more.\",\n",
    "    \"If I am having steak, this makes for a tasty, and easy side. No extra dish to wash, and cooks in less time than the steak.\",\n",
    "    \"It's obviously cheaper to buy the regular boxes of this and cook it on the stove. But that takes time. And access to a stove. And sometimes, you don't have either. But as long as you have a microwave, you can't beat getting a tasty meal in just a few minutes making one of these.\",\n",
    "    \"This rice has amazing flavor & is ready in just 3 1/2 minutes! Shopping for pantry items is a must, this is a great deal & the pack lasted me almost 2 months. Only con: the fill to water line inside the cup is reeeaaaallly faint. So sometimes I had more watery rice & sometimes the rice was more dry\",\n",
    "    \"Perfect size, perfect taste, Great price!\\n\\nI like to heat canned chicken along with it. Canned tuna in oil is okay but I have an allergy to fish.\",\n",
    "    \"Product packaging was open in delivery box at no fault to the delivery driver it was in a sealed box in another sealed box but was still open enough to spill out the pasta starch particles.\",\n",
    "    \"the pasta cups had unsealed lids, other 9 cups were good.\",\n",
    "    \"Easy to do for my younger kids to eat while the older ones were at school. Some quick and simple. Well worth the money.\",\n",
    "    \"Tastes good and easy to make. Wish the jalapeño one was sold in bulk.\",\n",
    "    \"Like this when in hurry\",\n",
    "    \"Flavor is great but cup overflows while cooking in the microwave. I usually add water as directed and put in a different container/bowl to cook.\",\n",
    "    \"Rice-a-Roni rice bowls have become my go-to lunch option when I need a quick and light meal. These bowls are a lifesaver, offering a hassle-free and tasty solution for busy days.\",\n",
    "    \"I bought these for work, to keep in the drawer when I don’t have time to go out and grab anything but am starving. The chicken rice cups are probably the closest to what I imagined, just mildly salty, bright yellow rice. The pasta ones were really strange, rubbery, I’d rather just be hungry. The cheese and broccoli rice I could eat in a pinch, although there was so little broccoli I can’t imagine it deserved any attention to that element. Not really something to look forward to, but in a pinch maybe.\",\n",
    "    \"Delicious says it all.\",\n",
    "    \"So So tasty and only 3 minutes to make.\",\n",
    "    \"Easy to make tastes pretty good too. It’s good for when I’m in between meals & im not sure what to eat\",\n",
    "    \"Sometimes my family doesn’t agree on what side to make so these individual cups help on those nights where we just don’t agree.\",\n",
    "    \"Last 2 boxes had broken/open cups resulting in contents spilled all over box. See other reviews, it's a common problem. Kinda sucks because I really enjoy them when they are sealed.\",\n",
    "    \"Ok\\n\\nGreat to grab for a quick lunch\",\n",
    "    \"My kids love the Rice a Roni Cups. They are a quick and easy hot addition to their lunches and a great alternative to chips or chocolate!\",\n",
    "    \"Side dish\",\n",
    "    \"My 4 year old only wants rice for almost every meal and these are perfect to send to babysitters for a quick easy lunch he will actually eat\",\n",
    "    \"Some individual food containers packed upside down in box of 12, 3 food container seals broke open contents spilled loose. Box too small for 12 containers.\",\n",
    "    \"4stars nice tast\",\n",
    "    \"Good for a quick and warm lunch but beware of very short expiration dates.\",\n",
    "    \"The family seems to like these. Quick 1 min.\",\n",
    "    \"Love the taste and easy to prepare\",\n",
    "    \"Very good easy to make\",\n",
    "    \"Great lunch deal, add tuna or canned chicken and easy lunch.\",\n",
    "    \"One cup short and now I have powder all over My floor\",\n",
    "    \"I like that it'and easy meal ;I DON'T like having to stir it ever 15 seconds to keep.7t from overflowing in th3 mcrowave.\"\n",
    "]\n",
    "add_reviews_to_csv(reviews=reviews, sentiment=1, item_name=\"Rice-a-roni\")"
   ]
  },
  {
   "cell_type": "markdown",
   "id": "872cfa8e",
   "metadata": {
    "papermill": {
     "duration": 0.010418,
     "end_time": "2023-12-05T21:22:02.696404",
     "exception": false,
     "start_time": "2023-12-05T21:22:02.685986",
     "status": "completed"
    },
    "tags": []
   },
   "source": [
    "## Rice-a-roni (Negative Reviews)"
   ]
  },
  {
   "cell_type": "code",
   "execution_count": 6,
   "id": "3a3e5dce",
   "metadata": {
    "execution": {
     "iopub.execute_input": "2023-12-05T21:22:02.719687Z",
     "iopub.status.busy": "2023-12-05T21:22:02.719265Z",
     "iopub.status.idle": "2023-12-05T21:22:02.730857Z",
     "shell.execute_reply": "2023-12-05T21:22:02.729680Z"
    },
    "papermill": {
     "duration": 0.026563,
     "end_time": "2023-12-05T21:22:02.733529",
     "exception": false,
     "start_time": "2023-12-05T21:22:02.706966",
     "status": "completed"
    },
    "tags": []
   },
   "outputs": [
    {
     "name": "stdout",
     "output_type": "stream",
     "text": [
      "Reviews added to CSV file 'model_evaluation_reviews.csv' successfully.\n"
     ]
    }
   ],
   "source": [
    "reviews = [\n",
    "    \"My grand children love these , but the condition of the cups were terrible. As the result of all the noodles that the cups were torn open therefore the garbage can got them. The box that they were in was full of dry noodles cheese and rice. If you buy remember this review!!!\",\n",
    "    \"I just have to ask because I can't be the ONLY one. It clearly states on the directions to FILL (with water)TO THE FILL LINE. That would be wonderful but there is NO fill line. I've had other family members look because I thought I was blind and sure enough NO fill line anywhere. Are we supposed to guess the oz. of water? Never purchasing again. So frustrating.\",\n",
    "    \"The package was delivered with no problem and the box was intact and in good shape, but when I opened the box, 2 of the containers were opened, with rice spilled all in the box and made a mess in my carpet when opened.\",\n",
    "    \"Laziness crossed paths with nostalgia and this was the result. I have been wanting to try some sort of microwaveable rice dish. Rice a Roni came up in one of my searches. I recalled how the boxed was considered a 'treat' when I was growing up. My brain proceeded to shut down. I ordered the Four Cheese. I followed the directions to the letter. It boiled over about 1.75 minutes in. The mess was made so I stuck with it. Forget about the one minute cool down.\",\n",
    "    \"I got this last week of July 2023 and in mid August 2023 I opened a container and there were amber colored balls of wet, clumpy flavoring? on top of the rice. So gross. Container after container was a wet clumpy mess. I know I kept it in good condition, temperature controlled setting. Tossed most of it, kept a few to photograph. Buyer beware. Never had this happen before.\",\n",
    "    \"Ideally this a great concept if you are feeding only one or two people or just a quick snack. Too bad the expiration date is very very short., 2 months to be exact.\",\n",
    "    \"So many opened and damaged maybe got 4 out of the box that were intact.\",\n",
    "    \"The box was fine but when I opened it 4 of the cups were open. I’ve tried to get a refund but the app won’t let me.\",\n",
    "    \"I really hated these rice cups. I have eaten pasta roni, macaroni & cheese and mashed potatoes in these add water & microwave cups. These are the second worst (Kraft macaroni and cheese top the list as the grossest). I threw these away which I hate doing, wasting food and money but they were inedible.\",\n",
    "    \"All I can figure is they must be having supply problems for the ingredients. I have bought the chicken flavor for years and in the last five or so months:\",\n",
    "    \"I have twice ordered this and both times over half of the cups are not sealed, resulting in rice/pasta/seasoning all over the inside of the box. I will not be ordering again.\",\n",
    "    \"Purchase them July 7 they were delivered jul8. Made one for my daughter she said it tasted funny. So I made a second one. Not even two minutes cooking and half of the broth come out. I checked them they expired July 29. I had to ask for a refund and put the rest on the thrash.\",\n",
    "    \"They will send you an expiring batch that tastes awful. I didn’t realize it until it was too late, and they wouldn’t refund or replace it. Save your stomachs!\",\n",
    "    \"3 of 12 containers were broken upon arrival...\",\n",
    "    \"I received the delivery on October 4. The items expired on September 29. I am very disappointed.\",\n",
    "    \"I finally got this box opened and all but 3 or 4 containers inside where all unsealed I only had the box about a month. Not happy with this. I will ask for my money back.\",\n",
    "    \"I had 2 cases delivered. Only 8 arrived with tops intact... 8/24 isn't good.\",\n",
    "    \"They boil over in microwave and they have no taste. No one here likes them.\",\n",
    "    \"Awful\",\n",
    "    \"I will not buy it again, and don't waste your money. Heavy chemical smell and taste. Like paint. Can't return or get a refund.\",\n",
    "    \"Received expired product. I want a refund for Rice a Roni Chicken flavor cups\",\n",
    "    \"All items were going to Expire in 3 months Plus all the 4 Pasta Roni Lid's Seal were Broken.\",\n",
    "    \"Have tried using this product for years. Have adjusted time, used less water, everything I can think of. But nine out of ten times the cup overflows when cooking.\",\n",
    "    \"I have ordered this for over a year. Then all of a sudden, they start getting delivered TWO MONTHS out of date! Canceled my subscription.\",\n",
    "    \"Well if you had boxed Rice a Roni a few years back, this is definitely not the same. Maybe the ingredients changed or it’s different when in a microwave packaging (then why even make it?) but they were all BAD!\",\n",
    "    \"As you can see in every lid the seal didn't seal in the same exact spot, the product looked gross. All went to the trash!\",\n",
    "    \"The exterior box was fine with no dents or damage. Bowls were busted open on the inside of the box. Won’t buy again.\",\n",
    "    \"I received my order on July 13th a day late, and when I opened my shipment, noticed they are going to expire on Sep 29 23 and NOT the varieties indicated.\"\n",
    "]\n",
    "\n",
    "# 0 sentiment indicating negative reviews\n",
    "add_reviews_to_csv(reviews=reviews, sentiment=0, item_name=\"Rice-a-roni\")"
   ]
  },
  {
   "cell_type": "markdown",
   "id": "07cd625a",
   "metadata": {
    "papermill": {
     "duration": 0.010635,
     "end_time": "2023-12-05T21:22:02.755144",
     "exception": false,
     "start_time": "2023-12-05T21:22:02.744509",
     "status": "completed"
    },
    "tags": []
   },
   "source": [
    "## Gatorade Whey Protein Bars (Positive Reviews)"
   ]
  },
  {
   "cell_type": "code",
   "execution_count": 7,
   "id": "1b4e4502",
   "metadata": {
    "execution": {
     "iopub.execute_input": "2023-12-05T21:22:02.779448Z",
     "iopub.status.busy": "2023-12-05T21:22:02.779004Z",
     "iopub.status.idle": "2023-12-05T21:22:02.797218Z",
     "shell.execute_reply": "2023-12-05T21:22:02.795699Z"
    },
    "papermill": {
     "duration": 0.03397,
     "end_time": "2023-12-05T21:22:02.800012",
     "exception": false,
     "start_time": "2023-12-05T21:22:02.766042",
     "status": "completed"
    },
    "tags": []
   },
   "outputs": [
    {
     "name": "stdout",
     "output_type": "stream",
     "text": [
      "Reviews added to CSV file 'model_evaluation_reviews.csv' successfully.\n"
     ]
    }
   ],
   "source": [
    "reviews = [\n",
    "    \"The Gatorade Whey Protein Recover Bars in Chocolate Chip are nothing short of spectacular! These 2.8-ounce bars come in a convenient 12-count box, making them a must-have for anyone looking to refuel after a workout or intense activity.\\n\\nFirst, let's talk about the taste. The chocolate chip flavor is simply delectable. It's not overly sweet, and the chocolate chips provide a satisfying crunch with every bite. It's like indulging in a treat while you're actually giving your body the protein it needs to recover effectively.\\n\\nWhat sets these bars apart is their protein content. With 20 grams of high-quality whey protein per bar, they are an excellent way to support muscle recovery and repair. Whether you're a dedicated athlete or just someone looking to replenish energy post-workout, these bars have you covered.\\n\\nTexture-wise, they strike the perfect balance. They're not too hard or too soft, making them easy to chew and digest. Plus, they're not overly dry, so you won't be left reaching for water after each bite.\\n\\nThe convenience factor is a significant win. You can toss these bars in your gym bag, backpack, or keep them at your desk for a quick and nutritious snack. It's a delicious solution for those on-the-go moments when you need a protein boost.\\n\\nIn summary, Gatorade's Chocolate Chip Whey Protein Recover Bars are a game-changer. They combine exceptional taste with a substantial protein punch in a convenient, grab-and-go package. Whether you're an athlete, fitness enthusiast, or just someone who appreciates a tasty and nutritious snack, these bars are a must-try. Don't miss out on the opportunity to supercharge your recovery with this spectacular product!\",\n",
    "    \"I loved these bars, these are very tasty and melts right away. The combination of chocolate and caramel are right in combination and good to taste. The texture is really impressive, chewy, crunchy, and packed really well. For the cost, not many companies offer 20g protein with good taste and delicious one. Very convenient to carry, I always takes these to gym and eat like a snack, it helps me to meet my daily protein consumption.\\n\\nThe only problem I have is that these melts when kept in warm temperatures. It is little inconvenient to take these bars on sunny days as it get sticky and can’t eat without making a mess. Again I can’t complain much because it is what it is (may the stickiness is because of the caramel, chocolate and sugars I guess).\\n\\nIf you are someone who wants to try out the chocolate/caramel protein bars, I will highly recommend this and I have recommended this to lot of friends as well. But if you are looking for less sugar protein bars this is not for you.\\n\\nHope this helps to whoever it is.\",\n",
    "    \"The Gatorade Whey Protein Bars in the Cookies & Crème flavor have become a delightful addition to my post-workout routine. These 2.8 oz bars pack a punch with 20g of protein per bar, making them a convenient and satisfying protein source after a workout or as a mid-day snack.\\n\\nThe Cookies & Crème flavor is delicious and satisfying, striking a perfect balance between sweet and creamy. The texture of the bar is soft and chewy, with crunchy cookie pieces scattered throughout, providing a delightful contrast in every bite.\\n\\nI appreciate that these protein bars are not overly sweet, making them a suitable option for those who prefer a less sugary snack. The bars also do not have a chalky or artificial aftertaste, which is common in some protein bars.\\n\\nThe protein content of 20g per bar is commendable, and it helps me meet my daily protein requirements easily, especially on busy days when cooking a protein-rich meal isn't feasible. The bars keep me feeling full and satisfied between meals, curbing any mid-day hunger pangs.\\n\\nThe pack of 12 bars is a cost-effective option, providing enough bars to last me for several weeks. The individually wrapped bars are convenient to grab on the go or toss into my gym bag for a quick post-workout refuel.\\n\\nOne minor drawback is that the bars can get a bit sticky in warmer temperatures, especially during the summer months. This can be a little inconvenient, as I need to handle them carefully to avoid making a mess.\\n\\nIn conclusion, the Gatorade Whey Protein Bars in Cookies & Crème flavor offer a tasty and convenient way to boost protein intake after workouts or as a satisfying snack. The flavor and texture make them an enjoyable treat, while the high protein content provides a substantial nutritional benefit. The pack of 12 bars offers excellent value for money, making it a convenient option for those seeking a quick protein source. The slight stickiness in warm temperatures is a minor issue, but it doesn't detract from the overall positive experience. I highly recommend these protein bars for their taste and nutritional value, and I rate them with four stars.\",\n",
    "    \"The Gatorade Whey Protein Bars Variety Pack is a must-have for fitness enthusiasts. With 18 bars in one pack, it offers a convenient and delicious way to fuel your workouts. Each 2.8 oz bar is packed with high-quality whey protein, providing the necessary nutrients for muscle recovery and growth. The variety pack ensures that you never get bored with flavors like chocolate chip, peanut butter, and cookies and cream. These bars are not only tasty but also provide a great source of energy during intense training sessions. Overall, the Gatorade Whey Protein Bars Variety Pack is a fantastic addition to any athlete's diet.\",\n",
    "    \"The only issue with these are that they take quite a bit of jaw strength to chomp down and chew. If you threw one in the microwave for 5 seconds it probably would be a lot easier, but I'm stubborn and ate it the way it was.\",\n",
    "    \"My very picky teenage daughter is on her 3rd box. She uses them for snacks, breakfast replacement & post workout depending on the day. They keep her full for a few hours & replenish her energy after sports.\",\n",
    "    \"they melted a little in the heat will being shipped\",\n",
    "    \"Decent amount at a decent price.\",\n",
    "    \"love this flavor, best one out of all of them!\",\n",
    "    \"Great Nutritional Value\\n\\nIf you can find them for cheap/on sale than I say go for it. They're pretty sweet but they have a high protein content. I eat about a third or half of one most times and then put it away. Tbh though the price is too high for these. You can get more protein per dollar elsewhere and bypass all that sugar so you don't crash.\",\n",
    "    \"Perfect to supplement my husband’s light lunch\",\n",
    "    \"Do to my illness doctor wanted me to eat lots of protein. These bars have quite a lot of protein and selections in flavors. But most of all the taste great! These are definitely my favorite brad of protein bars\",\n",
    "    \"I believe these were a bit after their expiration date.\",\n",
    "    \"This is a good deal, but the bars are clearly kept in a heated environment because they are pretty flaky when you unwrap them.\",\n",
    "    \"Gatorade Whey Protein Bars in Chocolate Caramel flavor are a delightful treat for fitness enthusiasts and active individuals alike. These bars not only satisfy my sweet tooth but also provide a powerful punch of protein to support my post-workout recovery. Each bar is packed with 20 grams of whey protein, making them an ideal on-the-go snack to refuel and repair my muscles after a strenuous workout or a busy day.\\n\\nWhat sets these protein bars apart is their delicious taste and chewy texture. The combination of chocolate and caramel creates a mouthwatering flavor profile that feels like a guilty pleasure but actually fits well into my healthy lifestyle. I love how convenient they are to throw into my gym bag or keep at my desk for a quick and satisfying snack. Gatorade has truly hit the mark with these protein bars, delivering a winning combination of taste and nutrition. If you're looking for a delicious and effective way to support your active lifestyle, Gatorade Whey Protein Bars in Chocolate Caramel are the perfect choice to keep you fueled and energized throughout the day.\",\n",
    "    \"Loved these\",\n",
    "    \"Very tasty\",\n",
    "    \"My kids and I love the Gatorade protein bars. Very filling and the taste is great on most of the bars. You don’t have a weird after taste like some protein bars.\",\n",
    "    \"The chocolate caramel ones are delicious and pack enough calories to last me a little while.\",\n",
    "    \"These are good and have a high protein content.\",\n",
    "    \"I have lost 70 pounds in less than a year! Not a desired loss. All kinds of tests and I am wasting away! This is one of the only bars I can stand and they have 350 calories per bar! When you are in my shape the more healthy calories the better! Thanks Gatorade!!!\",\n",
    "    \"Fills me up. Gives energy boost up.\",\n",
    "    \"Gatorade Whey Protein Bars in Cookies & Crème flavor are an absolute delight, balancing taste and nutrition impeccably. Each 2.8 oz bar is packed with 20g of high-quality whey protein, providing a substantial post-workout refuel or a satisfying snack for active individuals.\\n\\nThe standout is the Cookies & Crème flavor, which tastes genuinely indulgent without the usual chalky or artificial aftertaste found in many protein bars. It's like enjoying a dessert, only with the benefits of a protein supplement!\\n\\nThe texture is equally impressive – just the right balance of chewiness without being overly dense. These bars are individually packaged, making them the perfect on-the-go snack for busy lifestyles.\\n\\nIn summary, if you're in the market for a tasty, convenient, and high-protein snack, Gatorade Whey Protein Bars in Cookies & Crème flavor should be your go-to choice!\",\n",
    "    \"Great\",\n",
    "    \"Nice\",\n",
    "    \"My son is a vegetarian 95% of the time (he only eats burgers from one restaurant) so as a mother I worry about protein in his diet (he’s 16). We discovered these about 3-4 years ago. We have tried other brands but this is the only one he will eat consistently and constantly. He loves the taste and that he can grab a bar on the go - before school, at lunch, before ball practice, as a snack or whenever. Convenient, tasty, and full of protein. There are also 220 mg of calcium 1 mg of iron and 1 g of fiber. Sodium is only 15% of the daily value. My biggest issue with these is that the peanut butter chocolate flavor is sometimes difficult to find and often more expensive than the other flavors. But if you are seeking a protein bar or have a picky eater, I highly recommend these.\",\n",
    "    \"Yummy and great price!\",\n",
    "    \"Surprisingly great taste.\",\n",
    "    \"Then again, maybe they are good for you, especially if you're starving. Yummy.\",\n",
    "]\n",
    "\n",
    "add_reviews_to_csv(reviews=reviews, sentiment=1, item_name=\"Gatorade Whey Protein Bars\")"
   ]
  },
  {
   "cell_type": "markdown",
   "id": "e94128eb",
   "metadata": {
    "papermill": {
     "duration": 0.01093,
     "end_time": "2023-12-05T21:22:02.821937",
     "exception": false,
     "start_time": "2023-12-05T21:22:02.811007",
     "status": "completed"
    },
    "tags": []
   },
   "source": [
    "## Gatorade Whey Protein Bars (Negative Reviews)"
   ]
  },
  {
   "cell_type": "code",
   "execution_count": 8,
   "id": "caf07633",
   "metadata": {
    "execution": {
     "iopub.execute_input": "2023-12-05T21:22:02.846036Z",
     "iopub.status.busy": "2023-12-05T21:22:02.845608Z",
     "iopub.status.idle": "2023-12-05T21:22:02.857335Z",
     "shell.execute_reply": "2023-12-05T21:22:02.856149Z"
    },
    "papermill": {
     "duration": 0.02678,
     "end_time": "2023-12-05T21:22:02.859711",
     "exception": false,
     "start_time": "2023-12-05T21:22:02.832931",
     "status": "completed"
    },
    "tags": []
   },
   "outputs": [
    {
     "name": "stdout",
     "output_type": "stream",
     "text": [
      "Reviews added to CSV file 'model_evaluation_reviews.csv' successfully.\n"
     ]
    }
   ],
   "source": [
    "reviews = [\n",
    "    \"This protein bar is more detrimental to your health than any protein bar I have ever purchased. It is so full of harmful ingredients like sugar, vegetable oil, corn syrup, and brown sugar, that it is more harmful to your health than it is good. Not only is it sickeningly sweet, but it has more calories (350), and is more fattening than most candy bars. Do yourself a favor, and read the ingredients.\",\n",
    "    \"I was very surprised that despite an expiration date of Feb0224 that all the bars were inedible and had to be thrown out. As you can see from the photo, the chocolate had a whitish coloring which typically means they are old but in this case they must have been exposed to high temperature I am guessing.\",\n",
    "    \"I won't recommend buying if you are looking for a low-calorie bar. This is definitely a high 350 calorie bar with 20 grams of protein. It has 56g added sugar which seems to defy the whole purpose of a gym recovery bar in my opinion.\",\n",
    "    \"Give us type 2 diabetes please. 29g of sugar. If you have to eat that much sugar to get your protein, then you're doing something direly wrong with your diet when thinking you're eating healthy with this product. The crisps are absolutely disgusting in this, but the sugar content of chocolate flavor makes you think it's good while it destroys your body from within. This isn't what any athlete should never put in their body - just because it has 'protein' content.\",\n",
    "    \"The bars are solid white and either got too hot to change the color just trying to get a refund or some way to return them.\",\n",
    "    \"Bought these thinking they would be comparable to other protein bars, but they are not. The calorie to protein ratio is completely unacceptable. It’s misleading and deceptive to market these for health & fitness.\",\n",
    "    \"Look at the ingredients before purchasing. It's full of sugar - more than %14 of your daily sugar intake in one bar with over 350 calories. It’s extremely sweet to a point your teeth hurt, and you can taste the low-quality ingredients; from cheap chocolate coating to palm oil and other inflammatory ingredients that are GMO & non-organic. Spend a couple of dollars extra and don’t poison your body with this sugar bomb!\",\n",
    "    \"Melted when delivered. Normally, this product has arrived as expected and been great. However, my last delivery arrived with the product having been melted and is now pretty bad and difficult to eat. I canceled my subscription due to this delivery.\",\n",
    "    \"When I got my last order the box was taped. When I opened it - a few of the bars were missing. It’s unfortunate because I really like all of the flavors but I only got the same flavor for each box rather than a variety.\",\n",
    "    \"We love the Gatorade bars at our house...but I opened two from the same box that looked old.\",\n",
    "    \"I understand it’s on me for not fully reading the ingredients list/nutritional chart on the listing. But the sugar content being over half a daily dose for a protein bar is absurd. Cannot and will not recommend to anyone unless they are asking for a chocolate bar recommendation.\",\n",
    "    \"Very sugary.\",\n",
    "    \"There is no 'carmal' filling.\",\n",
    "    \"Although they taste great, they are bad for you because they are full of refined carbs and sugar. That will raise Insulin and cause weight gain.\",\n",
    "    \"I love the bars. I just never received them. Picture was taken that it was delivered and hoped to bring them in at 630 am in the morning, but nothing on the porch. Would like to request a replacement of the original order.\",\n",
    "    \"The low score is NOT for the product. The product is great. Always enjoyable and does what it's produced for. But, BUT, a two-dollar increase per box in two months is ABSOLUTE BS!\",\n",
    "    \"I bought these for a quick bit of energy before leaving for work in the morning but they are very overwhelming. The caramel one tastes good but the cookie one not so much. Way too sweet and I can't help but feel sick and grossed out after eating one.\",\n",
    "    \"It's like air got in these or something. I buy these in the store all the time. This batch is horrible. They changed the product from Whey Protein to just Protein but did not change the Amazon product description. This may not seem like much but is actually a HUGE difference!!! Firstly, they use MORE SOY and LESS WHEY than before. Secondly, SOY is an inferior protein, harder to digest, A LOT WORSE for muscle building when compared to whey. Thirdly, the TASTE is waaayy off as compared to before. Not only that, SOY protein is actually HARDER to digest (I get stomach cramps when I have it on an empty stomach) and does not contain ALL THE ESSENTIAL AMINO ACIDS needed for muscle growth. Really cheap tricks being played by Gatorade here. I used to love the Whey version, but now I'm no longer buying this.\",\n",
    "    \"Chocolate is covered in a white film it’s old and the taste is old and stale. Very disappointing.\",\n",
    "    \"I won't repurchase them, for sure. My favorite ones are the chocolate mint.\",\n",
    "    \"28 Grams of ADDED sugar. I wish they included the complete nutritional facts otherwise I would’ve never purchased.\",\n",
    "    \"Taste is not great at all and bars are 330 cals for only 20g of protein. Would not buy again.\",\n",
    "    \"I tried to return and apparently you can't. Opened up the box and I was shorted 1 bar. Nice!\"\n",
    "]\n",
    "\n",
    "add_reviews_to_csv(reviews=reviews, sentiment=0, item_name=\"Gatorade Whey Protein Bars\")"
   ]
  },
  {
   "cell_type": "markdown",
   "id": "26408d45",
   "metadata": {
    "papermill": {
     "duration": 0.010794,
     "end_time": "2023-12-05T21:22:02.881519",
     "exception": false,
     "start_time": "2023-12-05T21:22:02.870725",
     "status": "completed"
    },
    "tags": []
   },
   "source": [
    "## Little Debbie Oatmeal Creme Pies"
   ]
  },
  {
   "cell_type": "code",
   "execution_count": 9,
   "id": "80d3fa08",
   "metadata": {
    "execution": {
     "iopub.execute_input": "2023-12-05T21:22:02.905657Z",
     "iopub.status.busy": "2023-12-05T21:22:02.905198Z",
     "iopub.status.idle": "2023-12-05T21:22:02.918308Z",
     "shell.execute_reply": "2023-12-05T21:22:02.917210Z"
    },
    "papermill": {
     "duration": 0.028593,
     "end_time": "2023-12-05T21:22:02.921023",
     "exception": false,
     "start_time": "2023-12-05T21:22:02.892430",
     "status": "completed"
    },
    "tags": []
   },
   "outputs": [
    {
     "name": "stdout",
     "output_type": "stream",
     "text": [
      "Reviews added to CSV file 'model_evaluation_reviews.csv' successfully.\n"
     ]
    }
   ],
   "source": [
    "reviews = [\n",
    "    \"When my husband was a little boy, he got this cookie as a treat. Now that I found them on Amazon, they are constantly on my list to order. They bring back the good memories of his childhood.\",\n",
    "    \"These cookies are very tasty, fresh and so reasonably priced, even I couldn't believe it. I really like that they are individually wrapped.\",\n",
    "    \"I keep them on my coffee bar, so if someone is at our house and wants to grab one - they are available.\",\n",
    "    \"I will continue to purchase these from Amazon and I highly recommend them.\",\n",
    "    \"I was also buying these at the deli for 75 cents a piece, that was until I found out about this amazing deal. I can't stress it enough. The Oatmeal Cream Pies are incredibly delicious and it literally melts in your mouth. One particular day I ate half the box, couldn't sleep for a few hours, when I finally did I dreamt I was in space flying all the way to earth into the Atlantic ocean meeting video game characters along the way....That was a good dream\",\n",
    "    \"Living in Hawaii, it’s nice to purchase these from Amazon at mainland prices. Some are a little dried out. Overall any food that is less than here is a bargain and this qualifies. If you live in mainland USA, I would buy these at a store.\",\n",
    "    \"For the price nothing comes close to these cookies. I eat these during my break to keep my blood sugar stable.\",\n",
    "    \"Arrived November 20th best by date Dec.7.23. Tastes good but a little tougher than the fresh-bought ones, not as soft.\",\n",
    "    \"Little Debbie is a classic snack cake that has been around a long time. They are a nice little sweet snack.\",\n",
    "    \"It’s a classic that brings back childhood memories. I like that each cream pie is individually wrapped. The cream pies were amazing. The pricing was also great. I do wish they were a little bit bigger.\",\n",
    "    \"I was craving these Little Debbie Oatmeal Creme Pies after not having had them for decades. It was so nostalgic to eat them again. My mom used to buy these really often. My sister and I were allowed to have these when we got home from school. We would sit at the kitchen table and have one of these each with a glass of carefully poured milk. We were allowed to have a snack before dinner, which wasn't until 7 pm. These Little Debbie's were always one of my favorite treats. I think my mom bought them because she thought since they were made with oats they must be healthy. They're sweet, yummy and really are good with milk or coffee.\",\n",
    "    \"Great price, but when it came time to chow down it tasted old to me.\",\n",
    "    \"These came in quickly and were very fresh.\",\n",
    "    \"This 12-pack of oatmeal cream pies is a great buy. Each cream pie comes individually wrapped, making it easy to space these out and pace yourself or to eat them on-the-go. This is a classic going back generations, and it makes it to my list of comfort foods for my sweet tooth. The kids love them as well. The convenience of home delivery makes this even better, improving the overall value and convenience. Very nice!\",\n",
    "    \"There’s not much to say, it’s LIL’ DEBBIE! If you’ve never tried them…WHY?? They’re soo delicious, you’ll think they just came out of the OVEN and cooled off! Do yourself a FLAVORFUL FAVOR and TRY IT! You won’t regret it, unless you don’t like CAKE, that is!\",\n",
    "    \"It was soo good it's to die for highly recommended.\",\n",
    "    \"Each one is individually wrapped and easy to take to go. Great oatmeal flavor with just enough sweetness. So glad we could buy these on Amazon.\",\n",
    "    \"My favorite cookies. I finished them all in a week lol, I couldn't help myself\",\n",
    "    \"ENTIRE household (4) go through ENTIRE box day delivered! If I 'hide,' I end up eating ENTIRE box, day delivered!\",\n",
    "    \"It was as expected.\",\n",
    "    \"Little Debby was a friend of my family for years, same great taste, same great value\",\n",
    "    \"GOOD QUALITY GOOD PRICE THANKS.😇.\",\n",
    "    \"While not as big as they once were, we still love the Little Debbie Oatmeal Cookies. Hard to find them for a reasonable price locally, so glad that we are able to have them shipped directly to us for a reasonable price. My daughter loves them\",\n",
    "    \"Very fresh and tasty 😋 Great value for the money Highly recommend 👌\",\n",
    "    \"You can't go wrong with Little Debbie's cakes\",\n",
    "    \"Arrived on time, very moist, great taste. Great value.\",\n",
    "    \"I wanted to hand these out for Trick or treat this year. This was the best price. Pies were good, none damaged.\",\n",
    "    \"They are tasty, but don't put them inside the fridge, because the cold will affect their softness.\",\n",
    "    \"Just like I remembered. I don't have these at the local grocery store I frequent, so I was thrilled to see they have it on Amazon!! Did not disappoint, I will probably continue buying them here as I hear it works wonders for breastfeeding mothers' milk supply!\",\n",
    "    \"It's just sad when your SO eats all of the oatmeal crème pies and then I have to go a whole day without eating one and then the other retailer wouldn't deliver them to me but then I found them on here and like a miracle the delicious, moist, frosting-laden pure goodness was on my doorstep by noon - just in time for lunch. Thank you, Amazon!\",\n",
    "    \"The quality of the Little Debbie oatmeal cream pie was so delicious the smell was good the texture was not bad and the appearance was really good nothing was crushed or anything it was good!!!\",\n",
    "    \"Taste is the main thing. Good small cake. Add to lunchbox or after dinner. Cream-filled. These are not big. But, tasty & enough.\"\n",
    "]\n",
    "\n",
    "add_reviews_to_csv(reviews=reviews, sentiment=1, item_name=\"Little Debbie Oatmeal Creme Pies\")"
   ]
  },
  {
   "cell_type": "code",
   "execution_count": 10,
   "id": "fcef66cd",
   "metadata": {
    "execution": {
     "iopub.execute_input": "2023-12-05T21:22:02.945847Z",
     "iopub.status.busy": "2023-12-05T21:22:02.945420Z",
     "iopub.status.idle": "2023-12-05T21:22:03.430380Z",
     "shell.execute_reply": "2023-12-05T21:22:03.429140Z"
    },
    "papermill": {
     "duration": 0.500583,
     "end_time": "2023-12-05T21:22:03.433441",
     "exception": false,
     "start_time": "2023-12-05T21:22:02.932858",
     "status": "completed"
    },
    "tags": []
   },
   "outputs": [
    {
     "data": {
      "text/html": [
       "<div>\n",
       "<style scoped>\n",
       "    .dataframe tbody tr th:only-of-type {\n",
       "        vertical-align: middle;\n",
       "    }\n",
       "\n",
       "    .dataframe tbody tr th {\n",
       "        vertical-align: top;\n",
       "    }\n",
       "\n",
       "    .dataframe thead th {\n",
       "        text-align: right;\n",
       "    }\n",
       "</style>\n",
       "<table border=\"1\" class=\"dataframe\">\n",
       "  <thead>\n",
       "    <tr style=\"text-align: right;\">\n",
       "      <th></th>\n",
       "      <th>Item Name</th>\n",
       "      <th>Sentiment</th>\n",
       "      <th>Review</th>\n",
       "    </tr>\n",
       "  </thead>\n",
       "  <tbody>\n",
       "    <tr>\n",
       "      <th>0</th>\n",
       "      <td>Jack Links Jerky</td>\n",
       "      <td>1</td>\n",
       "      <td>It is a bit oily and spicy for me to eat more ...</td>\n",
       "    </tr>\n",
       "    <tr>\n",
       "      <th>1</th>\n",
       "      <td>Jack Links Jerky</td>\n",
       "      <td>1</td>\n",
       "      <td>Jack Link's Beef Sticks are so good. They are ...</td>\n",
       "    </tr>\n",
       "    <tr>\n",
       "      <th>2</th>\n",
       "      <td>Jack Links Jerky</td>\n",
       "      <td>1</td>\n",
       "      <td>If you're looking at a box of these, you proba...</td>\n",
       "    </tr>\n",
       "    <tr>\n",
       "      <th>3</th>\n",
       "      <td>Jack Links Jerky</td>\n",
       "      <td>1</td>\n",
       "      <td>These are the best beef sticks ever! Great pri...</td>\n",
       "    </tr>\n",
       "    <tr>\n",
       "      <th>4</th>\n",
       "      <td>Jack Links Jerky</td>\n",
       "      <td>1</td>\n",
       "      <td>It's a sugar-free sausage link. What more can ...</td>\n",
       "    </tr>\n",
       "    <tr>\n",
       "      <th>...</th>\n",
       "      <td>...</td>\n",
       "      <td>...</td>\n",
       "      <td>...</td>\n",
       "    </tr>\n",
       "    <tr>\n",
       "      <th>288</th>\n",
       "      <td>Little Debbie Oatmeal Creme Pies</td>\n",
       "      <td>1</td>\n",
       "      <td>They are tasty, but don't put them inside the ...</td>\n",
       "    </tr>\n",
       "    <tr>\n",
       "      <th>289</th>\n",
       "      <td>Little Debbie Oatmeal Creme Pies</td>\n",
       "      <td>1</td>\n",
       "      <td>Just like I remembered. I don't have these at ...</td>\n",
       "    </tr>\n",
       "    <tr>\n",
       "      <th>290</th>\n",
       "      <td>Little Debbie Oatmeal Creme Pies</td>\n",
       "      <td>1</td>\n",
       "      <td>It's just sad when your SO eats all of the oat...</td>\n",
       "    </tr>\n",
       "    <tr>\n",
       "      <th>291</th>\n",
       "      <td>Little Debbie Oatmeal Creme Pies</td>\n",
       "      <td>1</td>\n",
       "      <td>The quality of the Little Debbie oatmeal cream...</td>\n",
       "    </tr>\n",
       "    <tr>\n",
       "      <th>292</th>\n",
       "      <td>Little Debbie Oatmeal Creme Pies</td>\n",
       "      <td>1</td>\n",
       "      <td>Taste is the main thing. Good small cake. Add ...</td>\n",
       "    </tr>\n",
       "  </tbody>\n",
       "</table>\n",
       "<p>293 rows × 3 columns</p>\n",
       "</div>"
      ],
      "text/plain": [
       "                            Item Name  Sentiment  \\\n",
       "0                    Jack Links Jerky          1   \n",
       "1                    Jack Links Jerky          1   \n",
       "2                    Jack Links Jerky          1   \n",
       "3                    Jack Links Jerky          1   \n",
       "4                    Jack Links Jerky          1   \n",
       "..                                ...        ...   \n",
       "288  Little Debbie Oatmeal Creme Pies          1   \n",
       "289  Little Debbie Oatmeal Creme Pies          1   \n",
       "290  Little Debbie Oatmeal Creme Pies          1   \n",
       "291  Little Debbie Oatmeal Creme Pies          1   \n",
       "292  Little Debbie Oatmeal Creme Pies          1   \n",
       "\n",
       "                                                Review  \n",
       "0    It is a bit oily and spicy for me to eat more ...  \n",
       "1    Jack Link's Beef Sticks are so good. They are ...  \n",
       "2    If you're looking at a box of these, you proba...  \n",
       "3    These are the best beef sticks ever! Great pri...  \n",
       "4    It's a sugar-free sausage link. What more can ...  \n",
       "..                                                 ...  \n",
       "288  They are tasty, but don't put them inside the ...  \n",
       "289  Just like I remembered. I don't have these at ...  \n",
       "290  It's just sad when your SO eats all of the oat...  \n",
       "291  The quality of the Little Debbie oatmeal cream...  \n",
       "292  Taste is the main thing. Good small cake. Add ...  \n",
       "\n",
       "[293 rows x 3 columns]"
      ]
     },
     "execution_count": 10,
     "metadata": {},
     "output_type": "execute_result"
    }
   ],
   "source": [
    "import pandas as pd\n",
    "df = pd.read_csv('/kaggle/working/model_evaluation_reviews.csv')\n",
    "df"
   ]
  },
  {
   "cell_type": "markdown",
   "id": "38ac4a59",
   "metadata": {
    "papermill": {
     "duration": 0.011428,
     "end_time": "2023-12-05T21:22:03.457173",
     "exception": false,
     "start_time": "2023-12-05T21:22:03.445745",
     "status": "completed"
    },
    "tags": []
   },
   "source": [
    "## TAG for sentiment represents amazon's tag review\n",
    "## SEN for sentiment represents amazon's sentence summary\n"
   ]
  },
  {
   "cell_type": "code",
   "execution_count": 11,
   "id": "4904b6f4",
   "metadata": {
    "execution": {
     "iopub.execute_input": "2023-12-05T21:22:03.482798Z",
     "iopub.status.busy": "2023-12-05T21:22:03.482395Z",
     "iopub.status.idle": "2023-12-05T21:22:03.488063Z",
     "shell.execute_reply": "2023-12-05T21:22:03.486893Z"
    },
    "papermill": {
     "duration": 0.022063,
     "end_time": "2023-12-05T21:22:03.490727",
     "exception": false,
     "start_time": "2023-12-05T21:22:03.468664",
     "status": "completed"
    },
    "tags": []
   },
   "outputs": [],
   "source": [
    "def tags_to_sentence(tags):\n",
    "    sentence_template = \"Customers like this product due to its \"\n",
    "    sentence = sentence_template + \", \".join(tags)\n",
    "    return sentence"
   ]
  },
  {
   "cell_type": "code",
   "execution_count": 12,
   "id": "0e57dc53",
   "metadata": {
    "execution": {
     "iopub.execute_input": "2023-12-05T21:22:03.516629Z",
     "iopub.status.busy": "2023-12-05T21:22:03.516042Z",
     "iopub.status.idle": "2023-12-05T21:22:03.522866Z",
     "shell.execute_reply": "2023-12-05T21:22:03.521632Z"
    },
    "papermill": {
     "duration": 0.023041,
     "end_time": "2023-12-05T21:22:03.525760",
     "exception": false,
     "start_time": "2023-12-05T21:22:03.502719",
     "status": "completed"
    },
    "tags": []
   },
   "outputs": [],
   "source": [
    "def add_amazon_ground_truth(tags, sentence, product):\n",
    "    add_reviews_to_csv(reviews=[tags_to_sentence(amazon_ai_tags)], sentiment='TAG', item_name=product)\n",
    "    add_reviews_to_csv(reviews=[amazon_ai_summary], sentiment='SEN', item_name=product)"
   ]
  },
  {
   "cell_type": "code",
   "execution_count": 13,
   "id": "62ab75a4",
   "metadata": {
    "execution": {
     "iopub.execute_input": "2023-12-05T21:22:03.551523Z",
     "iopub.status.busy": "2023-12-05T21:22:03.551086Z",
     "iopub.status.idle": "2023-12-05T21:22:03.558954Z",
     "shell.execute_reply": "2023-12-05T21:22:03.557599Z"
    },
    "papermill": {
     "duration": 0.024574,
     "end_time": "2023-12-05T21:22:03.562019",
     "exception": false,
     "start_time": "2023-12-05T21:22:03.537445",
     "status": "completed"
    },
    "tags": []
   },
   "outputs": [
    {
     "name": "stdout",
     "output_type": "stream",
     "text": [
      "Reviews added to CSV file 'model_evaluation_reviews.csv' successfully.\n",
      "Reviews added to CSV file 'model_evaluation_reviews.csv' successfully.\n"
     ]
    }
   ],
   "source": [
    "amazon_ai_tags = [\"good taste\", \"good quality\", \"good softness\", \"good delivery\"]\n",
    "amazon_ai_summary = \"Customers like the taste and quality of the snack cake. They mention that it's a great snack and not overly sweet. They appreciate the softness and delivery. However, some customers have different opinions on value, size, and freshness.\"\n",
    "add_amazon_ground_truth(amazon_ai_tags, amazon_ai_summary, \"Little Debbie Oatmeal Creme Pies\")"
   ]
  },
  {
   "cell_type": "code",
   "execution_count": 14,
   "id": "163a1cb8",
   "metadata": {
    "execution": {
     "iopub.execute_input": "2023-12-05T21:22:03.587889Z",
     "iopub.status.busy": "2023-12-05T21:22:03.587506Z",
     "iopub.status.idle": "2023-12-05T21:22:03.593675Z",
     "shell.execute_reply": "2023-12-05T21:22:03.592568Z"
    },
    "papermill": {
     "duration": 0.022475,
     "end_time": "2023-12-05T21:22:03.596270",
     "exception": false,
     "start_time": "2023-12-05T21:22:03.573795",
     "status": "completed"
    },
    "tags": []
   },
   "outputs": [
    {
     "name": "stdout",
     "output_type": "stream",
     "text": [
      "Reviews added to CSV file 'model_evaluation_reviews.csv' successfully.\n",
      "Reviews added to CSV file 'model_evaluation_reviews.csv' successfully.\n"
     ]
    }
   ],
   "source": [
    "amazon_ai_tags = [\"good taste\", \"good quality\", \"good value\", \"good texture\", \"good size\", \"good packaging\"]\n",
    "amazon_ai_summary = \"Customers like the taste, quality, value, and texture of the snack mix. They mention that the flavors are good, the texture is crunchy and savory, and the size is a great value.\"\n",
    "add_amazon_ground_truth(amazon_ai_tags, amazon_ai_summary, \"Pub Mix\")"
   ]
  },
  {
   "cell_type": "code",
   "execution_count": 15,
   "id": "a06b8ff7",
   "metadata": {
    "execution": {
     "iopub.execute_input": "2023-12-05T21:22:03.621851Z",
     "iopub.status.busy": "2023-12-05T21:22:03.621394Z",
     "iopub.status.idle": "2023-12-05T21:22:03.629483Z",
     "shell.execute_reply": "2023-12-05T21:22:03.628247Z"
    },
    "papermill": {
     "duration": 0.02407,
     "end_time": "2023-12-05T21:22:03.632120",
     "exception": false,
     "start_time": "2023-12-05T21:22:03.608050",
     "status": "completed"
    },
    "tags": []
   },
   "outputs": [
    {
     "name": "stdout",
     "output_type": "stream",
     "text": [
      "Reviews added to CSV file 'model_evaluation_reviews.csv' successfully.\n",
      "Reviews added to CSV file 'model_evaluation_reviews.csv' successfully.\n"
     ]
    }
   ],
   "source": [
    "amazon_ai_tags = [\"good value\", \"good taste\", \"good quality\", \"good size\", \"good packaging\", \"good ease of use\", \"good weight\"]\n",
    "amazon_ai_summary = \"Customers like the taste, packaging, and ease of use of the pet food. They mention that it is a great dog food, it makes their dog food more flavorful, and is always willing to eat it. That said, customers are happy with the convenience of delivery, saying it is delivered to their doorstep quickly.\"\n",
    "add_amazon_ground_truth(amazon_ai_tags, amazon_ai_summary, \"Pedigree Dog Food\")"
   ]
  },
  {
   "cell_type": "code",
   "execution_count": 16,
   "id": "f292eb2d",
   "metadata": {
    "execution": {
     "iopub.execute_input": "2023-12-05T21:22:03.658453Z",
     "iopub.status.busy": "2023-12-05T21:22:03.657933Z",
     "iopub.status.idle": "2023-12-05T21:22:03.664970Z",
     "shell.execute_reply": "2023-12-05T21:22:03.663685Z"
    },
    "papermill": {
     "duration": 0.023417,
     "end_time": "2023-12-05T21:22:03.667560",
     "exception": false,
     "start_time": "2023-12-05T21:22:03.644143",
     "status": "completed"
    },
    "tags": []
   },
   "outputs": [
    {
     "name": "stdout",
     "output_type": "stream",
     "text": [
      "Reviews added to CSV file 'model_evaluation_reviews.csv' successfully.\n",
      "Reviews added to CSV file 'model_evaluation_reviews.csv' successfully.\n"
     ]
    }
   ],
   "source": [
    "amazon_ai_tags = [\"good taste\", \"good quality\", \"good value\", \"good easy of preparation\", \"good delivery\", \"good filling\"]\n",
    "amazon_ai_summary = \"Customers like the taste, value, ease of preparation, and quality of the rice mix. They mention that it's very tasty, great value, and effortless to cook up. Some appreciate the quality, saying that it is the best rice in the world.\"\n",
    "add_amazon_ground_truth(amazon_ai_tags, amazon_ai_summary, \"Rice-a-roni\")"
   ]
  },
  {
   "cell_type": "code",
   "execution_count": 17,
   "id": "e94cdb2d",
   "metadata": {
    "execution": {
     "iopub.execute_input": "2023-12-05T21:22:03.694245Z",
     "iopub.status.busy": "2023-12-05T21:22:03.693789Z",
     "iopub.status.idle": "2023-12-05T21:22:03.702077Z",
     "shell.execute_reply": "2023-12-05T21:22:03.700512Z"
    },
    "papermill": {
     "duration": 0.024661,
     "end_time": "2023-12-05T21:22:03.704771",
     "exception": false,
     "start_time": "2023-12-05T21:22:03.680110",
     "status": "completed"
    },
    "tags": []
   },
   "outputs": [
    {
     "name": "stdout",
     "output_type": "stream",
     "text": [
      "Reviews added to CSV file 'model_evaluation_reviews.csv' successfully.\n",
      "Reviews added to CSV file 'model_evaluation_reviews.csv' successfully.\n"
     ]
    }
   ],
   "source": [
    "amazon_ai_tags = [\"good taste\", \"good protien\", \"good quality\", \"good value\", \"good filling\", \"good size\", \"good energy\"]\n",
    "amazon_ai_summary = \"Customers like the energy, size and quality of the snack bar. They mention that it provides great energy for their workout, it fits well into their healthy lifestyle and that it doesn't have a chalky taste.\"\n",
    "add_amazon_ground_truth(amazon_ai_tags, amazon_ai_summary, \"Gatorade Whey Protein Bars\")"
   ]
  },
  {
   "cell_type": "code",
   "execution_count": 18,
   "id": "342c4992",
   "metadata": {
    "execution": {
     "iopub.execute_input": "2023-12-05T21:22:03.731180Z",
     "iopub.status.busy": "2023-12-05T21:22:03.730742Z",
     "iopub.status.idle": "2023-12-05T21:22:03.748682Z",
     "shell.execute_reply": "2023-12-05T21:22:03.747758Z"
    },
    "papermill": {
     "duration": 0.034142,
     "end_time": "2023-12-05T21:22:03.751185",
     "exception": false,
     "start_time": "2023-12-05T21:22:03.717043",
     "status": "completed"
    },
    "tags": []
   },
   "outputs": [
    {
     "data": {
      "text/html": [
       "<div>\n",
       "<style scoped>\n",
       "    .dataframe tbody tr th:only-of-type {\n",
       "        vertical-align: middle;\n",
       "    }\n",
       "\n",
       "    .dataframe tbody tr th {\n",
       "        vertical-align: top;\n",
       "    }\n",
       "\n",
       "    .dataframe thead th {\n",
       "        text-align: right;\n",
       "    }\n",
       "</style>\n",
       "<table border=\"1\" class=\"dataframe\">\n",
       "  <thead>\n",
       "    <tr style=\"text-align: right;\">\n",
       "      <th></th>\n",
       "      <th>Item Name</th>\n",
       "      <th>Sentiment</th>\n",
       "      <th>Review</th>\n",
       "    </tr>\n",
       "  </thead>\n",
       "  <tbody>\n",
       "    <tr>\n",
       "      <th>295</th>\n",
       "      <td>Pub Mix</td>\n",
       "      <td>TAG</td>\n",
       "      <td>Customers like this product due to its good ta...</td>\n",
       "    </tr>\n",
       "    <tr>\n",
       "      <th>296</th>\n",
       "      <td>Pub Mix</td>\n",
       "      <td>SEN</td>\n",
       "      <td>Customers like the taste, quality, value, and ...</td>\n",
       "    </tr>\n",
       "    <tr>\n",
       "      <th>297</th>\n",
       "      <td>Pedigree Dog Food</td>\n",
       "      <td>TAG</td>\n",
       "      <td>Customers like this product due to its good va...</td>\n",
       "    </tr>\n",
       "    <tr>\n",
       "      <th>298</th>\n",
       "      <td>Pedigree Dog Food</td>\n",
       "      <td>SEN</td>\n",
       "      <td>Customers like the taste, packaging, and ease ...</td>\n",
       "    </tr>\n",
       "    <tr>\n",
       "      <th>299</th>\n",
       "      <td>Rice-a-roni</td>\n",
       "      <td>TAG</td>\n",
       "      <td>Customers like this product due to its good ta...</td>\n",
       "    </tr>\n",
       "    <tr>\n",
       "      <th>300</th>\n",
       "      <td>Rice-a-roni</td>\n",
       "      <td>SEN</td>\n",
       "      <td>Customers like the taste, value, ease of prepa...</td>\n",
       "    </tr>\n",
       "    <tr>\n",
       "      <th>301</th>\n",
       "      <td>Gatorade Whey Protein Bars</td>\n",
       "      <td>TAG</td>\n",
       "      <td>Customers like this product due to its good ta...</td>\n",
       "    </tr>\n",
       "    <tr>\n",
       "      <th>302</th>\n",
       "      <td>Gatorade Whey Protein Bars</td>\n",
       "      <td>SEN</td>\n",
       "      <td>Customers like the energy, size and quality of...</td>\n",
       "    </tr>\n",
       "  </tbody>\n",
       "</table>\n",
       "</div>"
      ],
      "text/plain": [
       "                      Item Name Sentiment  \\\n",
       "295                     Pub Mix       TAG   \n",
       "296                     Pub Mix       SEN   \n",
       "297           Pedigree Dog Food       TAG   \n",
       "298           Pedigree Dog Food       SEN   \n",
       "299                 Rice-a-roni       TAG   \n",
       "300                 Rice-a-roni       SEN   \n",
       "301  Gatorade Whey Protein Bars       TAG   \n",
       "302  Gatorade Whey Protein Bars       SEN   \n",
       "\n",
       "                                                Review  \n",
       "295  Customers like this product due to its good ta...  \n",
       "296  Customers like the taste, quality, value, and ...  \n",
       "297  Customers like this product due to its good va...  \n",
       "298  Customers like the taste, packaging, and ease ...  \n",
       "299  Customers like this product due to its good ta...  \n",
       "300  Customers like the taste, value, ease of prepa...  \n",
       "301  Customers like this product due to its good ta...  \n",
       "302  Customers like the energy, size and quality of...  "
      ]
     },
     "execution_count": 18,
     "metadata": {},
     "output_type": "execute_result"
    }
   ],
   "source": [
    "df = pd.read_csv('/kaggle/working/model_evaluation_reviews.csv')\n",
    "df.tail(8)"
   ]
  },
  {
   "cell_type": "code",
   "execution_count": null,
   "id": "be0d0693",
   "metadata": {
    "papermill": {
     "duration": 0.013442,
     "end_time": "2023-12-05T21:22:03.777456",
     "exception": false,
     "start_time": "2023-12-05T21:22:03.764014",
     "status": "completed"
    },
    "tags": []
   },
   "outputs": [],
   "source": []
  }
 ],
 "metadata": {
  "kaggle": {
   "accelerator": "none",
   "dataSources": [],
   "dockerImageVersionId": 30587,
   "isGpuEnabled": false,
   "isInternetEnabled": true,
   "language": "python",
   "sourceType": "notebook"
  },
  "kernelspec": {
   "display_name": "Python 3",
   "language": "python",
   "name": "python3"
  },
  "language_info": {
   "codemirror_mode": {
    "name": "ipython",
    "version": 3
   },
   "file_extension": ".py",
   "mimetype": "text/x-python",
   "name": "python",
   "nbconvert_exporter": "python",
   "pygments_lexer": "ipython3",
   "version": "3.10.12"
  },
  "papermill": {
   "default_parameters": {},
   "duration": 5.468945,
   "end_time": "2023-12-05T21:22:04.310878",
   "environment_variables": {},
   "exception": null,
   "input_path": "__notebook__.ipynb",
   "output_path": "__notebook__.ipynb",
   "parameters": {},
   "start_time": "2023-12-05T21:21:58.841933",
   "version": "2.4.0"
  }
 },
 "nbformat": 4,
 "nbformat_minor": 5
}
