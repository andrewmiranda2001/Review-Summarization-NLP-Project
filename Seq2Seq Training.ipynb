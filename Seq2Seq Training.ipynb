{
 "cells": [
  {
   "cell_type": "markdown",
   "metadata": {
    "papermill": {
     "duration": 0.05006,
     "end_time": "2023-11-27T06:24:16.699194",
     "exception": false,
     "start_time": "2023-11-27T06:24:16.649134",
     "status": "completed"
    },
    "tags": []
   },
   "source": [
    "# ***Adding requirement for attention layer***"
   ]
  },
  {
   "cell_type": "code",
   "execution_count": 1,
   "metadata": {
    "execution": {
     "iopub.execute_input": "2023-11-27T06:24:16.798109Z",
     "iopub.status.busy": "2023-11-27T06:24:16.797523Z",
     "iopub.status.idle": "2023-11-27T06:24:16.814811Z",
     "shell.execute_reply": "2023-11-27T06:24:16.814206Z",
     "shell.execute_reply.started": "2023-11-27T06:22:49.504927Z"
    },
    "papermill": {
     "duration": 0.068214,
     "end_time": "2023-11-27T06:24:16.814909",
     "exception": false,
     "start_time": "2023-11-27T06:24:16.746695",
     "status": "completed"
    },
    "tags": []
   },
   "outputs": [
    {
     "data": {
      "text/plain": [
       "'/kaggle/working/attention.py'"
      ]
     },
     "execution_count": 1,
     "metadata": {},
     "output_type": "execute_result"
    }
   ],
   "source": [
    "from shutil import copyfile\n",
    "copyfile(src = \"/kaggle/input/attention-py/attention.py\", dst = \"/kaggle/working/attention.py\")"
   ]
  },
  {
   "cell_type": "markdown",
   "metadata": {
    "papermill": {
     "duration": 0.047315,
     "end_time": "2023-11-27T06:24:16.910187",
     "exception": false,
     "start_time": "2023-11-27T06:24:16.862872",
     "status": "completed"
    },
    "tags": []
   },
   "source": [
    "# ***importing required libraries***"
   ]
  },
  {
   "cell_type": "code",
   "execution_count": 2,
   "metadata": {
    "_cell_guid": "b1076dfc-b9ad-4769-8c92-a6c4dae69d19",
    "_uuid": "8f2839f25d086af736a60e9eeb907d3b93b6e0e5",
    "execution": {
     "iopub.execute_input": "2023-11-27T06:24:17.013056Z",
     "iopub.status.busy": "2023-11-27T06:24:17.012420Z",
     "iopub.status.idle": "2023-11-27T06:24:22.994800Z",
     "shell.execute_reply": "2023-11-27T06:24:22.994235Z",
     "shell.execute_reply.started": "2023-11-27T06:23:00.330562Z"
    },
    "id": "_Jpu8qLEFxcY",
    "outputId": "95968e01-faac-4911-c802-9c008a4e62cf",
    "papermill": {
     "duration": 6.036823,
     "end_time": "2023-11-27T06:24:22.994922",
     "exception": false,
     "start_time": "2023-11-27T06:24:16.958099",
     "status": "completed"
    },
    "tags": []
   },
   "outputs": [
    {
     "name": "stderr",
     "output_type": "stream",
     "text": [
      "Using TensorFlow backend.\n"
     ]
    }
   ],
   "source": [
    "import numpy as np\n",
    "import pandas as pd \n",
    "import re\n",
    "from bs4 import BeautifulSoup\n",
    "from keras.preprocessing.text import Tokenizer \n",
    "from keras.preprocessing.sequence import pad_sequences\n",
    "from nltk.corpus import stopwords\n",
    "from tensorflow.keras.layers import Input, LSTM, Embedding, Dense, Concatenate, TimeDistributed\n",
    "from tensorflow.keras.models import Model\n",
    "from tensorflow.keras.callbacks import EarlyStopping, ModelCheckpoint\n",
    "import warnings\n",
    "from attention import AttentionLayer\n",
    "pd.set_option(\"display.max_colwidth\", 200)\n",
    "\n",
    "warnings.filterwarnings(\"ignore\")"
   ]
  },
  {
   "cell_type": "markdown",
   "metadata": {
    "papermill": {
     "duration": 0.048018,
     "end_time": "2023-11-27T06:24:23.091227",
     "exception": false,
     "start_time": "2023-11-27T06:24:23.043209",
     "status": "completed"
    },
    "tags": []
   },
   "source": [
    "# ***Loading dataset to the notebook***"
   ]
  },
  {
   "cell_type": "code",
   "execution_count": 3,
   "metadata": {
    "execution": {
     "iopub.execute_input": "2023-11-27T06:24:23.202464Z",
     "iopub.status.busy": "2023-11-27T06:24:23.201873Z",
     "iopub.status.idle": "2023-11-27T06:24:31.331344Z",
     "shell.execute_reply": "2023-11-27T06:24:31.330741Z",
     "shell.execute_reply.started": "2023-11-27T06:23:08.864848Z"
    },
    "id": "wnK5o4Z1Fxcj",
    "papermill": {
     "duration": 8.192237,
     "end_time": "2023-11-27T06:24:31.331452",
     "exception": false,
     "start_time": "2023-11-27T06:24:23.139215",
     "status": "completed"
    },
    "tags": []
   },
   "outputs": [
    {
     "data": {
      "text/html": [
       "<div>\n",
       "<style scoped>\n",
       "    .dataframe tbody tr th:only-of-type {\n",
       "        vertical-align: middle;\n",
       "    }\n",
       "\n",
       "    .dataframe tbody tr th {\n",
       "        vertical-align: top;\n",
       "    }\n",
       "\n",
       "    .dataframe thead th {\n",
       "        text-align: right;\n",
       "    }\n",
       "</style>\n",
       "<table border=\"1\" class=\"dataframe\">\n",
       "  <thead>\n",
       "    <tr style=\"text-align: right;\">\n",
       "      <th></th>\n",
       "      <th>Summary</th>\n",
       "      <th>Text</th>\n",
       "      <th>cleaned_text</th>\n",
       "      <th>cleaned_summary</th>\n",
       "    </tr>\n",
       "  </thead>\n",
       "  <tbody>\n",
       "    <tr>\n",
       "      <th>0</th>\n",
       "      <td>Good Quality Dog Food</td>\n",
       "      <td>I have bought several of the Vitality canned dog food products and have found them all to be of good quality. The product looks more like a stew than a processed meat and it smells better. My Labr...</td>\n",
       "      <td>bought several vitality canned dog food products found good quality product looks like stew processed meat smells better labrador finicky appreciates product better</td>\n",
       "      <td>good quality dog food</td>\n",
       "    </tr>\n",
       "    <tr>\n",
       "      <th>1</th>\n",
       "      <td>Not as Advertised</td>\n",
       "      <td>Product arrived labeled as Jumbo Salted Peanuts...the peanuts were actually small sized unsalted. Not sure if this was an error or if the vendor intended to represent the product as \"Jumbo\".</td>\n",
       "      <td>product arrived labeled jumbo salted peanuts peanuts actually small sized unsalted sure error vendor intended represent product jumbo</td>\n",
       "      <td>advertised</td>\n",
       "    </tr>\n",
       "    <tr>\n",
       "      <th>2</th>\n",
       "      <td>\"Delight\" says it all</td>\n",
       "      <td>This is a confection that has been around a few centuries.  It is a light, pillowy citrus gelatin with nuts - in this case Filberts. And it is cut into tiny squares and then liberally coated with ...</td>\n",
       "      <td>confection around centuries light pillowy citrus gelatin nuts case filberts cut tiny squares liberally coated powdered sugar tiny mouthful heaven chewy flavorful highly recommend yummy treat famil...</td>\n",
       "      <td>delight says</td>\n",
       "    </tr>\n",
       "    <tr>\n",
       "      <th>3</th>\n",
       "      <td>Cough Medicine</td>\n",
       "      <td>If you are looking for the secret ingredient in Robitussin I believe I have found it.  I got this in addition to the Root Beer Extract I ordered (which was good) and made some cherry soda.  The fl...</td>\n",
       "      <td>looking secret ingredient robitussin believe found got addition root beer extract ordered good made cherry soda flavor medicinal</td>\n",
       "      <td>cough medicine</td>\n",
       "    </tr>\n",
       "    <tr>\n",
       "      <th>4</th>\n",
       "      <td>Great taffy</td>\n",
       "      <td>Great taffy at a great price.  There was a wide assortment of yummy taffy.  Delivery was very quick.  If your a taffy lover, this is a deal.</td>\n",
       "      <td>great taffy great price wide assortment yummy taffy delivery quick taffy lover deal</td>\n",
       "      <td>great taffy</td>\n",
       "    </tr>\n",
       "    <tr>\n",
       "      <th>...</th>\n",
       "      <td>...</td>\n",
       "      <td>...</td>\n",
       "      <td>...</td>\n",
       "      <td>...</td>\n",
       "    </tr>\n",
       "    <tr>\n",
       "      <th>568396</th>\n",
       "      <td>Will not do without</td>\n",
       "      <td>Great for sesame chicken..this is a good if not better than resturants I have eaten at..My husband loved it..will find other recipes to use this in..</td>\n",
       "      <td>great sesame chicken good better resturants eaten husband loved find recipes use</td>\n",
       "      <td>without</td>\n",
       "    </tr>\n",
       "    <tr>\n",
       "      <th>568397</th>\n",
       "      <td>disappointed</td>\n",
       "      <td>I'm disappointed with the flavor. The chocolate notes are especially weak. Milk thickens it but the flavor still disappoints. This was worth a try but I'll never buy again. I will use what's left,...</td>\n",
       "      <td>I disappointed flavor chocolate notes especially weak milk thickens flavor still disappoints worth try I never buy use left gone time thanks small cans</td>\n",
       "      <td>disappointed</td>\n",
       "    </tr>\n",
       "    <tr>\n",
       "      <th>568398</th>\n",
       "      <td>Perfect for our maltipoo</td>\n",
       "      <td>These stars are small, so you can give 10-15 of those in one training session.  I tried to train our dog with \"Ceaser dog treats\",  it just made our puppy hyper.  If you compare the ingredients, y...</td>\n",
       "      <td>stars small give 10 15 one training session tried train dog ceaser dog treats made puppy hyper compare ingredients know little stars basic food ingredients without preservatives food coloring swee...</td>\n",
       "      <td>perfect maltipoo</td>\n",
       "    </tr>\n",
       "    <tr>\n",
       "      <th>568399</th>\n",
       "      <td>Favorite Training and reward treat</td>\n",
       "      <td>These are the BEST treats for training and rewarding your dog for being good while grooming.  Lower in calories and loved by all the doggies.  Sweet potatoes seem to be their favorite Wet Noses tr...</td>\n",
       "      <td>best treats training rewarding dog good grooming lower calories loved doggies sweet potatoes seem favorite wet noses treat</td>\n",
       "      <td>favorite training reward treat</td>\n",
       "    </tr>\n",
       "    <tr>\n",
       "      <th>568400</th>\n",
       "      <td>Great Honey</td>\n",
       "      <td>I am very satisfied ,product is as advertised, I use it on cereal, with raw vinegar, and as a general sweetner.</td>\n",
       "      <td>satisfied product advertised use cereal raw vinegar general sweetner</td>\n",
       "      <td>great honey</td>\n",
       "    </tr>\n",
       "  </tbody>\n",
       "</table>\n",
       "<p>568401 rows × 4 columns</p>\n",
       "</div>"
      ],
      "text/plain": [
       "                                   Summary  \\\n",
       "0                    Good Quality Dog Food   \n",
       "1                        Not as Advertised   \n",
       "2                    \"Delight\" says it all   \n",
       "3                           Cough Medicine   \n",
       "4                              Great taffy   \n",
       "...                                    ...   \n",
       "568396                 Will not do without   \n",
       "568397                        disappointed   \n",
       "568398            Perfect for our maltipoo   \n",
       "568399  Favorite Training and reward treat   \n",
       "568400                         Great Honey   \n",
       "\n",
       "                                                                                                                                                                                                           Text  \\\n",
       "0       I have bought several of the Vitality canned dog food products and have found them all to be of good quality. The product looks more like a stew than a processed meat and it smells better. My Labr...   \n",
       "1                Product arrived labeled as Jumbo Salted Peanuts...the peanuts were actually small sized unsalted. Not sure if this was an error or if the vendor intended to represent the product as \"Jumbo\".   \n",
       "2       This is a confection that has been around a few centuries.  It is a light, pillowy citrus gelatin with nuts - in this case Filberts. And it is cut into tiny squares and then liberally coated with ...   \n",
       "3       If you are looking for the secret ingredient in Robitussin I believe I have found it.  I got this in addition to the Root Beer Extract I ordered (which was good) and made some cherry soda.  The fl...   \n",
       "4                                                                  Great taffy at a great price.  There was a wide assortment of yummy taffy.  Delivery was very quick.  If your a taffy lover, this is a deal.   \n",
       "...                                                                                                                                                                                                         ...   \n",
       "568396                                                    Great for sesame chicken..this is a good if not better than resturants I have eaten at..My husband loved it..will find other recipes to use this in..   \n",
       "568397  I'm disappointed with the flavor. The chocolate notes are especially weak. Milk thickens it but the flavor still disappoints. This was worth a try but I'll never buy again. I will use what's left,...   \n",
       "568398  These stars are small, so you can give 10-15 of those in one training session.  I tried to train our dog with \"Ceaser dog treats\",  it just made our puppy hyper.  If you compare the ingredients, y...   \n",
       "568399  These are the BEST treats for training and rewarding your dog for being good while grooming.  Lower in calories and loved by all the doggies.  Sweet potatoes seem to be their favorite Wet Noses tr...   \n",
       "568400                                                                                          I am very satisfied ,product is as advertised, I use it on cereal, with raw vinegar, and as a general sweetner.   \n",
       "\n",
       "                                                                                                                                                                                                   cleaned_text  \\\n",
       "0                                          bought several vitality canned dog food products found good quality product looks like stew processed meat smells better labrador finicky appreciates product better   \n",
       "1                                                                         product arrived labeled jumbo salted peanuts peanuts actually small sized unsalted sure error vendor intended represent product jumbo   \n",
       "2       confection around centuries light pillowy citrus gelatin nuts case filberts cut tiny squares liberally coated powdered sugar tiny mouthful heaven chewy flavorful highly recommend yummy treat famil...   \n",
       "3                                                                              looking secret ingredient robitussin believe found got addition root beer extract ordered good made cherry soda flavor medicinal   \n",
       "4                                                                                                                           great taffy great price wide assortment yummy taffy delivery quick taffy lover deal   \n",
       "...                                                                                                                                                                                                         ...   \n",
       "568396                                                                                                                         great sesame chicken good better resturants eaten husband loved find recipes use   \n",
       "568397                                                  I disappointed flavor chocolate notes especially weak milk thickens flavor still disappoints worth try I never buy use left gone time thanks small cans   \n",
       "568398  stars small give 10 15 one training session tried train dog ceaser dog treats made puppy hyper compare ingredients know little stars basic food ingredients without preservatives food coloring swee...   \n",
       "568399                                                                               best treats training rewarding dog good grooming lower calories loved doggies sweet potatoes seem favorite wet noses treat   \n",
       "568400                                                                                                                                     satisfied product advertised use cereal raw vinegar general sweetner   \n",
       "\n",
       "                       cleaned_summary  \n",
       "0                good quality dog food  \n",
       "1                           advertised  \n",
       "2                         delight says  \n",
       "3                       cough medicine  \n",
       "4                          great taffy  \n",
       "...                                ...  \n",
       "568396                         without  \n",
       "568397                    disappointed  \n",
       "568398                perfect maltipoo  \n",
       "568399  favorite training reward treat  \n",
       "568400                     great honey  \n",
       "\n",
       "[568401 rows x 4 columns]"
      ]
     },
     "execution_count": 3,
     "metadata": {},
     "output_type": "execute_result"
    }
   ],
   "source": [
    "import pandas as pd\n",
    "data=pd.read_csv(\"/kaggle/input/cleaned-amazon-reviews/your_file.csv\")\n",
    "data"
   ]
  },
  {
   "cell_type": "markdown",
   "metadata": {
    "papermill": {
     "duration": 0.049388,
     "end_time": "2023-11-27T06:24:31.627046",
     "exception": false,
     "start_time": "2023-11-27T06:24:31.577658",
     "status": "completed"
    },
    "tags": []
   },
   "source": [
    "# ***Information about datatypes and shape of the dataset***"
   ]
  },
  {
   "cell_type": "code",
   "execution_count": 4,
   "metadata": {
    "execution": {
     "iopub.execute_input": "2023-11-27T06:24:31.999116Z",
     "iopub.status.busy": "2023-11-27T06:24:31.998179Z",
     "iopub.status.idle": "2023-11-27T06:24:32.011713Z",
     "shell.execute_reply": "2023-11-27T06:24:32.011091Z",
     "shell.execute_reply.started": "2023-11-27T06:23:19.300952Z"
    },
    "id": "__fy-JxTFxc9",
    "outputId": "d42c6e36-bbc8-43c2-de0e-d3effe3e8c4c",
    "papermill": {
     "duration": 0.335111,
     "end_time": "2023-11-27T06:24:32.011825",
     "exception": false,
     "start_time": "2023-11-27T06:24:31.676714",
     "status": "completed"
    },
    "tags": []
   },
   "outputs": [
    {
     "name": "stdout",
     "output_type": "stream",
     "text": [
      "<class 'pandas.core.frame.DataFrame'>\n",
      "RangeIndex: 568401 entries, 0 to 568400\n",
      "Data columns (total 4 columns):\n",
      " #   Column           Non-Null Count   Dtype \n",
      "---  ------           --------------   ----- \n",
      " 0   Summary          568401 non-null  object\n",
      " 1   Text             568401 non-null  object\n",
      " 2   cleaned_text     566887 non-null  object\n",
      " 3   cleaned_summary  567081 non-null  object\n",
      "dtypes: object(4)\n",
      "memory usage: 17.3+ MB\n"
     ]
    }
   ],
   "source": [
    "data.info()"
   ]
  },
  {
   "cell_type": "markdown",
   "metadata": {
    "papermill": {
     "duration": 0.049124,
     "end_time": "2023-11-27T06:24:33.299495",
     "exception": false,
     "start_time": "2023-11-27T06:24:33.250371",
     "status": "completed"
    },
    "tags": []
   },
   "source": [
    "# ***Dropping empty rows***"
   ]
  },
  {
   "cell_type": "code",
   "execution_count": 5,
   "metadata": {
    "execution": {
     "iopub.execute_input": "2023-11-27T06:24:33.523572Z",
     "iopub.status.busy": "2023-11-27T06:24:33.522907Z",
     "iopub.status.idle": "2023-11-27T06:24:33.873747Z",
     "shell.execute_reply": "2023-11-27T06:24:33.873143Z",
     "shell.execute_reply.started": "2023-11-27T06:23:19.612096Z"
    },
    "id": "sYK390unFxfA",
    "papermill": {
     "duration": 0.523184,
     "end_time": "2023-11-27T06:24:33.873865",
     "exception": false,
     "start_time": "2023-11-27T06:24:33.350681",
     "status": "completed"
    },
    "tags": []
   },
   "outputs": [],
   "source": [
    "data.replace('', np.nan, inplace=True)\n",
    "data.dropna(axis=0,inplace=True)"
   ]
  },
  {
   "cell_type": "markdown",
   "metadata": {
    "papermill": {
     "duration": 0.050053,
     "end_time": "2023-11-27T06:24:33.974924",
     "exception": false,
     "start_time": "2023-11-27T06:24:33.924871",
     "status": "completed"
    },
    "tags": []
   },
   "source": [
    "# ***Visualization distribution of reviews and summaries***"
   ]
  },
  {
   "cell_type": "code",
   "execution_count": 6,
   "metadata": {
    "execution": {
     "iopub.execute_input": "2023-11-27T06:24:34.118231Z",
     "iopub.status.busy": "2023-11-27T06:24:34.113118Z",
     "iopub.status.idle": "2023-11-27T06:24:37.469253Z",
     "shell.execute_reply": "2023-11-27T06:24:37.468608Z",
     "shell.execute_reply.started": "2023-11-27T06:23:20.149372Z"
    },
    "id": "MdF76AHHFxgw",
    "outputId": "e3bbe165-4235-482f-bfd4-36a3f1d95290",
    "papermill": {
     "duration": 3.444775,
     "end_time": "2023-11-27T06:24:37.469372",
     "exception": false,
     "start_time": "2023-11-27T06:24:34.024597",
     "status": "completed"
    },
    "tags": []
   },
   "outputs": [
    {
     "data": {
      "image/png": "[encoded data removed]",
      "text/plain": [
       "<Figure size 432x288 with 2 Axes>"
      ]
     },
     "metadata": {
      "needs_background": "light"
     },
     "output_type": "display_data"
    }
   ],
   "source": [
    "import matplotlib.pyplot as plt\n",
    "\n",
    "text_word_count = []\n",
    "summary_word_count = []\n",
    "\n",
    "# populate the lists with sentence lengths\n",
    "for i in data['cleaned_text']:\n",
    "      text_word_count.append(len(i.split()))\n",
    "\n",
    "for i in data['cleaned_summary']:\n",
    "      summary_word_count.append(len(i.split()))\n",
    "\n",
    "length_df = pd.DataFrame({'text':text_word_count, 'summary':summary_word_count})\n",
    "\n",
    "length_df.hist(bins = 30)\n",
    "plt.show()"
   ]
  },
  {
   "cell_type": "code",
   "execution_count": 7,
   "metadata": {
    "execution": {
     "iopub.execute_input": "2023-11-27T06:24:37.609762Z",
     "iopub.status.busy": "2023-11-27T06:24:37.589162Z",
     "iopub.status.idle": "2023-11-27T06:24:37.991243Z",
     "shell.execute_reply": "2023-11-27T06:24:37.990587Z",
     "shell.execute_reply.started": "2023-11-27T06:23:24.195860Z"
    },
    "id": "7JRjwdIOFxg3",
    "outputId": "f968be82-c539-471d-ce23-16f18b059ea0",
    "papermill": {
     "duration": 0.470975,
     "end_time": "2023-11-27T06:24:37.991359",
     "exception": false,
     "start_time": "2023-11-27T06:24:37.520384",
     "status": "completed"
    },
    "tags": []
   },
   "outputs": [
    {
     "name": "stdout",
     "output_type": "stream",
     "text": [
      "0.9975917972583266\n"
     ]
    }
   ],
   "source": [
    "# Calculate the proportion of summaries that are 10 words or fewer\n",
    "summary_word_limit = 10\n",
    "short_summary_count = 0\n",
    "for summary in data['cleaned_summary']:\n",
    "    # Count the number of words in each summary\n",
    "    if(len(summary.split()) <= summary_word_limit):\n",
    "        short_summary_count += 1\n",
    "\n",
    "# Print the proportion of short summaries\n",
    "print({short_summary_count / len(data['cleaned_summary'])})"
   ]
  },
  {
   "cell_type": "code",
   "execution_count": 8,
   "metadata": {
    "execution": {
     "iopub.execute_input": "2023-11-27T06:24:38.125961Z",
     "iopub.status.busy": "2023-11-27T06:24:38.115800Z",
     "iopub.status.idle": "2023-11-27T06:24:40.068886Z",
     "shell.execute_reply": "2023-11-27T06:24:40.068171Z",
     "shell.execute_reply.started": "2023-11-27T06:23:24.704114Z"
    },
    "papermill": {
     "duration": 2.026948,
     "end_time": "2023-11-27T06:24:40.069017",
     "exception": false,
     "start_time": "2023-11-27T06:24:38.042069",
     "status": "completed"
    },
    "tags": []
   },
   "outputs": [
    {
     "name": "stdout",
     "output_type": "stream",
     "text": [
      "0.8942265018998633\n"
     ]
    }
   ],
   "source": [
    "# Calculate the proportion of texts that are 80 words or fewer\n",
    "text_word_limit = 80\n",
    "short_text_count = 0\n",
    "for text in data['cleaned_text']:\n",
    "    # Count the number of words in each text\n",
    "    if(len(text.split()) <= text_word_limit):\n",
    "        short_text_count += 1\n",
    "\n",
    "# Print the proportion of short texts\n",
    "print({short_text_count / len(data['cleaned_text'])})"
   ]
  },
  {
   "cell_type": "code",
   "execution_count": 9,
   "metadata": {
    "execution": {
     "iopub.execute_input": "2023-11-27T06:24:40.186377Z",
     "iopub.status.busy": "2023-11-27T06:24:40.185788Z",
     "iopub.status.idle": "2023-11-27T06:24:40.188930Z",
     "shell.execute_reply": "2023-11-27T06:24:40.188197Z",
     "shell.execute_reply.started": "2023-11-27T06:23:26.870259Z"
    },
    "id": "ZKD5VOWqFxhC",
    "papermill": {
     "duration": 0.058482,
     "end_time": "2023-11-27T06:24:40.189090",
     "exception": false,
     "start_time": "2023-11-27T06:24:40.130608",
     "status": "completed"
    },
    "tags": []
   },
   "outputs": [],
   "source": [
    "max_text_len=150\n",
    "max_summary_len=12"
   ]
  },
  {
   "cell_type": "markdown",
   "metadata": {
    "papermill": {
     "duration": 0.051087,
     "end_time": "2023-11-27T06:24:40.301711",
     "exception": false,
     "start_time": "2023-11-27T06:24:40.250624",
     "status": "completed"
    },
    "tags": []
   },
   "source": [
    "# ***getting rid of outliers***"
   ]
  },
  {
   "cell_type": "code",
   "execution_count": 10,
   "metadata": {
    "execution": {
     "iopub.execute_input": "2023-11-27T06:24:40.440949Z",
     "iopub.status.busy": "2023-11-27T06:24:40.440292Z",
     "iopub.status.idle": "2023-11-27T06:24:43.069162Z",
     "shell.execute_reply": "2023-11-27T06:24:43.068612Z",
     "shell.execute_reply.started": "2023-11-27T06:23:26.877354Z"
    },
    "id": "yY0tEJP0FxhI",
    "papermill": {
     "duration": 2.709379,
     "end_time": "2023-11-27T06:24:43.069287",
     "exception": false,
     "start_time": "2023-11-27T06:24:40.359908",
     "status": "completed"
    },
    "tags": []
   },
   "outputs": [],
   "source": [
    "cleaned_text =np.array(data['cleaned_text'])\n",
    "cleaned_summary=np.array(data['cleaned_summary'])\n",
    "\n",
    "short_text=[]\n",
    "short_summary=[]\n",
    "\n",
    "for i in range(len(cleaned_text)):\n",
    "    if(len(cleaned_summary[i].split())<=max_summary_len and len(cleaned_text[i].split())<=max_text_len):\n",
    "        short_text.append(cleaned_text[i])\n",
    "        short_summary.append(cleaned_summary[i])\n",
    "        \n",
    "df=pd.DataFrame({'text':short_text,'summary':short_summary})"
   ]
  },
  {
   "cell_type": "markdown",
   "metadata": {
    "papermill": {
     "duration": 0.050785,
     "end_time": "2023-11-27T06:24:43.171088",
     "exception": false,
     "start_time": "2023-11-27T06:24:43.120303",
     "status": "completed"
    },
    "tags": []
   },
   "source": [
    "# ***Adding tokens at the beginning and the end of summary***"
   ]
  },
  {
   "cell_type": "code",
   "execution_count": 11,
   "metadata": {
    "execution": {
     "iopub.execute_input": "2023-11-27T06:24:43.277896Z",
     "iopub.status.busy": "2023-11-27T06:24:43.277137Z",
     "iopub.status.idle": "2023-11-27T06:24:43.550972Z",
     "shell.execute_reply": "2023-11-27T06:24:43.551484Z",
     "shell.execute_reply.started": "2023-11-27T06:23:30.011665Z"
    },
    "id": "EwLUH78CFxhg",
    "papermill": {
     "duration": 0.329785,
     "end_time": "2023-11-27T06:24:43.551658",
     "exception": false,
     "start_time": "2023-11-27T06:24:43.221873",
     "status": "completed"
    },
    "tags": []
   },
   "outputs": [],
   "source": [
    "df['summary'] = df['summary'].apply(lambda x : 'sostok '+ x + ' eostok')"
   ]
  },
  {
   "cell_type": "code",
   "execution_count": 12,
   "metadata": {
    "execution": {
     "iopub.execute_input": "2023-11-27T06:24:43.658887Z",
     "iopub.status.busy": "2023-11-27T06:24:43.658292Z",
     "iopub.status.idle": "2023-11-27T06:24:43.680604Z",
     "shell.execute_reply": "2023-11-27T06:24:43.680068Z",
     "shell.execute_reply.started": "2023-11-27T06:23:30.346745Z"
    },
    "papermill": {
     "duration": 0.078007,
     "end_time": "2023-11-27T06:24:43.680712",
     "exception": false,
     "start_time": "2023-11-27T06:24:43.602705",
     "status": "completed"
    },
    "tags": []
   },
   "outputs": [
    {
     "name": "stdout",
     "output_type": "stream",
     "text": [
      "Review: bought several vitality canned dog food products found good quality product looks like stew processed meat smells better labrador finicky appreciates product better\n",
      "Summary: sostok good quality dog food eostok\n",
      "\n",
      "\n",
      "Review: product arrived labeled jumbo salted peanuts peanuts actually small sized unsalted sure error vendor intended represent product jumbo\n",
      "Summary: sostok advertised eostok\n",
      "\n",
      "\n",
      "Review: confection around centuries light pillowy citrus gelatin nuts case filberts cut tiny squares liberally coated powdered sugar tiny mouthful heaven chewy flavorful highly recommend yummy treat familiar story c lewis lion witch wardrobe treat seduces edmund selling brother sisters witch\n",
      "Summary: sostok delight says eostok\n",
      "\n",
      "\n",
      "Review: looking secret ingredient robitussin believe found got addition root beer extract ordered good made cherry soda flavor medicinal\n",
      "Summary: sostok cough medicine eostok\n",
      "\n",
      "\n",
      "Review: great taffy great price wide assortment yummy taffy delivery quick taffy lover deal\n",
      "Summary: sostok great taffy eostok\n",
      "\n",
      "\n"
     ]
    }
   ],
   "source": [
    "for i in range(5):\n",
    "    print(\"Review:\",df['text'][i])\n",
    "    print(\"Summary:\",df['summary'][i])\n",
    "    print(\"\\n\")"
   ]
  },
  {
   "cell_type": "markdown",
   "metadata": {
    "papermill": {
     "duration": 0.050826,
     "end_time": "2023-11-27T06:24:43.782429",
     "exception": false,
     "start_time": "2023-11-27T06:24:43.731603",
     "status": "completed"
    },
    "tags": []
   },
   "source": [
    "# ***splitting traing and test set***"
   ]
  },
  {
   "cell_type": "code",
   "execution_count": 13,
   "metadata": {
    "execution": {
     "iopub.execute_input": "2023-11-27T06:24:43.889256Z",
     "iopub.status.busy": "2023-11-27T06:24:43.888656Z",
     "iopub.status.idle": "2023-11-27T06:24:43.986243Z",
     "shell.execute_reply": "2023-11-27T06:24:43.985573Z",
     "shell.execute_reply.started": "2023-11-27T06:23:30.385509Z"
    },
    "id": "RakakKHcFxhl",
    "papermill": {
     "duration": 0.15315,
     "end_time": "2023-11-27T06:24:43.986355",
     "exception": false,
     "start_time": "2023-11-27T06:24:43.833205",
     "status": "completed"
    },
    "tags": []
   },
   "outputs": [],
   "source": [
    "from sklearn.model_selection import train_test_split\n",
    "x_tr,x_val,y_tr,y_val=train_test_split(np.array(df['text']),np.array(df['summary']),test_size=0.1, random_state = 0, shuffle=True) "
   ]
  },
  {
   "cell_type": "markdown",
   "metadata": {
    "papermill": {
     "duration": 0.088154,
     "end_time": "2023-11-27T06:24:44.125796",
     "exception": false,
     "start_time": "2023-11-27T06:24:44.037642",
     "status": "completed"
    },
    "tags": []
   },
   "source": [
    "# ***prepare a tokenizer for reviews on training data***"
   ]
  },
  {
   "cell_type": "code",
   "execution_count": 14,
   "metadata": {
    "execution": {
     "iopub.execute_input": "2023-11-27T06:24:44.282422Z",
     "iopub.status.busy": "2023-11-27T06:24:44.277450Z",
     "iopub.status.idle": "2023-11-27T06:25:04.134990Z",
     "shell.execute_reply": "2023-11-27T06:25:04.135565Z"
    },
    "id": "oRHTgX6hFxhq",
    "papermill": {
     "duration": 19.958883,
     "end_time": "2023-11-27T06:25:04.135717",
     "exception": false,
     "start_time": "2023-11-27T06:24:44.176834",
     "status": "completed"
    },
    "tags": []
   },
   "outputs": [],
   "source": [
    "x_tokenizer = Tokenizer() \n",
    "x_tokenizer.fit_on_texts(list(x_tr))"
   ]
  },
  {
   "cell_type": "markdown",
   "metadata": {
    "papermill": {
     "duration": 0.050955,
     "end_time": "2023-11-27T06:25:04.238400",
     "exception": false,
     "start_time": "2023-11-27T06:25:04.187445",
     "status": "completed"
    },
    "tags": []
   },
   "source": [
    "# ***calculating number of rare and common words in reviews***"
   ]
  },
  {
   "cell_type": "code",
   "execution_count": 15,
   "metadata": {
    "execution": {
     "iopub.execute_input": "2023-11-27T06:25:04.369124Z",
     "iopub.status.busy": "2023-11-27T06:25:04.364041Z",
     "iopub.status.idle": "2023-11-27T06:25:04.413684Z",
     "shell.execute_reply": "2023-11-27T06:25:04.413067Z",
     "shell.execute_reply.started": "2023-11-26T05:54:53.264040Z"
    },
    "id": "y8KronV2Fxhx",
    "outputId": "d2eb2f27-fbbc-4e61-9556-3c3ff5e4327b",
    "papermill": {
     "duration": 0.124156,
     "end_time": "2023-11-27T06:25:04.413793",
     "exception": false,
     "start_time": "2023-11-27T06:25:04.289637",
     "status": "completed"
    },
    "tags": []
   },
   "outputs": [
    {
     "name": "stdout",
     "output_type": "stream",
     "text": [
      "% of rare words in vocabulary: 39.84193157954628\n",
      "Total Coverage of rare words: 0.2128869748923377\n"
     ]
    }
   ],
   "source": [
    "# Define a threshold for what we'll consider a 'rare word'\n",
    "rare_word_threshold = 2\n",
    "\n",
    "# Initialize counters\n",
    "rare_word_count = 0        # Number of rare words\n",
    "total_word_count = 0       # Total number of unique words\n",
    "rare_word_frequency = 0    # Total frequency of rare words\n",
    "total_word_frequency = 0   # Total frequency of all words\n",
    "\n",
    "# Iterate through each word and its count in the tokenizer's word_counts dictionary\n",
    "for word, count in x_tokenizer.word_counts.items():\n",
    "    total_word_count += 1              \n",
    "    total_word_frequency += count      \n",
    "    \n",
    "    # If a word's count is below the threshold, it's considered rare\n",
    "    if count < rare_word_threshold:\n",
    "        rare_word_count += 1            \n",
    "        rare_word_frequency += count   \n",
    "\n",
    "# Calculate and print the percentage of rare words in the vocabulary\n",
    "print(\"% of rare words in vocabulary:\", (rare_word_count / total_word_count) * 100)\n",
    "\n",
    "# Calculate and print the total coverage of rare words\n",
    "print(\"Total Coverage of rare words:\", (rare_word_frequency / total_word_frequency) * 100)"
   ]
  },
  {
   "cell_type": "markdown",
   "metadata": {
    "papermill": {
     "duration": 0.05132,
     "end_time": "2023-11-27T06:25:04.518347",
     "exception": false,
     "start_time": "2023-11-27T06:25:04.467027",
     "status": "completed"
    },
    "tags": []
   },
   "source": [
    "# ***defining tokenizer with most common words for reviews***"
   ]
  },
  {
   "cell_type": "code",
   "execution_count": 16,
   "metadata": {
    "execution": {
     "iopub.execute_input": "2023-11-27T06:25:04.713577Z",
     "iopub.status.busy": "2023-11-27T06:25:04.703285Z",
     "iopub.status.idle": "2023-11-27T06:25:51.357442Z",
     "shell.execute_reply": "2023-11-27T06:25:51.356889Z",
     "shell.execute_reply.started": "2023-11-26T05:54:53.333219Z"
    },
    "id": "J2giEsF3Fxh3",
    "papermill": {
     "duration": 46.787688,
     "end_time": "2023-11-27T06:25:51.357597",
     "exception": false,
     "start_time": "2023-11-27T06:25:04.569909",
     "status": "completed"
    },
    "tags": []
   },
   "outputs": [],
   "source": [
    "#prepare a tokenizer for reviews on training data\n",
    "x_tokenizer = Tokenizer(num_words=tot_cnt-cnt) \n",
    "x_tokenizer.fit_on_texts(list(x_tr))\n",
    "\n",
    "#convert text sequences into integer sequences\n",
    "x_tr_seq    =   x_tokenizer.texts_to_sequences(x_tr) \n",
    "x_val_seq   =   x_tokenizer.texts_to_sequences(x_val)\n",
    "\n",
    "#padding zero upto maximum length\n",
    "x_tr    =   pad_sequences(x_tr_seq,  maxlen=max_text_len, padding='post')\n",
    "x_val   =   pad_sequences(x_val_seq, maxlen=max_text_len, padding='post')\n",
    "\n",
    "#size of vocabulary ( +1 for padding token)\n",
    "x_voc   =  x_tokenizer.num_words + 1"
   ]
  },
  {
   "cell_type": "code",
   "execution_count": 17,
   "metadata": {
    "execution": {
     "iopub.execute_input": "2023-11-27T06:25:51.464956Z",
     "iopub.status.busy": "2023-11-27T06:25:51.464217Z",
     "iopub.status.idle": "2023-11-27T06:25:51.467733Z",
     "shell.execute_reply": "2023-11-27T06:25:51.467232Z",
     "shell.execute_reply.started": "2023-11-26T05:55:32.380820Z"
    },
    "id": "DCbGMsm4FxiA",
    "outputId": "2d9165f0-e542-4114-91f3-e070d483fce9",
    "papermill": {
     "duration": 0.058435,
     "end_time": "2023-11-27T06:25:51.467839",
     "exception": false,
     "start_time": "2023-11-27T06:25:51.409404",
     "status": "completed"
    },
    "tags": []
   },
   "outputs": [
    {
     "data": {
      "text/plain": [
       "58154"
      ]
     },
     "execution_count": 17,
     "metadata": {},
     "output_type": "execute_result"
    }
   ],
   "source": [
    "x_voc"
   ]
  },
  {
   "cell_type": "markdown",
   "metadata": {
    "papermill": {
     "duration": 0.051258,
     "end_time": "2023-11-27T06:25:51.570396",
     "exception": false,
     "start_time": "2023-11-27T06:25:51.519138",
     "status": "completed"
    },
    "tags": []
   },
   "source": [
    "# ***prepare a tokenizer for summaries on training data***"
   ]
  },
  {
   "cell_type": "code",
   "execution_count": 18,
   "metadata": {
    "execution": {
     "iopub.execute_input": "2023-11-27T06:25:51.739693Z",
     "iopub.status.busy": "2023-11-27T06:25:51.734498Z",
     "iopub.status.idle": "2023-11-27T06:25:58.402627Z",
     "shell.execute_reply": "2023-11-27T06:25:58.403097Z",
     "shell.execute_reply.started": "2023-11-26T05:55:32.389103Z"
    },
    "id": "eRHqyBkBFxiJ",
    "papermill": {
     "duration": 6.778797,
     "end_time": "2023-11-27T06:25:58.403257",
     "exception": false,
     "start_time": "2023-11-27T06:25:51.624460",
     "status": "completed"
    },
    "tags": []
   },
   "outputs": [],
   "source": [
    "y_tokenizer = Tokenizer()\n",
    "y_tokenizer.fit_on_texts(list(y_tr))"
   ]
  },
  {
   "cell_type": "markdown",
   "metadata": {
    "papermill": {
     "duration": 0.052075,
     "end_time": "2023-11-27T06:25:58.508375",
     "exception": false,
     "start_time": "2023-11-27T06:25:58.456300",
     "status": "completed"
    },
    "tags": []
   },
   "source": [
    "# ***calculating number of rare and common words in summaries***"
   ]
  },
  {
   "cell_type": "code",
   "execution_count": 19,
   "metadata": {
    "execution": {
     "iopub.execute_input": "2023-11-27T06:25:58.640922Z",
     "iopub.status.busy": "2023-11-27T06:25:58.639934Z",
     "iopub.status.idle": "2023-11-27T06:25:58.642976Z",
     "shell.execute_reply": "2023-11-27T06:25:58.643453Z",
     "shell.execute_reply.started": "2023-11-26T05:55:38.837676Z"
    },
    "id": "yzE5OiRLFxiM",
    "outputId": "7f7a4f89-b088-4847-8172-09e5a2383d0e",
    "papermill": {
     "duration": 0.082648,
     "end_time": "2023-11-27T06:25:58.643611",
     "exception": false,
     "start_time": "2023-11-27T06:25:58.560963",
     "status": "completed"
    },
    "tags": []
   },
   "outputs": [
    {
     "name": "stdout",
     "output_type": "stream",
     "text": [
      "% of rare words in vocabulary: 54.88056810845707\n",
      "Total Coverage of rare words: 0.8551738617933895\n"
     ]
    }
   ],
   "source": [
    "# Threshold for determining a 'rare word' in summary vocabulary\n",
    "rare_word_threshold_in_summary = 3\n",
    "\n",
    "# Initialize counters for summaries\n",
    "rare_word_count_in_summary = 0        # Number of rare words in summary\n",
    "total_word_count_in_summary = 0       # Total number of unique words in summary\n",
    "rare_word_frequency_in_summary = 0    # Total frequency of rare words in summary\n",
    "total_word_frequency_in_summary = 0   # Total frequency of all words in summary\n",
    "\n",
    "# Iterate through each word and its count in the summary tokenizer's word_counts dictionary\n",
    "for word, count in y_tokenizer.word_counts.items():\n",
    "    total_word_count_in_summary += 1                 \n",
    "    total_word_frequency_in_summary += count         \n",
    "    \n",
    "    # If a word's count in summary is below the threshold, it's considered rare\n",
    "    if count < rare_word_threshold_in_summary:\n",
    "        rare_word_count_in_summary += 1              \n",
    "        rare_word_frequency_in_summary += count      \n",
    "\n",
    "# Calculate and print the percentage of rare words in the summary vocabulary\n",
    "print(\"% of rare words in vocabulary:\", (rare_word_count_in_summary / total_word_count_in_summary) * 100)\n",
    "\n",
    "# Calculate and print the total coverage of rare words in summary\n",
    "print(\"Total Coverage of rare words:\", (rare_word_frequency_in_summary / total_word_frequency_in_summary) * 100)"
   ]
  },
  {
   "cell_type": "markdown",
   "metadata": {
    "papermill": {
     "duration": 0.053152,
     "end_time": "2023-11-27T06:25:58.749475",
     "exception": false,
     "start_time": "2023-11-27T06:25:58.696323",
     "status": "completed"
    },
    "tags": []
   },
   "source": [
    "# ***defining tokenizer with most common words for summaries***"
   ]
  },
  {
   "cell_type": "code",
   "execution_count": 20,
   "metadata": {
    "execution": {
     "iopub.execute_input": "2023-11-27T06:25:58.902051Z",
     "iopub.status.busy": "2023-11-27T06:25:58.862342Z",
     "iopub.status.idle": "2023-11-27T06:26:16.806524Z",
     "shell.execute_reply": "2023-11-27T06:26:16.805983Z",
     "shell.execute_reply.started": "2023-11-26T05:55:38.868005Z"
    },
    "id": "-fswLvIgFxiR",
    "papermill": {
     "duration": 18.004578,
     "end_time": "2023-11-27T06:26:16.806645",
     "exception": false,
     "start_time": "2023-11-27T06:25:58.802067",
     "status": "completed"
    },
    "tags": []
   },
   "outputs": [],
   "source": [
    "#prepare a tokenizer for summaries on training data\n",
    "y_tokenizer = Tokenizer(num_words=tot_cnt-cnt) \n",
    "y_tokenizer.fit_on_texts(list(y_tr))\n",
    "\n",
    "#convert text sequences into integer sequences\n",
    "y_tr_seq    =   y_tokenizer.texts_to_sequences(y_tr) \n",
    "y_val_seq   =   y_tokenizer.texts_to_sequences(y_val) \n",
    "\n",
    "#padding zero upto maximum length\n",
    "y_tr    =   pad_sequences(y_tr_seq, maxlen=max_summary_len, padding='post')\n",
    "y_val   =   pad_sequences(y_val_seq, maxlen=max_summary_len, padding='post')\n",
    "\n",
    "#size of vocabulary\n",
    "y_voc  =   y_tokenizer.num_words +1"
   ]
  },
  {
   "cell_type": "markdown",
   "metadata": {
    "papermill": {
     "duration": 0.051962,
     "end_time": "2023-11-27T06:26:16.911301",
     "exception": false,
     "start_time": "2023-11-27T06:26:16.859339",
     "status": "completed"
    },
    "tags": []
   },
   "source": [
    "# ***checking word count of start token is equal to length of the training data***"
   ]
  },
  {
   "cell_type": "code",
   "execution_count": 21,
   "metadata": {
    "execution": {
     "iopub.execute_input": "2023-11-27T06:26:17.021094Z",
     "iopub.status.busy": "2023-11-27T06:26:17.020223Z",
     "iopub.status.idle": "2023-11-27T06:26:17.023116Z",
     "shell.execute_reply": "2023-11-27T06:26:17.023623Z",
     "shell.execute_reply.started": "2023-11-26T05:55:55.361062Z"
    },
    "id": "pR8IX9FRFxiY",
    "outputId": "b116cdbd-42c4-4ede-9f6d-46284115393e",
    "papermill": {
     "duration": 0.060391,
     "end_time": "2023-11-27T06:26:17.023752",
     "exception": false,
     "start_time": "2023-11-27T06:26:16.963361",
     "status": "completed"
    },
    "tags": []
   },
   "outputs": [
    {
     "data": {
      "text/plain": [
       "(496332, 496332)"
      ]
     },
     "execution_count": 21,
     "metadata": {},
     "output_type": "execute_result"
    }
   ],
   "source": [
    "y_tokenizer.word_counts['sostok'],len(y_tr)"
   ]
  },
  {
   "cell_type": "markdown",
   "metadata": {
    "papermill": {
     "duration": 0.052006,
     "end_time": "2023-11-27T06:26:17.128021",
     "exception": false,
     "start_time": "2023-11-27T06:26:17.076015",
     "status": "completed"
    },
    "tags": []
   },
   "source": [
    "# ***deleting the rows that contain only START and END tokens***"
   ]
  },
  {
   "cell_type": "code",
   "execution_count": 22,
   "metadata": {
    "execution": {
     "iopub.execute_input": "2023-11-27T06:26:17.260950Z",
     "iopub.status.busy": "2023-11-27T06:26:17.255735Z",
     "iopub.status.idle": "2023-11-27T06:26:36.381351Z",
     "shell.execute_reply": "2023-11-27T06:26:36.380645Z",
     "shell.execute_reply.started": "2023-11-26T05:55:55.367556Z"
    },
    "id": "kZ-vW82sFxih",
    "papermill": {
     "duration": 19.200935,
     "end_time": "2023-11-27T06:26:36.381465",
     "exception": false,
     "start_time": "2023-11-27T06:26:17.180530",
     "status": "completed"
    },
    "tags": []
   },
   "outputs": [],
   "source": [
    "ind=[]\n",
    "for i in range(len(y_tr)):\n",
    "    cnt=0\n",
    "    for j in y_tr[i]:\n",
    "        if j!=0:\n",
    "            cnt=cnt+1\n",
    "    if(cnt==2):\n",
    "        ind.append(i)\n",
    "\n",
    "y_tr=np.delete(y_tr,ind, axis=0)\n",
    "x_tr=np.delete(x_tr,ind, axis=0)"
   ]
  },
  {
   "cell_type": "code",
   "execution_count": 23,
   "metadata": {
    "execution": {
     "iopub.execute_input": "2023-11-27T06:26:36.529791Z",
     "iopub.status.busy": "2023-11-27T06:26:36.524788Z",
     "iopub.status.idle": "2023-11-27T06:26:38.559344Z",
     "shell.execute_reply": "2023-11-27T06:26:38.558678Z",
     "shell.execute_reply.started": "2023-11-26T05:56:10.907725Z"
    },
    "id": "cx5NISuMFxik",
    "papermill": {
     "duration": 2.125434,
     "end_time": "2023-11-27T06:26:38.559456",
     "exception": false,
     "start_time": "2023-11-27T06:26:36.434022",
     "status": "completed"
    },
    "tags": []
   },
   "outputs": [],
   "source": [
    "ind=[]\n",
    "for i in range(len(y_val)):\n",
    "    cnt=0\n",
    "    for j in y_val[i]:\n",
    "        if j!=0:\n",
    "            cnt=cnt+1\n",
    "    if(cnt==2):\n",
    "        ind.append(i)\n",
    "\n",
    "y_val=np.delete(y_val,ind, axis=0)\n",
    "x_val=np.delete(x_val,ind, axis=0)"
   ]
  },
  {
   "cell_type": "markdown",
   "metadata": {
    "papermill": {
     "duration": 0.05265,
     "end_time": "2023-11-27T06:26:38.665725",
     "exception": false,
     "start_time": "2023-11-27T06:26:38.613075",
     "status": "completed"
    },
    "tags": []
   },
   "source": [
    "# ***Model building, defining LSTM layers, Encoder and Decoder***"
   ]
  },
  {
   "cell_type": "code",
   "execution_count": 24,
   "metadata": {
    "_kg_hide-output": false,
    "execution": {
     "iopub.execute_input": "2023-11-27T06:26:38.784933Z",
     "iopub.status.busy": "2023-11-27T06:26:38.779758Z",
     "iopub.status.idle": "2023-11-27T06:26:43.521757Z",
     "shell.execute_reply": "2023-11-27T06:26:43.521179Z",
     "shell.execute_reply.started": "2023-11-26T06:00:07.529908Z"
    },
    "id": "zXef38nBFxir",
    "outputId": "7ae99521-46f8-4c6f-9cba-4979deffeee8",
    "papermill": {
     "duration": 4.803865,
     "end_time": "2023-11-27T06:26:43.521903",
     "exception": false,
     "start_time": "2023-11-27T06:26:38.718038",
     "status": "completed"
    },
    "tags": []
   },
   "outputs": [
    {
     "name": "stdout",
     "output_type": "stream",
     "text": [
      "Model: \"model\"\n",
      "__________________________________________________________________________________________________\n",
      "Layer (type)                    Output Shape         Param #     Connected to                     \n",
      "==================================================================================================\n",
      "input_1 (InputLayer)            [(None, 150)]        0                                            \n",
      "__________________________________________________________________________________________________\n",
      "embedding (Embedding)           (None, 150, 100)     5815400     input_1[0][0]                    \n",
      "__________________________________________________________________________________________________\n",
      "lstm (LSTM)                     [(None, 150, 300), ( 481200      embedding[0][0]                  \n",
      "__________________________________________________________________________________________________\n",
      "input_2 (InputLayer)            [(None, None)]       0                                            \n",
      "__________________________________________________________________________________________________\n",
      "lstm_1 (LSTM)                   [(None, 150, 300), ( 721200      lstm[0][0]                       \n",
      "__________________________________________________________________________________________________\n",
      "embedding_1 (Embedding)         (None, None, 100)    1397900     input_2[0][0]                    \n",
      "__________________________________________________________________________________________________\n",
      "lstm_2 (LSTM)                   [(None, 150, 300), ( 721200      lstm_1[0][0]                     \n",
      "__________________________________________________________________________________________________\n",
      "lstm_3 (LSTM)                   [(None, None, 300),  481200      embedding_1[0][0]                \n",
      "                                                                 lstm_2[0][1]                     \n",
      "                                                                 lstm_2[0][2]                     \n",
      "__________________________________________________________________________________________________\n",
      "attention_layer (AttentionLayer ((None, None, 300),  180300      lstm_2[0][0]                     \n",
      "                                                                 lstm_3[0][0]                     \n",
      "__________________________________________________________________________________________________\n",
      "concat_layer (Concatenate)      (None, None, 600)    0           lstm_3[0][0]                     \n",
      "                                                                 attention_layer[0][0]            \n",
      "__________________________________________________________________________________________________\n",
      "time_distributed (TimeDistribut (None, None, 13979)  8401379     concat_layer[0][0]               \n",
      "==================================================================================================\n",
      "Total params: 18,199,779\n",
      "Trainable params: 18,199,779\n",
      "Non-trainable params: 0\n",
      "__________________________________________________________________________________________________\n"
     ]
    }
   ],
   "source": [
    "from keras import backend as K \n",
    "K.clear_session()\n",
    "\n",
    "latent_dim = 300\n",
    "embedding_dim=100\n",
    "\n",
    "# Encoder\n",
    "encoder_inputs = Input(shape=(max_text_len,))\n",
    "\n",
    "#embedding layer\n",
    "enc_emb =  Embedding(x_voc, embedding_dim,trainable=True)(encoder_inputs)\n",
    "\n",
    "#encoder lstm 1\n",
    "encoder_lstm1 = LSTM(latent_dim,return_sequences=True,return_state=True,dropout=0.2,recurrent_dropout=0.1)\n",
    "encoder_output1, state_h1, state_c1 = encoder_lstm1(enc_emb)\n",
    "\n",
    "#encoder lstm 2\n",
    "encoder_lstm2 = LSTM(latent_dim,return_sequences=True,return_state=True,dropout=0.2,recurrent_dropout=0.1)\n",
    "encoder_output2, state_h2, state_c2 = encoder_lstm2(encoder_output1)\n",
    "\n",
    "#encoder lstm 3\n",
    "encoder_lstm3=LSTM(latent_dim, return_state=True, return_sequences=True,dropout=0.2,recurrent_dropout=0.1)\n",
    "encoder_outputs, state_h, state_c= encoder_lstm3(encoder_output2)\n",
    "\n",
    "# Set up the decoder, using `encoder_states` as initial state.\n",
    "decoder_inputs = Input(shape=(None,))\n",
    "\n",
    "#embedding layer\n",
    "dec_emb_layer = Embedding(y_voc, embedding_dim,trainable=True)\n",
    "dec_emb = dec_emb_layer(decoder_inputs)\n",
    "\n",
    "decoder_lstm = LSTM(latent_dim, return_sequences=True, return_state=True,dropout=0.2,recurrent_dropout=0.1)\n",
    "decoder_outputs,decoder_fwd_state, decoder_back_state = decoder_lstm(dec_emb,initial_state=[state_h, state_c])\n",
    "\n",
    "# Attention layer\n",
    "attn_layer = AttentionLayer(name='attention_layer')\n",
    "attn_out, attn_states = attn_layer([encoder_outputs, decoder_outputs])\n",
    "\n",
    "# Concat attention input and decoder LSTM output\n",
    "decoder_concat_input = Concatenate(axis=-1, name='concat_layer')([decoder_outputs, attn_out])\n",
    "\n",
    "#dense layer\n",
    "decoder_dense =  TimeDistributed(Dense(y_voc, activation='softmax'))\n",
    "decoder_outputs = decoder_dense(decoder_concat_input)\n",
    "\n",
    "# Define the model \n",
    "model = Model([encoder_inputs, decoder_inputs], decoder_outputs)\n",
    "\n",
    "model.summary() "
   ]
  },
  {
   "cell_type": "code",
   "execution_count": 25,
   "metadata": {
    "execution": {
     "iopub.execute_input": "2023-11-27T06:26:43.641134Z",
     "iopub.status.busy": "2023-11-27T06:26:43.640455Z",
     "iopub.status.idle": "2023-11-27T06:26:43.646228Z",
     "shell.execute_reply": "2023-11-27T06:26:43.645730Z",
     "shell.execute_reply.started": "2023-11-26T06:03:01.417157Z"
    },
    "id": "Lwfi1Fm8Fxiz",
    "papermill": {
     "duration": 0.070629,
     "end_time": "2023-11-27T06:26:43.646328",
     "exception": false,
     "start_time": "2023-11-27T06:26:43.575699",
     "status": "completed"
    },
    "tags": []
   },
   "outputs": [],
   "source": [
    "model.compile(optimizer='rmsprop', loss='sparse_categorical_crossentropy')"
   ]
  },
  {
   "cell_type": "markdown",
   "metadata": {
    "papermill": {
     "duration": 0.053816,
     "end_time": "2023-11-27T06:26:43.754291",
     "exception": false,
     "start_time": "2023-11-27T06:26:43.700475",
     "status": "completed"
    },
    "tags": []
   },
   "source": [
    "# ***monitoring the validation loss***"
   ]
  },
  {
   "cell_type": "code",
   "execution_count": 26,
   "metadata": {
    "execution": {
     "iopub.execute_input": "2023-11-27T06:26:43.868734Z",
     "iopub.status.busy": "2023-11-27T06:26:43.868054Z",
     "iopub.status.idle": "2023-11-27T06:26:43.871116Z",
     "shell.execute_reply": "2023-11-27T06:26:43.870599Z",
     "shell.execute_reply.started": "2023-11-26T06:03:01.917957Z"
    },
    "id": "s-A3J92MUljB",
    "papermill": {
     "duration": 0.061509,
     "end_time": "2023-11-27T06:26:43.871218",
     "exception": false,
     "start_time": "2023-11-27T06:26:43.809709",
     "status": "completed"
    },
    "tags": []
   },
   "outputs": [],
   "source": [
    "es = [EarlyStopping(monitor='val_loss', mode='min', verbose=1,patience=2), \n",
    "      ModelCheckpoint('./MyModel_tf',monitor='val_loss', verbose=1,\n",
    "                      save_best_only=True, mode='min', save_weights_only = False)]"
   ]
  },
  {
   "cell_type": "markdown",
   "metadata": {
    "papermill": {
     "duration": 0.052968,
     "end_time": "2023-11-27T06:26:43.977493",
     "exception": false,
     "start_time": "2023-11-27T06:26:43.924525",
     "status": "completed"
    },
    "tags": []
   },
   "source": [
    "# ***train the model on a batch size of 512 and validate it on the 10% of dataset***"
   ]
  },
  {
   "cell_type": "code",
   "execution_count": 27,
   "metadata": {
    "_kg_hide-output": false,
    "execution": {
     "iopub.execute_input": "2023-11-27T06:26:44.337112Z",
     "iopub.status.busy": "2023-11-27T06:26:44.336128Z",
     "iopub.status.idle": "2023-11-27T09:27:14.344823Z",
     "shell.execute_reply": "2023-11-27T09:27:14.345387Z",
     "shell.execute_reply.started": "2023-11-26T06:03:04.380264Z"
    },
    "id": "ETnPzA4OFxi3",
    "outputId": "477e374f-7cf2-4d60-f86e-2c49c9cebedb",
    "papermill": {
     "duration": 10830.315093,
     "end_time": "2023-11-27T09:27:14.345586",
     "exception": false,
     "start_time": "2023-11-27T06:26:44.030493",
     "status": "completed"
    },
    "tags": []
   },
   "outputs": [
    {
     "name": "stdout",
     "output_type": "stream",
     "text": [
      "Epoch 1/7\n",
      "965/965 [==============================] - ETA: 0s - loss: 1.8276\n",
      "Epoch 00001: val_loss improved from inf to 1.62762, saving model to ./MyModel_tf\n",
      "965/965 [==============================] - 1534s 2s/step - loss: 1.8276 - val_loss: 1.6276\n",
      "Epoch 2/7\n",
      "965/965 [==============================] - ETA: 0s - loss: 1.5558\n",
      "Epoch 00002: val_loss improved from 1.62762 to 1.48492, saving model to ./MyModel_tf\n",
      "965/965 [==============================] - 1540s 2s/step - loss: 1.5558 - val_loss: 1.4849\n",
      "Epoch 3/7\n",
      "965/965 [==============================] - ETA: 0s - loss: 1.4430\n",
      "Epoch 00003: val_loss improved from 1.48492 to 1.40817, saving model to ./MyModel_tf\n",
      "965/965 [==============================] - 1565s 2s/step - loss: 1.4430 - val_loss: 1.4082\n",
      "Epoch 4/7\n",
      "965/965 [==============================] - ETA: 0s - loss: 1.3703\n",
      "Epoch 00004: val_loss improved from 1.40817 to 1.35762, saving model to ./MyModel_tf\n",
      "965/965 [==============================] - 1546s 2s/step - loss: 1.3703 - val_loss: 1.3576\n",
      "Epoch 5/7\n",
      "965/965 [==============================] - ETA: 0s - loss: 1.3165\n",
      "Epoch 00005: val_loss improved from 1.35762 to 1.31960, saving model to ./MyModel_tf\n",
      "965/965 [==============================] - 1543s 2s/step - loss: 1.3165 - val_loss: 1.3196\n",
      "Epoch 6/7\n",
      "965/965 [==============================] - ETA: 0s - loss: 1.2735\n",
      "Epoch 00006: val_loss improved from 1.31960 to 1.29422, saving model to ./MyModel_tf\n",
      "965/965 [==============================] - 1536s 2s/step - loss: 1.2735 - val_loss: 1.2942\n",
      "Epoch 7/7\n",
      "965/965 [==============================] - ETA: 0s - loss: 1.2380\n",
      "Epoch 00007: val_loss improved from 1.29422 to 1.26730, saving model to ./MyModel_tf\n",
      "965/965 [==============================] - 1544s 2s/step - loss: 1.2380 - val_loss: 1.2673\n"
     ]
    }
   ],
   "source": [
    "history=model.fit([x_tr,y_tr[:,:-1]], y_tr.reshape(y_tr.shape[0],y_tr.shape[1], 1)[:,1:] ,epochs=7,callbacks=[es],batch_size=512, validation_data=([x_val,y_val[:,:-1]], y_val.reshape(y_val.shape[0],y_val.shape[1], 1)[:,1:]))"
   ]
  },
  {
   "cell_type": "code",
   "execution_count": 28,
   "metadata": {
    "execution": {
     "iopub.execute_input": "2023-11-27T09:27:19.031918Z",
     "iopub.status.busy": "2023-11-27T09:27:19.027427Z",
     "iopub.status.idle": "2023-11-27T09:27:19.174054Z",
     "shell.execute_reply": "2023-11-27T09:27:19.173344Z",
     "shell.execute_reply.started": "2023-11-26T06:50:26.915051Z"
    },
    "papermill": {
     "duration": 2.485424,
     "end_time": "2023-11-27T09:27:19.174168",
     "exception": false,
     "start_time": "2023-11-27T09:27:16.688744",
     "status": "completed"
    },
    "tags": []
   },
   "outputs": [
    {
     "name": "stdout",
     "output_type": "stream",
     "text": [
      "Saved model to disk\n"
     ]
    }
   ],
   "source": [
    "# serialize model to JSON\n",
    "model_json = model.to_json()\n",
    "with open(\"summary.json\", \"w\") as json_file:\n",
    "    json_file.write(model_json)\n",
    "# serialize weights to HDF5\n",
    "model.save_weights(\"summary.h5\")\n",
    "print(\"Saved model to disk\")"
   ]
  },
  {
   "cell_type": "markdown",
   "metadata": {
    "papermill": {
     "duration": 2.314442,
     "end_time": "2023-11-27T09:27:23.953796",
     "exception": false,
     "start_time": "2023-11-27T09:27:21.639354",
     "status": "completed"
    },
    "tags": []
   },
   "source": [
    "# ***understanding the behavior of model over time***"
   ]
  },
  {
   "cell_type": "code",
   "execution_count": 29,
   "metadata": {
    "execution": {
     "iopub.execute_input": "2023-11-27T09:27:28.680105Z",
     "iopub.status.busy": "2023-11-27T09:27:28.679403Z",
     "iopub.status.idle": "2023-11-27T09:27:28.828200Z",
     "shell.execute_reply": "2023-11-27T09:27:28.827692Z",
     "shell.execute_reply.started": "2023-11-26T06:50:28.957914Z"
    },
    "id": "tDTNLAURFxjE",
    "outputId": "e2ea6e44-3931-4014-97a1-03fa2a441228",
    "papermill": {
     "duration": 2.481222,
     "end_time": "2023-11-27T09:27:28.828314",
     "exception": false,
     "start_time": "2023-11-27T09:27:26.347092",
     "status": "completed"
    },
    "tags": []
   },
   "outputs": [
    {
     "data": {
      "image/png": "[encoded data removed]",
      "text/plain": [
       "<Figure size 432x288 with 1 Axes>"
      ]
     },
     "metadata": {
      "needs_background": "light"
     },
     "output_type": "display_data"
    }
   ],
   "source": [
    "from matplotlib import pyplot\n",
    "pyplot.plot(history.history['loss'], label='train')\n",
    "pyplot.plot(history.history['val_loss'], label='test')\n",
    "pyplot.legend()\n",
    "pyplot.show()"
   ]
  },
  {
   "cell_type": "markdown",
   "metadata": {
    "papermill": {
     "duration": 2.321541,
     "end_time": "2023-11-27T09:27:33.494018",
     "exception": false,
     "start_time": "2023-11-27T09:27:31.172477",
     "status": "completed"
    },
    "tags": []
   },
   "source": [
    "# ***convert the index to word for summaries and reviews vocabulary***"
   ]
  },
  {
   "cell_type": "code",
   "execution_count": 30,
   "metadata": {
    "execution": {
     "iopub.execute_input": "2023-11-27T09:27:38.179795Z",
     "iopub.status.busy": "2023-11-27T09:27:38.178890Z",
     "iopub.status.idle": "2023-11-27T09:27:38.181888Z",
     "shell.execute_reply": "2023-11-27T09:27:38.181365Z",
     "shell.execute_reply.started": "2023-11-26T06:50:30.182094Z"
    },
    "id": "sBX0zZnOFxjW",
    "papermill": {
     "duration": 2.371687,
     "end_time": "2023-11-27T09:27:38.181998",
     "exception": false,
     "start_time": "2023-11-27T09:27:35.810311",
     "status": "completed"
    },
    "tags": []
   },
   "outputs": [],
   "source": [
    "reverse_target_word_index=y_tokenizer.index_word\n",
    "reverse_source_word_index=x_tokenizer.index_word\n",
    "target_word_index=y_tokenizer.word_index"
   ]
  },
  {
   "cell_type": "markdown",
   "metadata": {
    "papermill": {
     "duration": 2.338423,
     "end_time": "2023-11-27T09:27:42.867218",
     "exception": false,
     "start_time": "2023-11-27T09:27:40.528795",
     "status": "completed"
    },
    "tags": []
   },
   "source": [
    "# ***Setting up the inference for the encoder and decoder***"
   ]
  },
  {
   "cell_type": "code",
   "execution_count": 31,
   "metadata": {
    "execution": {
     "iopub.execute_input": "2023-11-27T09:27:47.577084Z",
     "iopub.status.busy": "2023-11-27T09:27:47.576346Z",
     "iopub.status.idle": "2023-11-27T09:27:47.974598Z",
     "shell.execute_reply": "2023-11-27T09:27:47.974013Z",
     "shell.execute_reply.started": "2023-11-26T06:50:31.450839Z"
    },
    "id": "9QkrNV-4Fxjt",
    "papermill": {
     "duration": 2.764613,
     "end_time": "2023-11-27T09:27:47.974712",
     "exception": false,
     "start_time": "2023-11-27T09:27:45.210099",
     "status": "completed"
    },
    "tags": []
   },
   "outputs": [],
   "source": [
    "# Encode the input sequence to get the feature vector\n",
    "encoder_model = Model(inputs=encoder_inputs,outputs=[encoder_outputs, state_h, state_c])\n",
    "\n",
    "# Decoder setup\n",
    "# Below tensors will hold the states of the previous time step\n",
    "decoder_state_input_h = Input(shape=(latent_dim,))\n",
    "decoder_state_input_c = Input(shape=(latent_dim,))\n",
    "decoder_hidden_state_input = Input(shape=(max_text_len,latent_dim))\n",
    "\n",
    "# Get the embeddings of the decoder sequence\n",
    "dec_emb2= dec_emb_layer(decoder_inputs) \n",
    "# To predict the next word in the sequence, set the initial states to the states from the previous time step\n",
    "decoder_outputs2, state_h2, state_c2 = decoder_lstm(dec_emb2, initial_state=[decoder_state_input_h, decoder_state_input_c])\n",
    "\n",
    "#attention inference\n",
    "attn_out_inf, attn_states_inf = attn_layer([decoder_hidden_state_input, decoder_outputs2])\n",
    "decoder_inf_concat = Concatenate(axis=-1, name='concat')([decoder_outputs2, attn_out_inf])\n",
    "\n",
    "# A dense softmax layer to generate prob dist. over the target vocabulary\n",
    "decoder_outputs2 = decoder_dense(decoder_inf_concat) \n",
    "\n",
    "# Final decoder model\n",
    "decoder_model = Model(\n",
    "    [decoder_inputs] + [decoder_hidden_state_input,decoder_state_input_h, decoder_state_input_c],\n",
    "    [decoder_outputs2] + [state_h2, state_c2])"
   ]
  },
  {
   "cell_type": "markdown",
   "metadata": {
    "papermill": {
     "duration": 2.38408,
     "end_time": "2023-11-27T09:27:52.768332",
     "exception": false,
     "start_time": "2023-11-27T09:27:50.384252",
     "status": "completed"
    },
    "tags": []
   },
   "source": [
    "# ***Defining a functio for implementation of the inference process***"
   ]
  },
  {
   "cell_type": "code",
   "execution_count": 32,
   "metadata": {
    "execution": {
     "iopub.execute_input": "2023-11-27T09:27:57.408350Z",
     "iopub.status.busy": "2023-11-27T09:27:57.407766Z",
     "iopub.status.idle": "2023-11-27T09:27:57.410924Z",
     "shell.execute_reply": "2023-11-27T09:27:57.410286Z",
     "shell.execute_reply.started": "2023-11-26T06:50:31.869541Z"
    },
    "id": "6f6TTFnBFxj6",
    "papermill": {
     "duration": 2.330198,
     "end_time": "2023-11-27T09:27:57.411033",
     "exception": false,
     "start_time": "2023-11-27T09:27:55.080835",
     "status": "completed"
    },
    "tags": []
   },
   "outputs": [],
   "source": [
    "def decode_sequence(input_seq):\n",
    "    # Encode the input as state vectors.\n",
    "    e_out, e_h, e_c = encoder_model.predict(input_seq)\n",
    "    \n",
    "    # Generate empty target sequence of length 1.\n",
    "    target_seq = np.zeros((1,1))\n",
    "    \n",
    "    # Populate the first word of target sequence with the start word.\n",
    "    target_seq[0, 0] = target_word_index['sostok']\n",
    "\n",
    "    stop_condition = False\n",
    "    decoded_sentence = ''\n",
    "    while not stop_condition:\n",
    "      \n",
    "        output_tokens, h, c = decoder_model.predict([target_seq] + [e_out, e_h, e_c])\n",
    "\n",
    "        # Sample a token\n",
    "        sampled_token_index = np.argmax(output_tokens[0, -1, :])\n",
    "        sampled_token = reverse_target_word_index[sampled_token_index]\n",
    "        \n",
    "        if(sampled_token!='eostok'):\n",
    "            decoded_sentence += ' '+sampled_token\n",
    "\n",
    "        # Exit condition: either hit max length or find stop word.\n",
    "        if (sampled_token == 'eostok'  or len(decoded_sentence.split()) >= (max_summary_len-1)):\n",
    "            stop_condition = True\n",
    "\n",
    "        # Update the target sequence (of length 1).\n",
    "        target_seq = np.zeros((1,1))\n",
    "        target_seq[0, 0] = sampled_token_index\n",
    "\n",
    "        # Update internal states\n",
    "        e_h, e_c = h, c\n",
    "\n",
    "    return decoded_sentence"
   ]
  },
  {
   "cell_type": "markdown",
   "metadata": {
    "papermill": {
     "duration": 2.414836,
     "end_time": "2023-11-27T09:28:02.176147",
     "exception": false,
     "start_time": "2023-11-27T09:27:59.761311",
     "status": "completed"
    },
    "tags": []
   },
   "source": [
    "# ***converting an integer sequence to a word sequence for summaries and reviews***"
   ]
  },
  {
   "cell_type": "code",
   "execution_count": 33,
   "metadata": {
    "execution": {
     "iopub.execute_input": "2023-11-27T09:28:06.868016Z",
     "iopub.status.busy": "2023-11-27T09:28:06.867244Z",
     "iopub.status.idle": "2023-11-27T09:28:06.870263Z",
     "shell.execute_reply": "2023-11-27T09:28:06.869611Z",
     "shell.execute_reply.started": "2023-11-26T06:50:32.245053Z"
    },
    "id": "aAUntznIFxj9",
    "papermill": {
     "duration": 2.354589,
     "end_time": "2023-11-27T09:28:06.870367",
     "exception": false,
     "start_time": "2023-11-27T09:28:04.515778",
     "status": "completed"
    },
    "tags": []
   },
   "outputs": [],
   "source": [
    "def seq2summary(input_seq):\n",
    "    newString=''\n",
    "    for i in input_seq:\n",
    "        if((i!=0 and i!=target_word_index['sostok']) and i!=target_word_index['eostok']):\n",
    "            newString=newString+reverse_target_word_index[i]+' '\n",
    "    return newString\n",
    "\n",
    "def seq2text(input_seq):\n",
    "    newString=''\n",
    "    for i in input_seq:\n",
    "        if(i!=0):\n",
    "            newString=newString+reverse_source_word_index[i]+' '\n",
    "    return newString"
   ]
  },
  {
   "cell_type": "markdown",
   "metadata": {
    "papermill": {
     "duration": 2.352089,
     "end_time": "2023-11-27T09:28:11.553936",
     "exception": false,
     "start_time": "2023-11-27T09:28:09.201847",
     "status": "completed"
    },
    "tags": []
   },
   "source": [
    "# ***displaying some summaries generated by the model***"
   ]
  },
  {
   "cell_type": "code",
   "execution_count": 34,
   "metadata": {
    "execution": {
     "iopub.execute_input": "2023-11-27T09:28:16.283214Z",
     "iopub.status.busy": "2023-11-27T09:28:16.282337Z",
     "iopub.status.idle": "2023-11-27T09:28:36.293952Z",
     "shell.execute_reply": "2023-11-27T09:28:36.293229Z",
     "shell.execute_reply.started": "2023-11-26T06:50:32.709469Z"
    },
    "id": "BUtQmQTmFxkI",
    "outputId": "f407d9fc-e0cd-4082-98f5-bd1f562dc26f",
    "papermill": {
     "duration": 22.369352,
     "end_time": "2023-11-27T09:28:36.294082",
     "exception": false,
     "start_time": "2023-11-27T09:28:13.924730",
     "status": "completed"
    },
    "tags": []
   },
   "outputs": [
    {
     "name": "stdout",
     "output_type": "stream",
     "text": [
      "Review: flavor strong overwhelming bites used additive stuff mixed pasta buttermilk cream base lends good additive \n",
      "Original summary: pretty good supplement \n",
      "Predicted summary:  good\n",
      "\n",
      "\n",
      "Review: purchased mac cheese reviewed best category magazine receive definitely better many organic boxed mac cheese options purchased online currently available local supermarket good saves bit money us catch sale annie organic local store would buy good make organic boxed mac cheese option pantry \n",
      "Original summary: good quick mac cheese option \n",
      "Predicted summary:  good\n",
      "\n",
      "\n",
      "Review: like full bodied coffee try something different supplement standard one use coffee perfect purpose timothy rainforest expresso still standard one order \n",
      "Original summary: good k cup \n",
      "Predicted summary:  good coffee\n",
      "\n",
      "\n",
      "Review: cat loves things practically hisses random times jumps counter throws bag floor starts swatting bag house put cubbard found cubbard one day crying get insane acts like someone crack im starting question put really lot regulation regarding cat snacks doubt ive tried stop giving turns back pouts days weeks end taken figure going narrowed temptation snacks im concerned drugs put \n",
      "Original summary: im skeptical things \n",
      "Predicted summary:  cat loves\n",
      "\n",
      "\n",
      "Review: best package chai tea tasted next homemade chai tea convenient one quick cup prefer mix half water half skim milk \n",
      "Original summary: mannheim steamroller chai tea \n",
      "Predicted summary:  great chai\n",
      "\n",
      "\n",
      "Review: also bought costco 10 00 per box included 24 bags 8 oz kids fighting remaining bags good buying due price high price prevent product reaching mass distribution \n",
      "Original summary: good pricey \n",
      "Predicted summary:  great price\n",
      "\n",
      "\n",
      "Review: great favor good value would recommend hooked keurig coffee maker third machine made well coffee great would recommend coffee like bold flavor \n",
      "Original summary: great \n",
      "Predicted summary:  great coffee\n",
      "\n",
      "\n",
      "Review: even take sip tea peach aroma entices unlike green teas tea overly bitter contains green tea ginger root peach flavor japanese matcha perfect perk dead winter like flavoring tea \n",
      "Original summary: heady aroma delicious peach flavor \n",
      "Predicted summary:  great flavor\n",
      "\n",
      "\n",
      "Review: tasted first 8 ounce cup usual amount sugar fair guess medeum roast coffee homestly i better buying 15 count pack runs sorry one winner caffiene weak side however flavor seems good unless looking morning coffee wakeup i would pass one \n",
      "Original summary: ok i better \n",
      "Predicted summary:  ok\n",
      "\n",
      "\n",
      "Review: taste good product bought 12 pkg plan bags anywhere 1 3 1 2 crumbs small pieces would use top casserole dipping presentation wise nothing br br however since need unsalted chips worth try need cancel future orders one stay michael season kettle ones course durable taste others br br amazon please note cancel automatic shipping product keep one kettle chips thanks \n",
      "Original summary: amazon michael season thin crispy unsalted potato chips sad news \n",
      "Predicted summary:  great product\n",
      "\n",
      "\n",
      "Review: ok go thru stuff pretty fast everyone work 10 us agrees red vines best like keep tub desk subject conversation like offer visitors br br however looking nutrition facts per serving eating 48 calories fat says right front lable always fat free granted show total fat fat types none less say calories fat 48 makes one wonder thought would point wont keep us buying keeping work \n",
      "Original summary: work loves stuff really always fat free \n",
      "Predicted summary:  good stuff\n",
      "\n",
      "\n",
      "Review: taste like regular rice krispies sweeter good actually little sweet thought impossible visible frosting cereal looks like normal rice krispie eat much much sweeter taste great frosting taste like frosted flakes also like cereal gets soggy quickly milk also buy expecting taste like rice krispie treats cereal \n",
      "Original summary: good perfect \n",
      "Predicted summary:  sweet\n",
      "\n",
      "\n",
      "Review: really wanted like product i used times make pb substitute may try ice cream something like plain celery crackers i fan \n",
      "Original summary: okay \n",
      "Predicted summary:  good\n",
      "\n",
      "\n",
      "Review: good stuff takes cook unleash black purple flood everything mix kind lil bag rice though \n",
      "Original summary: black flood \n",
      "Predicted summary:  good\n",
      "\n",
      "\n",
      "Review: dont candy country thought buy online afraid first read reviews might get soft recieved box candy bars ar soft fresh taste great flavores strong like bought local market spot worth buying seller \n",
      "Original summary: soft fresh \n",
      "Predicted summary:  great candy\n",
      "\n",
      "\n",
      "Review: love product taste nutritional benefits since eat almost every morning usually cook 4 servings time four cups water 1 cup mccann steelcut oatmeal 1 4 cup cranraisins 1 4 golden raisins cook 30 minutes stirring occasionally pour square pyrex dish cover refrigerate fully cold cut 4 section morning i able pull one section chop bit add vanilla soy milk microwave 2 minutes depending microwave power eating add 1 4 cup raw oatbran dash cinnamon enjoy highly recommend mccann steel cut oatmeal \n",
      "Original summary: flynn new mexico usa \n",
      "Predicted summary:  great product\n",
      "\n",
      "\n",
      "Review: pleased product lightning delivery i shopped thru amazon years i never negative experience \n",
      "Original summary: pleased \n",
      "Predicted summary:  great product\n",
      "\n",
      "\n",
      "Review: like mix time shorter everything need chicken curry made scratch hot mix spice mixes use like leery heat would suggest using 1 4 1 2 packet first want hotter next time increase amount i surprised price get mixes locally 99 cents box might want check seller quantity price \n",
      "Original summary: good mix time ingredients homemade \n",
      "Predicted summary:  good stuff\n",
      "\n",
      "\n",
      "Review: really like potato snacks tried many like one however felt report experience worst potato snacks ever tried taste like potatoes also bland well put way received case 12 3oz bags opened one bag ate half bag rest throw even inflict coworkers product leaving break room free instead plan using bags shipping protection fill empty space inside boxes outgoing right folks packing material excess bags smart fries good \n",
      "Original summary: eat potato snacks potato flavor \n",
      "Predicted summary:  good\n",
      "\n",
      "\n",
      "Review: amazing fresh vanilla beans shipped quickly packaged nicely killer deal compared local grocery stores definitely repeat customer \n",
      "Original summary: amazing \n",
      "Predicted summary:  great beans\n",
      "\n",
      "\n",
      "Review: eaten many nut trails mixes life ginger mix amazing sweetness chocolate chips dried fruit accented zing ginger amazing mix \n",
      "Original summary: ginger wild \n",
      "Predicted summary:  best ginger snaps ever\n",
      "\n",
      "\n",
      "Review: trying ice tea turned tea order refreshing perfect summer think sweet \n",
      "Original summary: new favorite \n",
      "Predicted summary:  great tea\n",
      "\n",
      "\n",
      "Review: 100 calories illy cappucino great treat thr balance sweetness coffee creaminess milk br br convenience great price i would rather get iced latte local coffee place serving size fairly small basically size 3 4s soda pretty small coffee drink fan well portability pretty great would good grabbing hurry headed picnic sort day somewhere need bring coffee price lower i would definitely keep stashed fridge i continue get coffee road \n",
      "Original summary: pricey tasty \n",
      "Predicted summary:  great coffee\n",
      "\n",
      "\n",
      "Review: husband enjoyed basket filled many different candies past hard time splitting though \n",
      "Original summary: birthday cake unique candy selection \n",
      "Predicted summary:  great gift\n",
      "\n",
      "\n",
      "Review: making almond milk 6 months taken dial make way like able get taste right issues consistency filtering milk jelly strainer bag good effect pain decided try nut bag whim cut workload half gave great results one quick pour hot milk strainer came soy milk maker pour results nut bag give good squeeze holes seem perfect size job glad decided give product go \n",
      "Original summary: great product \n",
      "Predicted summary:  great product\n",
      "\n",
      "\n",
      "Review: purchased replace longer available paula oil dressing cilantro lime used use mexican salads since sophia dressing ingredients hopeful would taste somthing like wrong husband one salad refused eat never got around using whenever greek mexican salad always another dressing i would rather recently cleaned refrigerator pantry trying get rid things use space tasted dressing flavors seem go greek food thought horrible immediately threw open bottle 5 still remaining pantry i sorry purchase 6 expensive mistake \n",
      "Original summary: sour taste greek \n",
      "Predicted summary:  worst salad dressing ever\n",
      "\n",
      "\n",
      "Review: really enjoy tea night substitute camomile decaf worry staying late \n",
      "Original summary: vanilla nut creme black tea decaf \n",
      "Predicted summary:  decaf tea\n",
      "\n",
      "\n",
      "Review: excellent convenient super healthy product sprouted grains tremendous nutrition digestibility sprouting activates enzymes help release absorb vitamins enhancing healthy fiber rich brown rice even satisfied quality taste rice nuke minute microwave steaming fresh perfectly cooked brown rice br br price amazon great usually whole foods another organic store box around 2 2 25 buying bulk saves br br would great work lunch except portion size bit large usually steam half save half freezer fridge perfect two people one little much mini portions rice i would snap dozen \n",
      "Original summary: excellent fresh tasty perfectly steamed \n",
      "Predicted summary:  great product\n",
      "\n",
      "\n",
      "Review: product cheap tastes delicious easy make give four stars reasons br br however high sodium 510 mg 21 daily value sodium also made china land melamine laced human pet food buying reasons bought japanese soup item originally advertised business since wished would mentioned long product manufactured china \n",
      "Original summary: love flavor hate salt made china \n",
      "Predicted summary:  good product\n",
      "\n",
      "\n",
      "Review: purchased one one day really enjoyed found amazon ordered flavor favorite coconut bars taste great like protein natural bars tried past would recommend bars quick snack work even breakfast \n",
      "Original summary: great natural bar \n",
      "Predicted summary:  great taste\n",
      "\n",
      "\n",
      "Review: candies good painful eat fewer br four five time also get shaky supply gets low br love \n",
      "Original summary: werther original hard candies utterly delicious awfully addictive \n",
      "Predicted summary:  great candy\n",
      "\n",
      "\n",
      "Review: wellness super5mix high quality dog food yes costs junk buy wal mart things life get pay wellness keeps beagle regular indigestion diarrhea i tried switching cheaper brands leave gassy listless constipated dog crazy taste course would prefer canned even better table scraps eat wellness keeps healthy br br highly recommended \n",
      "Original summary: high quality dog food worth price \n",
      "Predicted summary:  excellent dog food\n",
      "\n",
      "\n",
      "Review: making number years love tastes like something wall paper paste sticks hungry later morning nice bowl steel cut oats br learned make rice cooker great oats nearly every day love \n",
      "Original summary: best oatmeal love \n",
      "Predicted summary:  best oatmeal\n",
      "\n",
      "\n",
      "Review: husband chocoholic gets desperate supply chocolate brownies runs low used able find grocery stores understand carry except people tend use mixes nowadays nice supply hand worry find br br thanks amazon com \n",
      "Original summary: easy perfect chocolate lovers must cook \n",
      "Predicted summary:  great chocolate\n",
      "\n",
      "\n",
      "Review: love cereal fact love much like keeping anywhere 10 20 boxes different kinds house find good deal stock regular cheerios ok one favorites kind boring much taste also sweet like cereal little sweet honey nut variety cheerios better \n",
      "Original summary: ok cereal \n",
      "Predicted summary:  great cereal\n",
      "\n",
      "\n",
      "Review: one best energy drinks ever actually gets going motivated work said done i tired good work effects drink br energy drinks far gets going first couple hours instantly body crashes br also tastes great \n",
      "Original summary: epic \n",
      "Predicted summary:  great energy drink\n",
      "\n",
      "\n",
      "Review: could eat devils food cake day i would big would require zip code i darn glad folks nabisco came snackwell devils food cookies real deal little devils food cake surrounded marshmellow layer covered chocolate zero fat zero cholesterol 50 calories little snack sure taste like fat cholesterol tastes like sheer indulgence always good thing br br always keep box around sweet tooth starts take i needing guilt free pleasure snackwell devils food cookies devilishly good br mikels esq \n",
      "Original summary: thank goodness little tasty snacks \n",
      "Predicted summary:  tasty treat\n",
      "\n",
      "\n",
      "Review: casina rossa truffle salt 3 5oz br br friend gave gift wonderful gift great sprinkled fresh veggies salads good i tempted sprinkle cereal really good anyone samples immediately gets smile face ideas could put \n",
      "Original summary: truffle salt \n",
      "Predicted summary:  great gift\n",
      "\n",
      "\n",
      "Review: three packages six shipped came broken product exposed disposed \n",
      "Original summary: head baker town center breads inc \n",
      "Predicted summary:  arrived broken\n",
      "\n",
      "\n",
      "Review: first time tasting opened air tight package right followed direction 2tbs water 1tbs pb actually tasty sprinkled powder elderly moms pancake batter enjoyed eat peanut butter right jar tablesppon product excellent related far less fat versatile put bit vanilla yogurt also cant wait explore ways use i glad made purchase received second order pb2 could pleased product since first purchase use found many ways enjoy find weight watcher friendly also actually mixed powder moms steel cut hot oats cereal really enjoys \n",
      "Original summary: pb2 powder \n",
      "Predicted summary:  great product\n",
      "\n",
      "\n",
      "Review: bought product calm heart palpitations caused magnesium deficiency taking directed couple weeks palpitations pretty well stopped continue take daily \n",
      "Original summary: works \n",
      "Predicted summary:  works\n",
      "\n",
      "\n",
      "Review: opened set expire another year awful rancid smelling rancid grains toxic terribly irresponsible let problem persist food made babies buy products \n",
      "Original summary: horribly rancid \n",
      "Predicted summary:  rancid\n",
      "\n",
      "\n",
      "Review: tasty snack hit spot eat plain crumble toss salads salty satisfying \n",
      "Original summary: tasty snack \n",
      "Predicted summary:  tasty\n",
      "\n",
      "\n",
      "Review: colleague work gave one tea bags br br like herbal teas one really unique br really nice lingering flavors tongue every sip br first tangy orangey sensation followed suttle sweetness married spicy masala kick shortly br sweetness lingers around back tongue afterwords br br nothing really mexican neither chilis spiciness comes common spices used masala tea br br sounds like something might like highly recommend try \n",
      "Original summary: lots flavours sip \n",
      "Predicted summary:  like\n",
      "\n",
      "\n",
      "Review: stuff tastes amazing made first smoothie today best tasting smoothie ive ever also came super fast bought two days ago amazon com received today br br smoothie recipe br br 2 tbsps nutiva hemp protein br 1 cup water br 1 cup diced raw acorn squash br 1 banana br 1 tbsp honey br 1 cup soy milk \n",
      "Original summary: awesome stuff \n",
      "Predicted summary:  best\n",
      "\n",
      "\n",
      "Review: i hog heaven cook kinds really delicious stuff using bisquick i never happy long time great product great price packed real nice shipping could happier website listed package leads many recipes make using bisquick \n",
      "Original summary: bisquick complete mix buttermilk \n",
      "Predicted summary:  delicious\n",
      "\n",
      "\n",
      "Review: really like virginia diner unsalted peanuts decided give flavor try name old bay refers seasoning name normally associated seafood familiar seasoning idea expect nothing like bay leaf br br ever nabisco doo dads snack mix peanuts familiar taste almost like peanuts mix wanted make chex party mix nuts would perfect br br like virginia diner products nuts come foil seal tightly depressed contents vacuum packed break seal hear air rush type packaging helps insure nuts fresh crunchy br br nuts small mostly halves fragments many \n",
      "Original summary: fresh tasty \n",
      "Predicted summary:  good nuts\n",
      "\n",
      "\n",
      "Review: thing great one cup waste gives great aroma works advertised \n",
      "Original summary: nice \n",
      "Predicted summary:  great\n",
      "\n",
      "\n",
      "Review: crackers tastey chocolate creamy goes perfect top cracker right combination taste taste chocolatey point kind choke perfect forget cup milk \n",
      "Original summary: deliciously recommended \n",
      "Predicted summary:  delicious\n",
      "\n",
      "\n",
      "Review: gyokuro green tea tastes really good pleasant clean fragrance similar gyokuro teas enjoyed regularly drink gyokuro teas like one gyokuro teas naturally without bitterness sencha teas naturally sweet br br make tea hot water cooled hot boiling hot touch otherwise bitterness comes gyokuro teas add little room temperature water boiling hot water bring temperature br br made many infusions tea three table spoons tea japanese style tea pot kyusu ceramic sieve use gyokuro teas found rishi tea dens tea good japanese tea pot sources brewed gyokuro green tea really like tea expect order later \n",
      "Original summary: gyokuro green tea excellent flavors fragrance \n",
      "Predicted summary:  good tea\n",
      "\n",
      "\n",
      "Review: super small super crumbly chocolate sticks little tray granola worth 80 calories put calorie tracker eat one buying another box \n",
      "Original summary: one box ever buy \n",
      "Predicted summary:  good\n",
      "\n",
      "\n",
      "Review: bought candy teenage son addicted sour candy says nothing sour enough definitely sour rest us spit course never even made face favorite \n",
      "Original summary: really sour \n",
      "Predicted summary:  sour\n",
      "\n",
      "\n",
      "Review: old standard never refused obviously yummy dogs small enough become chunky getting rewarded regarding high fructose corn syrup concern yesterday eat balanced diet feed pet balanced diet nobody would deluded thinking meal worry whether sugar comes cane corn let us get life stop obsessing health scare day least eating chicken strips rawhide china check packages folks \n",
      "Original summary: perfect little treat reward \n",
      "Predicted summary:  yummy\n",
      "\n",
      "\n",
      "Review: women bean project spicy split pea soup one comfort foods hated turned nose child one day decided taste wow wonder made dislike child although attractive looking soup certainly one tastiest bean project soups easy prepare best part come perfect seasonings soup makes feel cozy satisfied spicy much chase water enough override blandness pea \n",
      "Original summary: easiest best tasting split pea soup \n",
      "Predicted summary:  soup\n",
      "\n",
      "\n",
      "Review: mix spoonful wellness food topper mixer wellness core dry food dogs love healthy grain free makes feel confident getting everything need diets dogs eat every bit food scheduled feedings super beneficial potty training new rescue dog would highly recommend wellness everyone go wrong stuff \n",
      "Original summary: love \n",
      "Predicted summary:  excellent dog food\n",
      "\n",
      "\n",
      "Review: happy find ginger altoids even though would normally buy twelve boxes searched stores avail used buy couple retail stores best breath digestion feel little nauseated put one two mouth really help \n",
      "Original summary: glad find \n",
      "Predicted summary:  happy find\n",
      "\n",
      "\n",
      "Review: bought hazelnut paste nocciola spread local shop palm cost florida taste excellent healthier nutella \n",
      "Original summary: awesome taste \n",
      "Predicted summary:  good\n",
      "\n",
      "\n",
      "Review: probably least 4th time buying product dog loves also cant beat price plus get free shipping spend enough always buy least 3 bags doubts give try promise regret \n",
      "Original summary: awesome product \n",
      "Predicted summary:  great product\n",
      "\n",
      "\n",
      "Review: cat went right food hesitation rate 4 5 stars canned food low protein fats use main pet diet recommend product caveat supplement additional protein fats dry food would good \n",
      "Original summary: cat seems pleased \n",
      "Predicted summary:  cat loves\n",
      "\n",
      "\n",
      "Review: longtime fan nong shim excellent popular spicy \n",
      "Original summary: something different oily \n",
      "Predicted summary:  great taste\n",
      "\n",
      "\n",
      "Review: one rum essence use never dissapointed amazing dr oetker rum essence smells like childhood like cakes cookies parents use make great enhancement already bought products even make cakes scratch add chocolate frosting buy make special treat everyone taste wonder special ingredient fabulous \n",
      "Original summary: great product \n",
      "Predicted summary:  best\n",
      "\n",
      "\n",
      "Review: i tried three different flavors starbucks natural fusions coffee far even though love cinnamon sometimes add ground cinnamon coffee grounds flavor regular coffee much care flavor starbucks cinnamon flavored coffee vanilla flavor pretty good however though say like enough buy real winner three caramel flavor drinking make think eating caramel candy pleasing flavor whether consumed hot cold flavor three purchased repeatedly purchase br br underlying coffee flavor particular flavor think suffices say tastes like medium roasted starbucks coffee happen like starbucks coffee beans know people care brand fan starbucks roast flavor consistent come expect \n",
      "Original summary: good great flavor \n",
      "Predicted summary:  good coffee\n",
      "\n",
      "\n",
      "Review: wanted get variety pack k cups thought i would try even though bit pricey thought would worth extra bucks get try 20 different flavors reason purchased buyer specifically wanted extra bold k cups knew would double flavors etc disappointed find almost half extra bold glad arrived much earlier expected delivery date \n",
      "Original summary: extra bold \n",
      "Predicted summary:  disappointed\n",
      "\n",
      "\n",
      "Review: amazing terms taste get want snack tempting br way sell one serving version starbucks labeled sahale snacks written fine print back get lot value buying amazon sahale directly \n",
      "Original summary: delicious \n",
      "Predicted summary:  delicious\n",
      "\n",
      "\n",
      "Review: apprehensive ordering went special reviews dented cans ordered november 2010 single dented case thanks previous reviewers must brought issue attention \n",
      "Original summary: dented issue resolved \n",
      "Predicted summary:  dented cans\n",
      "\n",
      "\n",
      "Review: smell truffle wonderful escapes packaging get bottle lovely aroma salt delicious simply broiled steamed veggies asparagus broccoli good high quality salt truffle yum \n",
      "Original summary: need sight find \n",
      "Predicted summary:  delicious\n",
      "\n",
      "\n",
      "Review: eating specific type food two years find much cheaper purchase amazon happy auto delivery product \n",
      "Original summary: love food \n",
      "Predicted summary:  great product\n",
      "\n",
      "\n",
      "Review: started using wellness core ocean 3 months ago english bulldogs work hard make sure eat best food available even though number co workers veterinary hospital skeptical told report back let colleagues know results impressed food dogs confined house brutal arizona summers heavy summer long year coats spectacular swollen tail folds face wrinkles shedding minimum bought food amazon try next month price br recall nothing diamond foods core separate food effected recall never made partnership best get hysterical something simply going effect people love frighten others br almost 30 years looking skin coats i never seen results like buy large selection foods deep discount perk veterinary hospital choose road br report back shipment quality get br andrea \n",
      "Original summary: excellent food pet professional \n",
      "Predicted summary:  great food\n",
      "\n",
      "\n",
      "Review: i crossfitting 6 months started first paleo challenge never knew gluten free soy free dairy free could taste good pecan pie flavor soo delish wait try flavors \n",
      "Original summary: love love love pecan pie flavor \n",
      "Predicted summary:  delicious\n",
      "\n",
      "\n",
      "Review: kid practically grew knott berry farm loved everything place boysenberries hold special place heart theme park saw red leaf tea carried boysenberry matcha try br br berry well mrs knott proud tastes authentically boysenberry might plucked berries vine pureed stirred puree matcha except much smoother matcha tastes rich vegetative notes butter background deliciously creamy would make great dessert substitute br br another exceptional matcha red leaf tea \n",
      "Original summary: mrs knott would proud \n",
      "Predicted summary:  delicious\n",
      "\n",
      "\n",
      "Review: puff call baby crack bad kid always quick easy snack flavor favorite still one son enjoys \n",
      "Original summary: always hit \n",
      "Predicted summary:  love\n",
      "\n",
      "\n",
      "Review: eden pizza pasta sauce far flavorful market ran tried muir glen compare authentic italian fresh flavors eden ordering second case problem dented cans far gluten free diet quick meal conte ravioli layered eden sauce cheeses choice gf lasagna \n",
      "Original summary: superb taste \n",
      "Predicted summary:  great taste\n",
      "\n",
      "\n",
      "Review: steaz regular energy drink quite tasty enjoy steaz ingenious idea coming reduced calorie energy drink approximately half calories regular energy drink made less sugar regular purchaser old formulation steaz diet beverage decided cancel reduced calorie version started making zero calorie one product like terrible aftertaste one also sweetener erythritol believe contributes foul taste combination stevia would seriously suggest thinking purchase beverage tried one sorry steaz kept old diet energy drink instead replacing one people taste buds zero stars zero calorie drink \n",
      "Original summary: steaz lo cal energy horrible \n",
      "Predicted summary:  taste like energy\n",
      "\n",
      "\n",
      "Review: love vita coco thats decided go product however received package totally disappointed opened 4 packs used usually every pack two seals one top one surface pack one surface broken suggesting refilled original vita coco highly advise seller please avoid cost \n",
      "Original summary: vita coco usually great avoid seller \n",
      "Predicted summary:  good product bad packaging\n",
      "\n",
      "\n",
      "Review: i big fan illy issimo cappuccino long time subscribed amazon received one \n",
      "Original summary: love \n",
      "Predicted summary:  cappuccino\n",
      "\n",
      "\n",
      "Review: mac cheese terrific following box instructions however follow simple instructions promise love kids gobble cook noodles according package instructions set aside melt 2 tbs butter still warm pot add boxed cheese powder mix 1 2 cup shredded mild chedder cheese milk keep milk may want add stir together low heat combined consistency creamy velveeta cheese add noodles stir seems dry add little milk much get soupy enjoy \n",
      "Original summary: tastes great simple added ingredients \n",
      "Predicted summary:  great quick meal\n",
      "\n",
      "\n",
      "Review: i taken magnesium years quality brands know helpful health problems tried brand time amazed quickly drinking felt calm relaxed \n",
      "Original summary: excellent product \n",
      "Predicted summary:  great product\n",
      "\n",
      "\n",
      "Review: flavor fruit enclosed outstanding bluberry drawback blanket encloses fruit bit thick unlike companys fig bars pastry textured flavored cane syrup fruit juice 150 cal per bar low fat carbs 29 bad considering great taste \n",
      "Original summary: healthy surprise \n",
      "Predicted summary:  great taste\n",
      "\n",
      "\n",
      "Review: supposed sweet hot beef jerky sweet hot even hot put entire package mouth chew way going taste hot beef jerky hotness small package sweet sour potato chips ordered sweet beef jerky would get 5 stars want sweet beef jerky wanted sweet hot beef jerky 3 stars least edible probably gift friend big disclaimer hot \n",
      "Original summary: half ordered \n",
      "Predicted summary:  ordered\n",
      "\n",
      "\n",
      "Review: either like tim burton fall latter beetlejuice big deal despite huge following burton following funny moments type like alice wonderland type films trippy think highlight robert goulet goulet robert gouleeeeeeeeet wionna ryder stand baldwin \n",
      "Original summary: beetlejuice \n",
      "Predicted summary:  beetlejuice\n",
      "\n",
      "\n",
      "Review: maybe one favorite kind bars enjoy grabbing one chocolate craving comes afternoon bar must snacks definatly keep bars coming every month \n",
      "Original summary: delicous \n",
      "Predicted summary:  kind plus cranberry almond bars\n",
      "\n",
      "\n",
      "Review: i chocolate fanatic chips awesome everybody tastes love br perfect combination sweet salty crunchy \n",
      "Original summary: best chips ever \n",
      "Predicted summary:  best chips ever\n",
      "\n",
      "\n",
      "Review: hazelnut coffee mate creamer starts day smile taste comparision best heck rest \n",
      "Original summary: hazelnut coffee mate creamer \n",
      "Predicted summary:  best coffee\n",
      "\n",
      "\n",
      "Review: amazon rescue love mushroom top ramen amazon place i able find stopped selling store 10 years ago thought would never get taste wonderful flavor thanks amazon \n",
      "Original summary: looking around \n",
      "Predicted summary:  best\n",
      "\n",
      "\n",
      "Review: i always liked cereal kid kids love eat breakfast snacks thing i noticed seem get soggier faster apple cinnamon cheerios basically taste \n",
      "Original summary: apple jacks \n",
      "Predicted summary:  great cereal\n",
      "\n",
      "\n",
      "Review: baby loves earth best carrots everything else food exceptional quality know goes baby mouth try first hate peas e b first peas absolutely sensational carrots beat compared earth best baby food gerbers gerbers organic simply comarison gerbers food especially green vegetables simply bland bit bitter tell wonderful maybe i trying e b 1st stage baby foods good fact i already stocked variety packs 2nd stage foods also conveniently available amazon com great price plus free shipping love baby know want know delicious fruits vegetables buy stuff \n",
      "Original summary: best baby food ever \n",
      "Predicted summary:  best baby food ever\n",
      "\n",
      "\n",
      "Review: coffee worst i ever tasted like strong bitter stick kona blend nantucket blend even breakfast blend \n",
      "Original summary: bitter \n",
      "Predicted summary:  bitter\n",
      "\n",
      "\n",
      "Review: short sweet beef jerky quite sweet compared commercial jerky one ounce portion seven 7 grams carbohydrates low carb diet significant amount br br notice natural jerkies tend use sugar perhaps helps texture make jerky little less likely dry br br show label amazon makes available make mistake buy impulsively br br trying find beef jerky without preservatives animals raised without antibiotics etc product acceptable little sweet high protein diet avoiding carbohydrates beware \n",
      "Original summary: sugar beef jerky \n",
      "Predicted summary:  good jerky\n",
      "\n",
      "\n",
      "Review: canidae grain free als salmon formula one foods rotate two keeshonden girls love taste digestive problems canidae grain free food rated highly dog food rating sources found dogs favor try \n",
      "Original summary: great food grrrrrrreat taste \n",
      "Predicted summary:  great food\n",
      "\n",
      "\n",
      "Review: yes might pay little per cup also worry getting stuck 23 k cups never use pumpkin spice anyone received ten different flavors variety pack winners least know repackaged item mine packed brown paper bag keep mind matters i order \n",
      "Original summary: fantastic k cup variety \n",
      "Predicted summary:  great variety\n",
      "\n",
      "\n",
      "Review: much better powders refrigerated lasts good long complaint take pump putting get last bit left bottom \n",
      "Original summary: good flavor \n",
      "Predicted summary:  great product\n",
      "\n",
      "\n",
      "Review: liked organic dont worry chemicals additives taste used water milk try see even added cinnamon sugar go considering using baking \n",
      "Original summary: great tasting drink caution \n",
      "Predicted summary:  good\n",
      "\n",
      "\n",
      "Review: almost 2 year old doberman past year managed tear kong apart 4 days ago got hurley made west paw design already chunks coming however first toy ever bought chews everyday marks used buy refills put random treats loves dog owner find toy last toy want lasted longer kong versatile enjoyable boy disappointed toy \n",
      "Original summary: better kong west paw \n",
      "Predicted summary:  great toy\n",
      "\n",
      "\n",
      "Review: flavor really odd discourage trying products company good \n",
      "Original summary: like sauce \n",
      "Predicted summary:  good\n",
      "\n",
      "\n",
      "Review: make iced green tea find drinking water bearable rather enjoyable green tea healthier non water beverages love green tea either i tried various flavored green teas fruit flavored ones usually result sort sicky sweet fruitiness mixed dirt flavor green tea one however tolerably flavored green tea i found far almost enjoyable even \n",
      "Original summary: drinkable green tea \n",
      "Predicted summary:  green tea\n",
      "\n",
      "\n",
      "Review: card carrying carnivore said also laziest man side lebowski even chewing much work given primal strips heaven texture close meat consistently chewable none gristle often associated beef jerky spam gooey real beef jerky makes jaw ache end spitting gristle frequently perfect replaced meat soylent brown type food i would happily leave real thing behind i sure health benefits guess good i seen people healthier eating figure nutritious anyway tastes robust perfect texture perfect snack \n",
      "Original summary: better meat says carnivore \n",
      "Predicted summary:  meat meat\n",
      "\n",
      "\n",
      "Review: marketing propaganda product wrong instant expresso count simply instant coffee \n",
      "Original summary: good expresso \n",
      "Predicted summary:  instant coffee\n",
      "\n",
      "\n",
      "Review: pero wonderful caffeine free also low calories makes great coffee substitute also almost like hot chocolate add creamer sweetener \n",
      "Original summary: pero awesome caffiene free needs \n",
      "Predicted summary:  great coffee\n",
      "\n",
      "\n",
      "Review: greasy salty like traditional chip actually tend satiating sweet snack salty one least sweet potato chip variety handful sufficient pick relatively wholesome around 100 calories sugars low even though feel like something slightly sweet really going spike sugars think around 3g per serving overall great little snack feel good eating \n",
      "Original summary: delicious little bit nutritious \n",
      "Predicted summary:  tasty snack\n",
      "\n",
      "\n",
      "Review: favorite jerk sauce sent correctly speedily well \n",
      "Original summary: great taste \n",
      "Predicted summary:  great sauce\n",
      "\n",
      "\n"
     ]
    }
   ],
   "source": [
    "for i in range(0,100):\n",
    "    print(\"Review:\",seq2text(x_tr[i]))\n",
    "    print(\"Original summary:\",seq2summary(y_tr[i]))\n",
    "    print(\"Predicted summary:\",decode_sequence(x_tr[i].reshape(1,max_text_len)))\n",
    "    print(\"\\n\")"
   ]
  }
 ],
 "metadata": {
  "kaggle": {
   "accelerator": "gpu",
   "dataSources": [
    {
     "datasetId": 18,
     "sourceId": 2157,
     "sourceType": "datasetVersion"
    },
    {
     "datasetId": 3836404,
     "sourceId": 6645972,
     "sourceType": "datasetVersion"
    },
    {
     "datasetId": 4059198,
     "sourceId": 7052770,
     "sourceType": "datasetVersion"
    }
   ],
   "dockerImageVersionId": 29956,
   "isGpuEnabled": true,
   "isInternetEnabled": true,
   "language": "python",
   "sourceType": "notebook"
  },
  "kernelspec": {
   "display_name": "Python 3",
   "language": "python",
   "name": "python3"
  },
  "language_info": {
   "codemirror_mode": {
    "name": "ipython",
    "version": 3
   },
   "file_extension": ".py",
   "mimetype": "text/x-python",
   "name": "python",
   "nbconvert_exporter": "python",
   "pygments_lexer": "ipython3",
   "version": "3.7.6"
  },
  "papermill": {
   "duration": 11076.001216,
   "end_time": "2023-11-27T09:28:48.879207",
   "environment_variables": {},
   "exception": null,
   "input_path": "__notebook__.ipynb",
   "output_path": "__notebook__.ipynb",
   "parameters": {},
   "start_time": "2023-11-27T06:24:12.877991",
   "version": "2.1.0"
  }
 },
 "nbformat": 4,
 "nbformat_minor": 4
}
